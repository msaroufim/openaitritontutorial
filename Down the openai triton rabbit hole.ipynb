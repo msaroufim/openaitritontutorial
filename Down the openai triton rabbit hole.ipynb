{
 "cells": [
  {
   "cell_type": "markdown",
   "id": "a496b16e",
   "metadata": {},
   "source": [
    "# CUDA for DUM DUMS\n",
    "\n",
    "openai/triton seems to be the new hotness for efficiently running jupyter kernels\n",
    "\n",
    "I tried reading the paper and barely understood a single word: prefecting, SRAM, linearization, blocks, warps, scheduling blcoks on warps and torps on warps"
   ]
  },
  {
   "cell_type": "code",
   "execution_count": 2,
   "id": "6af76942",
   "metadata": {},
   "outputs": [],
   "source": [
    "import torch\n",
    "import triton\n",
    "import triton.language as tl\n",
    "\n",
    "def add(x: torch.Tensor, y: torch.Tensor):\n",
    "    # We need to preallocate the output\n",
    "    output = torch.empty_like(x)\n",
    "    n_elements = output.numel()\n",
    "    \n",
    "    # grid denotes the number of kernels that can run in parallel\n",
    "    # it's a function of the total number of the length of the vector / block size\n",
    "    # block size is the number of concurrent elements we can handle at once, block because it works in multiple dimensions\n",
    "    grid = lambda meta: (triton.cdiv(n_elements, meta['BLOCK_SIZE']),)\n",
    "    \n",
    "    # x, y, output are actually pointers to the tensors, think of it as copying by reference\n",
    "    add_kernel[grid](x, y, output, n_elements, BLOCK_SIZE=1024)\n",
    "    # We return a handle to output but, since `torch.cuda.synchronize()` hasn't been called, the kernel is still\n",
    "    # running asynchronously at this point.\n",
    "    return output"
   ]
  },
  {
   "cell_type": "code",
   "execution_count": 3,
   "id": "4b5fd93b",
   "metadata": {},
   "outputs": [],
   "source": [
    "from rich import inspect"
   ]
  },
  {
   "cell_type": "code",
   "execution_count": 7,
   "id": "94787133",
   "metadata": {},
   "outputs": [
    {
     "data": {
      "text/plain": [
       "function"
      ]
     },
     "execution_count": 7,
     "metadata": {},
     "output_type": "execute_result"
    }
   ],
   "source": [
    "type(add)"
   ]
  },
  {
   "cell_type": "markdown",
   "id": "7e2425ff",
   "metadata": {},
   "source": [
    "This is easy enough and if we run this function through a debubgger we'll know everything we need to know. `numel()` is just a function to get the number of elements. We need an output that's of the same size as the input because that's what vector addition is\n",
    "\n",
    "Where things get confusing is the `add_kernel[]()` part, so it's a dictionary? That I'm indexing with a `grid` and that `grid` is a `lambda` function that divides the `n_elements` by a block size?\n",
    "\n",
    "So let's step through this in a debugger by running something. Whoops turns out we can't actually trigger a breakpoint inside of `add_kernel` so what the heck is going on? What is a program? What's a block start? Offset? Masks. So confused :O\n"
   ]
  },
  {
   "cell_type": "code",
   "execution_count": 8,
   "id": "5f3d048f",
   "metadata": {},
   "outputs": [],
   "source": [
    "@triton.jit\n",
    "def add_kernel(\n",
    "    x_ptr,  # *Pointer* to first input vector\n",
    "    y_ptr,  # *Pointer* to second input vector\n",
    "    output_ptr,  # *Pointer* to output vector\n",
    "    n_elements,  # Size of the vector\n",
    "    BLOCK_SIZE: tl.constexpr,  # Number of elements each program should process\n",
    "                 # NOTE: `constexpr` so it can be used as a shape value\n",
    "):\n",
    "    # There are multiple 'program's processing different data. We identify which program\n",
    "    # we are here\n",
    "    pid = tl.program_id(axis=0)  # We use a 1D launch grid so axis is 0\n",
    "    # This program will process inputs that are offset from the initial data.\n",
    "    # for instance, if you had a vector of length 256 and block_size of 64, the programs\n",
    "    # would each access the elements [0:64, 64:128, 128:192, 192:256].\n",
    "    # Note that offsets is a list of pointers\n",
    "    block_start = pid * BLOCK_SIZE\n",
    "    offsets = block_start + tl.arange(0, BLOCK_SIZE)\n",
    "    # Create a mask to guard memory operations against out-of-bounds accesses\n",
    "    mask = offsets < n_elements\n",
    "    # Load x and y from DRAM, masking out any extra elements in case the input is not a\n",
    "    # multiple of the block size\n",
    "    x = tl.load(x_ptr + offsets, mask=mask)\n",
    "    y = tl.load(y_ptr + offsets, mask=mask)\n",
    "    output = x + y\n",
    "    # Write x + y back to DRAM\n",
    "    tl.store(output_ptr + offsets, output, mask=mask)"
   ]
  },
  {
   "cell_type": "code",
   "execution_count": 9,
   "id": "d63d8c85",
   "metadata": {},
   "outputs": [
    {
     "data": {
      "text/plain": [
       "triton.code_gen.JITFunction"
      ]
     },
     "execution_count": 9,
     "metadata": {},
     "output_type": "execute_result"
    }
   ],
   "source": [
    "type(add_kernel)"
   ]
  },
  {
   "cell_type": "code",
   "execution_count": 11,
   "id": "8f729a96",
   "metadata": {
    "scrolled": true
   },
   "outputs": [
    {
     "data": {
      "text/html": [
       "<pre style=\"white-space:pre;overflow-x:auto;line-height:normal;font-family:Menlo,'DejaVu Sans Mono',consolas,'Courier New',monospace\"><span style=\"color: #000080; text-decoration-color: #000080\">╭──────────────────────────── </span><span style=\"color: #800080; text-decoration-color: #800080; font-weight: bold\">JITFunction</span><span style=\"color: #000080; text-decoration-color: #000080; font-weight: bold\">(</span><span style=\"color: #000080; text-decoration-color: #000080\">__main__:add_kernel</span><span style=\"color: #000080; text-decoration-color: #000080; font-weight: bold\">)</span><span style=\"color: #000080; text-decoration-color: #000080\"> ─────────────────────────────╮</span>\n",
       "<span style=\"color: #000080; text-decoration-color: #000080\">│</span> <span style=\"color: #00ffff; text-decoration-color: #00ffff; font-style: italic\">def </span><span style=\"font-weight: bold\">(</span>*args, **kwargs<span style=\"font-weight: bold\">)</span>:                                                                    <span style=\"color: #000080; text-decoration-color: #000080\">│</span>\n",
       "<span style=\"color: #000080; text-decoration-color: #000080\">│</span>                                                                                           <span style=\"color: #000080; text-decoration-color: #000080\">│</span>\n",
       "<span style=\"color: #000080; text-decoration-color: #000080\">│</span>       <span style=\"color: #808000; text-decoration-color: #808000; font-style: italic\">annotations</span> = <span style=\"font-weight: bold\">{</span><span style=\"color: #008080; text-decoration-color: #008080; font-weight: bold\">4</span>: <span style=\"font-weight: bold\">&lt;</span><span style=\"color: #ff00ff; text-decoration-color: #ff00ff; font-weight: bold\">class</span><span style=\"color: #000000; text-decoration-color: #000000\"> </span><span style=\"color: #008000; text-decoration-color: #008000\">'triton.language.core.constexpr'</span><span style=\"font-weight: bold\">&gt;}</span>                         <span style=\"color: #000080; text-decoration-color: #000080\">│</span>\n",
       "<span style=\"color: #000080; text-decoration-color: #000080\">│</span>      <span style=\"color: #808000; text-decoration-color: #808000; font-style: italic\">arg_defaults</span> = <span style=\"font-weight: bold\">[</span>                                                                     <span style=\"color: #000080; text-decoration-color: #000080\">│</span>\n",
       "<span style=\"color: #000080; text-decoration-color: #000080\">│</span>                         <span style=\"font-weight: bold\">&lt;</span><span style=\"color: #ff00ff; text-decoration-color: #ff00ff; font-weight: bold\">class</span><span style=\"color: #000000; text-decoration-color: #000000\"> </span><span style=\"color: #008000; text-decoration-color: #008000\">'inspect._empty'</span><span style=\"font-weight: bold\">&gt;</span>,                                         <span style=\"color: #000080; text-decoration-color: #000080\">│</span>\n",
       "<span style=\"color: #000080; text-decoration-color: #000080\">│</span>                         <span style=\"font-weight: bold\">&lt;</span><span style=\"color: #ff00ff; text-decoration-color: #ff00ff; font-weight: bold\">class</span><span style=\"color: #000000; text-decoration-color: #000000\"> </span><span style=\"color: #008000; text-decoration-color: #008000\">'inspect._empty'</span><span style=\"font-weight: bold\">&gt;</span>,                                         <span style=\"color: #000080; text-decoration-color: #000080\">│</span>\n",
       "<span style=\"color: #000080; text-decoration-color: #000080\">│</span>                         <span style=\"font-weight: bold\">&lt;</span><span style=\"color: #ff00ff; text-decoration-color: #ff00ff; font-weight: bold\">class</span><span style=\"color: #000000; text-decoration-color: #000000\"> </span><span style=\"color: #008000; text-decoration-color: #008000\">'inspect._empty'</span><span style=\"font-weight: bold\">&gt;</span>,                                         <span style=\"color: #000080; text-decoration-color: #000080\">│</span>\n",
       "<span style=\"color: #000080; text-decoration-color: #000080\">│</span>                         <span style=\"font-weight: bold\">&lt;</span><span style=\"color: #ff00ff; text-decoration-color: #ff00ff; font-weight: bold\">class</span><span style=\"color: #000000; text-decoration-color: #000000\"> </span><span style=\"color: #008000; text-decoration-color: #008000\">'inspect._empty'</span><span style=\"font-weight: bold\">&gt;</span>,                                         <span style=\"color: #000080; text-decoration-color: #000080\">│</span>\n",
       "<span style=\"color: #000080; text-decoration-color: #000080\">│</span>                         <span style=\"font-weight: bold\">&lt;</span><span style=\"color: #ff00ff; text-decoration-color: #ff00ff; font-weight: bold\">class</span><span style=\"color: #000000; text-decoration-color: #000000\"> </span><span style=\"color: #008000; text-decoration-color: #008000\">'inspect._empty'</span><span style=\"font-weight: bold\">&gt;</span>                                          <span style=\"color: #000080; text-decoration-color: #000080\">│</span>\n",
       "<span style=\"color: #000080; text-decoration-color: #000080\">│</span>                     <span style=\"font-weight: bold\">]</span>                                                                     <span style=\"color: #000080; text-decoration-color: #000080\">│</span>\n",
       "<span style=\"color: #000080; text-decoration-color: #000080\">│</span>         <span style=\"color: #808000; text-decoration-color: #808000; font-style: italic\">arg_names</span> = <span style=\"font-weight: bold\">[</span><span style=\"color: #008000; text-decoration-color: #008000\">'x_ptr'</span>, <span style=\"color: #008000; text-decoration-color: #008000\">'y_ptr'</span>, <span style=\"color: #008000; text-decoration-color: #008000\">'output_ptr'</span>, <span style=\"color: #008000; text-decoration-color: #008000\">'n_elements'</span>, <span style=\"color: #008000; text-decoration-color: #008000\">'BLOCK_SIZE'</span><span style=\"font-weight: bold\">]</span>          <span style=\"color: #000080; text-decoration-color: #000080\">│</span>\n",
       "<span style=\"color: #000080; text-decoration-color: #000080\">│</span>         <span style=\"color: #808000; text-decoration-color: #808000; font-style: italic\">bin_cache</span> = <span style=\"font-weight: bold\">{}</span>                                                                    <span style=\"color: #000080; text-decoration-color: #000080\">│</span>\n",
       "<span style=\"color: #000080; text-decoration-color: #000080\">│</span>        <span style=\"color: #808000; text-decoration-color: #808000; font-style: italic\">cache_hook</span> = <span style=\"color: #800080; text-decoration-color: #800080; font-style: italic\">None</span>                                                                  <span style=\"color: #000080; text-decoration-color: #000080\">│</span>\n",
       "<span style=\"color: #000080; text-decoration-color: #000080\">│</span>         <span style=\"color: #808000; text-decoration-color: #808000; font-style: italic\">cache_key</span> = <span style=\"color: #008000; text-decoration-color: #008000\">'a13fe84bedaab4be158c7841ee3daf1b2-.-0-.-0--01e1cfad2157e0272927976a…</span> <span style=\"color: #000080; text-decoration-color: #000080\">│</span>\n",
       "<span style=\"color: #000080; text-decoration-color: #000080\">│</span>        <span style=\"color: #808000; text-decoration-color: #808000; font-style: italic\">constexprs</span> = <span style=\"font-weight: bold\">[</span><span style=\"color: #008080; text-decoration-color: #008080; font-weight: bold\">4</span><span style=\"font-weight: bold\">]</span>                                                                   <span style=\"color: #000080; text-decoration-color: #000080\">│</span>\n",
       "<span style=\"color: #000080; text-decoration-color: #000080\">│</span> <span style=\"color: #808000; text-decoration-color: #808000; font-style: italic\">do_not_specialize</span> = <span style=\"font-weight: bold\">[]</span>                                                                    <span style=\"color: #000080; text-decoration-color: #000080\">│</span>\n",
       "<span style=\"color: #000080; text-decoration-color: #000080\">│</span>              <span style=\"color: #808000; text-decoration-color: #808000; font-style: italic\">hash</span> = <span style=\"color: #008000; text-decoration-color: #008000\">'a13fe84bedaab4be158c7841ee3daf1b2-.-0-.-0--01e1cfad2157e0272927976a…</span> <span style=\"color: #000080; text-decoration-color: #000080\">│</span>\n",
       "<span style=\"color: #000080; text-decoration-color: #000080\">│</span>            <span style=\"color: #808000; text-decoration-color: #808000; font-style: italic\">inline</span> = <span style=\"color: #00ff00; text-decoration-color: #00ff00; font-style: italic\">True</span>                                                                  <span style=\"color: #000080; text-decoration-color: #000080\">│</span>\n",
       "<span style=\"color: #000080; text-decoration-color: #000080\">│</span>            <span style=\"color: #808000; text-decoration-color: #808000; font-style: italic\">kernel</span> = <span style=\"color: #800080; text-decoration-color: #800080; font-style: italic\">None</span>                                                                  <span style=\"color: #000080; text-decoration-color: #000080\">│</span>\n",
       "<span style=\"color: #000080; text-decoration-color: #000080\">│</span> <span style=\"color: #808000; text-decoration-color: #808000; font-style: italic\">kernel_decorators</span> = <span style=\"font-weight: bold\">[]</span>                                                                    <span style=\"color: #000080; text-decoration-color: #000080\">│</span>\n",
       "<span style=\"color: #000080; text-decoration-color: #000080\">│</span>            <span style=\"color: #808000; text-decoration-color: #808000; font-style: italic\">module</span> = <span style=\"color: #008000; text-decoration-color: #008000\">'__main__'</span>                                                            <span style=\"color: #000080; text-decoration-color: #000080\">│</span>\n",
       "<span style=\"color: #000080; text-decoration-color: #000080\">│</span>               <span style=\"color: #808000; text-decoration-color: #808000; font-style: italic\">src</span> = <span style=\"color: #008000; text-decoration-color: #008000\">\"def add_kernel(\\n    x_ptr,  # *Pointer* to first input vector\\n    </span> <span style=\"color: #000080; text-decoration-color: #000080\">│</span>\n",
       "<span style=\"color: #000080; text-decoration-color: #000080\">│</span>                     <span style=\"color: #008000; text-decoration-color: #008000\">y_ptr,  # *Pointer* to second input vector\\n    output_ptr,  # </span>       <span style=\"color: #000080; text-decoration-color: #000080\">│</span>\n",
       "<span style=\"color: #000080; text-decoration-color: #000080\">│</span>                     <span style=\"color: #008000; text-decoration-color: #008000\">*Pointer* to output vector\\n    n_elements,  # Size of the vector\\n  </span> <span style=\"color: #000080; text-decoration-color: #000080\">│</span>\n",
       "<span style=\"color: #000080; text-decoration-color: #000080\">│</span>                     <span style=\"color: #008000; text-decoration-color: #008000\">BLOCK_SIZE: tl.constexpr,  # Number of elements each program should </span>  <span style=\"color: #000080; text-decoration-color: #000080\">│</span>\n",
       "<span style=\"color: #000080; text-decoration-color: #000080\">│</span>                     <span style=\"color: #008000; text-decoration-color: #008000\">process\\n                 # NOTE: `constexpr` so it can be used as a </span> <span style=\"color: #000080; text-decoration-color: #000080\">│</span>\n",
       "<span style=\"color: #000080; text-decoration-color: #000080\">│</span>                     <span style=\"color: #008000; text-decoration-color: #008000\">shape value\\n):\\n    # There are multiple 'program's processing </span>      <span style=\"color: #000080; text-decoration-color: #000080\">│</span>\n",
       "<span style=\"color: #000080; text-decoration-color: #000080\">│</span>                     <span style=\"color: #008000; text-decoration-color: #008000\">different data. We identify which program\\n    # we are here\\n    pid</span> <span style=\"color: #000080; text-decoration-color: #000080\">│</span>\n",
       "<span style=\"color: #000080; text-decoration-color: #000080\">│</span>                     <span style=\"color: #008000; text-decoration-color: #008000\">= tl.program_id(axis=0)  # We use a 1D launch grid so axis is 0\\n    </span> <span style=\"color: #000080; text-decoration-color: #000080\">│</span>\n",
       "<span style=\"color: #000080; text-decoration-color: #000080\">│</span>                     <span style=\"color: #008000; text-decoration-color: #008000\"># This program will process inputs that are offset from the initial </span>  <span style=\"color: #000080; text-decoration-color: #000080\">│</span>\n",
       "<span style=\"color: #000080; text-decoration-color: #000080\">│</span>                     <span style=\"color: #008000; text-decoration-color: #008000\">data.\\n    # for instance, if you had a vector of length 256 and </span>     <span style=\"color: #000080; text-decoration-color: #000080\">│</span>\n",
       "<span style=\"color: #000080; text-decoration-color: #000080\">│</span>                     <span style=\"color: #008000; text-decoration-color: #008000\">block_size of 64, the programs\\n    # would each access the elements </span> <span style=\"color: #000080; text-decoration-color: #000080\">│</span>\n",
       "<span style=\"color: #000080; text-decoration-color: #000080\">│</span>                     <span style=\"color: #008000; text-decoration-color: #008000\">[0:64, 64:128, 128:192, 192:256].\\n    # Note that offsets is a list </span> <span style=\"color: #000080; text-decoration-color: #000080\">│</span>\n",
       "<span style=\"color: #000080; text-decoration-color: #000080\">│</span>                     <span style=\"color: #008000; text-decoration-color: #008000\">of pointers\\n    block_start = pid * BLOCK_SIZE\\n    offsets = </span>       <span style=\"color: #000080; text-decoration-color: #000080\">│</span>\n",
       "<span style=\"color: #000080; text-decoration-color: #000080\">│</span>                     <span style=\"color: #008000; text-decoration-color: #008000\">block_start + tl.arange(0, BLOCK_SIZE)\\n    # Create a mask to guard </span> <span style=\"color: #000080; text-decoration-color: #000080\">│</span>\n",
       "<span style=\"color: #000080; text-decoration-color: #000080\">│</span>                     <span style=\"color: #008000; text-decoration-color: #008000\">memory operations against out-of-bounds accesses\\n    mask = offsets </span> <span style=\"color: #000080; text-decoration-color: #000080\">│</span>\n",
       "<span style=\"color: #000080; text-decoration-color: #000080\">│</span>                     <span style=\"color: #008000; text-decoration-color: #008000\">&lt; n_elements\\n    # Load x and y from DRAM, masking out any extra </span>    <span style=\"color: #000080; text-decoration-color: #000080\">│</span>\n",
       "<span style=\"color: #000080; text-decoration-color: #000080\">│</span>                     <span style=\"color: #008000; text-decoration-color: #008000\">elements in case the input is not a\\n    # multiple of the block </span>     <span style=\"color: #000080; text-decoration-color: #000080\">│</span>\n",
       "<span style=\"color: #000080; text-decoration-color: #000080\">│</span>                     <span style=\"color: #008000; text-decoration-color: #008000\">size\\n    x = tl.load(x_ptr + offsets, mask=mask)\\n    y = </span>           <span style=\"color: #000080; text-decoration-color: #000080\">│</span>\n",
       "<span style=\"color: #000080; text-decoration-color: #000080\">│</span>                     <span style=\"color: #008000; text-decoration-color: #008000\">tl.load(y_ptr + offsets, mask=mask)\\n    output = x + y\\n    # Write </span> <span style=\"color: #000080; text-decoration-color: #000080\">│</span>\n",
       "<span style=\"color: #000080; text-decoration-color: #000080\">│</span>                     <span style=\"color: #008000; text-decoration-color: #008000\">x + y back to DRAM\\n    tl.store(output_ptr + offsets, output, </span>       <span style=\"color: #000080; text-decoration-color: #000080\">│</span>\n",
       "<span style=\"color: #000080; text-decoration-color: #000080\">│</span>                     <span style=\"color: #008000; text-decoration-color: #008000\">mask=mask)\\n\"</span>                                                         <span style=\"color: #000080; text-decoration-color: #000080\">│</span>\n",
       "<span style=\"color: #000080; text-decoration-color: #000080\">│</span>           <span style=\"color: #808000; text-decoration-color: #808000; font-style: italic\">version</span> = <span style=\"color: #800080; text-decoration-color: #800080; font-style: italic\">None</span>                                                                  <span style=\"color: #000080; text-decoration-color: #000080\">│</span>\n",
       "<span style=\"color: #000080; text-decoration-color: #000080\">│</span>                <span style=\"color: #808000; text-decoration-color: #808000; font-style: italic\">fn</span> = <span style=\"color: #00ffff; text-decoration-color: #00ffff; font-style: italic\">def </span><span style=\"color: #800000; text-decoration-color: #800000; font-weight: bold\">fn</span><span style=\"font-weight: bold\">(</span>x_ptr, y_ptr, output_ptr, n_elements, BLOCK_SIZE:              <span style=\"color: #000080; text-decoration-color: #000080\">│</span>\n",
       "<span style=\"color: #000080; text-decoration-color: #000080\">│</span>                     triton.language.core.constexpr<span style=\"font-weight: bold\">)</span>:                                      <span style=\"color: #000080; text-decoration-color: #000080\">│</span>\n",
       "<span style=\"color: #000080; text-decoration-color: #000080\">│</span>             <span style=\"color: #808000; text-decoration-color: #808000; font-style: italic\">parse</span> = <span style=\"color: #00ffff; text-decoration-color: #00ffff; font-style: italic\">def </span><span style=\"color: #800000; text-decoration-color: #800000; font-weight: bold\">parse</span><span style=\"font-weight: bold\">()</span>:                                                          <span style=\"color: #000080; text-decoration-color: #000080\">│</span>\n",
       "<span style=\"color: #000080; text-decoration-color: #000080\">│</span>            <span style=\"color: #808000; text-decoration-color: #808000; font-style: italic\">warmup</span> = <span style=\"color: #00ffff; text-decoration-color: #00ffff; font-style: italic\">def </span><span style=\"color: #800000; text-decoration-color: #800000; font-weight: bold\">warmup</span><span style=\"font-weight: bold\">(</span>compile<span style=\"font-weight: bold\">)</span>:                                                  <span style=\"color: #000080; text-decoration-color: #000080\">│</span>\n",
       "<span style=\"color: #000080; text-decoration-color: #000080\">╰───────────────────────────────────────────────────────────────────────────────────────────╯</span>\n",
       "</pre>\n"
      ],
      "text/plain": [
       "\u001b[34m╭─\u001b[0m\u001b[34m─────────────────────────── \u001b[0m\u001b[1;35mJITFunction\u001b[0m\u001b[1;34m(\u001b[0m\u001b[34m__main__:add_kernel\u001b[0m\u001b[1;34m)\u001b[0m\u001b[34m ────────────────────────────\u001b[0m\u001b[34m─╮\u001b[0m\n",
       "\u001b[34m│\u001b[0m \u001b[3;96mdef \u001b[0m\u001b[1m(\u001b[0m*args, **kwargs\u001b[1m)\u001b[0m:                                                                    \u001b[34m│\u001b[0m\n",
       "\u001b[34m│\u001b[0m                                                                                           \u001b[34m│\u001b[0m\n",
       "\u001b[34m│\u001b[0m       \u001b[3;33mannotations\u001b[0m = \u001b[1m{\u001b[0m\u001b[1;36m4\u001b[0m: \u001b[1m<\u001b[0m\u001b[1;95mclass\u001b[0m\u001b[39m \u001b[0m\u001b[32m'triton.language.core.constexpr'\u001b[0m\u001b[1m>\u001b[0m\u001b[1m}\u001b[0m                         \u001b[34m│\u001b[0m\n",
       "\u001b[34m│\u001b[0m      \u001b[3;33marg_defaults\u001b[0m = \u001b[1m[\u001b[0m                                                                     \u001b[34m│\u001b[0m\n",
       "\u001b[34m│\u001b[0m                         \u001b[1m<\u001b[0m\u001b[1;95mclass\u001b[0m\u001b[39m \u001b[0m\u001b[32m'inspect._empty'\u001b[0m\u001b[1m>\u001b[0m,                                         \u001b[34m│\u001b[0m\n",
       "\u001b[34m│\u001b[0m                         \u001b[1m<\u001b[0m\u001b[1;95mclass\u001b[0m\u001b[39m \u001b[0m\u001b[32m'inspect._empty'\u001b[0m\u001b[1m>\u001b[0m,                                         \u001b[34m│\u001b[0m\n",
       "\u001b[34m│\u001b[0m                         \u001b[1m<\u001b[0m\u001b[1;95mclass\u001b[0m\u001b[39m \u001b[0m\u001b[32m'inspect._empty'\u001b[0m\u001b[1m>\u001b[0m,                                         \u001b[34m│\u001b[0m\n",
       "\u001b[34m│\u001b[0m                         \u001b[1m<\u001b[0m\u001b[1;95mclass\u001b[0m\u001b[39m \u001b[0m\u001b[32m'inspect._empty'\u001b[0m\u001b[1m>\u001b[0m,                                         \u001b[34m│\u001b[0m\n",
       "\u001b[34m│\u001b[0m                         \u001b[1m<\u001b[0m\u001b[1;95mclass\u001b[0m\u001b[39m \u001b[0m\u001b[32m'inspect._empty'\u001b[0m\u001b[1m>\u001b[0m                                          \u001b[34m│\u001b[0m\n",
       "\u001b[34m│\u001b[0m                     \u001b[1m]\u001b[0m                                                                     \u001b[34m│\u001b[0m\n",
       "\u001b[34m│\u001b[0m         \u001b[3;33marg_names\u001b[0m = \u001b[1m[\u001b[0m\u001b[32m'x_ptr'\u001b[0m, \u001b[32m'y_ptr'\u001b[0m, \u001b[32m'output_ptr'\u001b[0m, \u001b[32m'n_elements'\u001b[0m, \u001b[32m'BLOCK_SIZE'\u001b[0m\u001b[1m]\u001b[0m          \u001b[34m│\u001b[0m\n",
       "\u001b[34m│\u001b[0m         \u001b[3;33mbin_cache\u001b[0m = \u001b[1m{\u001b[0m\u001b[1m}\u001b[0m                                                                    \u001b[34m│\u001b[0m\n",
       "\u001b[34m│\u001b[0m        \u001b[3;33mcache_hook\u001b[0m = \u001b[3;35mNone\u001b[0m                                                                  \u001b[34m│\u001b[0m\n",
       "\u001b[34m│\u001b[0m         \u001b[3;33mcache_key\u001b[0m = \u001b[32m'a13fe84bedaab4be158c7841ee3daf1b2-.-0-.-0--01e1cfad2157e0272927976a…\u001b[0m \u001b[34m│\u001b[0m\n",
       "\u001b[34m│\u001b[0m        \u001b[3;33mconstexprs\u001b[0m = \u001b[1m[\u001b[0m\u001b[1;36m4\u001b[0m\u001b[1m]\u001b[0m                                                                   \u001b[34m│\u001b[0m\n",
       "\u001b[34m│\u001b[0m \u001b[3;33mdo_not_specialize\u001b[0m = \u001b[1m[\u001b[0m\u001b[1m]\u001b[0m                                                                    \u001b[34m│\u001b[0m\n",
       "\u001b[34m│\u001b[0m              \u001b[3;33mhash\u001b[0m = \u001b[32m'a13fe84bedaab4be158c7841ee3daf1b2-.-0-.-0--01e1cfad2157e0272927976a…\u001b[0m \u001b[34m│\u001b[0m\n",
       "\u001b[34m│\u001b[0m            \u001b[3;33minline\u001b[0m = \u001b[3;92mTrue\u001b[0m                                                                  \u001b[34m│\u001b[0m\n",
       "\u001b[34m│\u001b[0m            \u001b[3;33mkernel\u001b[0m = \u001b[3;35mNone\u001b[0m                                                                  \u001b[34m│\u001b[0m\n",
       "\u001b[34m│\u001b[0m \u001b[3;33mkernel_decorators\u001b[0m = \u001b[1m[\u001b[0m\u001b[1m]\u001b[0m                                                                    \u001b[34m│\u001b[0m\n",
       "\u001b[34m│\u001b[0m            \u001b[3;33mmodule\u001b[0m = \u001b[32m'__main__'\u001b[0m                                                            \u001b[34m│\u001b[0m\n",
       "\u001b[34m│\u001b[0m               \u001b[3;33msrc\u001b[0m = \u001b[32m\"def add_kernel\u001b[0m\u001b[32m(\u001b[0m\u001b[32m\\n    x_ptr,  # *Pointer* to first input vector\\n    \u001b[0m \u001b[34m│\u001b[0m\n",
       "\u001b[34m│\u001b[0m                     \u001b[32my_ptr,  # *Pointer* to second input vector\\n    output_ptr,  # \u001b[0m       \u001b[34m│\u001b[0m\n",
       "\u001b[34m│\u001b[0m                     \u001b[32m*Pointer* to output vector\\n    n_elements,  # Size of the vector\\n  \u001b[0m \u001b[34m│\u001b[0m\n",
       "\u001b[34m│\u001b[0m                     \u001b[32mBLOCK_SIZE: tl.constexpr,  # Number of elements each program should \u001b[0m  \u001b[34m│\u001b[0m\n",
       "\u001b[34m│\u001b[0m                     \u001b[32mprocess\\n                 # NOTE: `constexpr` so it can be used as a \u001b[0m \u001b[34m│\u001b[0m\n",
       "\u001b[34m│\u001b[0m                     \u001b[32mshape value\\n\u001b[0m\u001b[32m)\u001b[0m\u001b[32m:\\n    # There are multiple 'program's processing \u001b[0m      \u001b[34m│\u001b[0m\n",
       "\u001b[34m│\u001b[0m                     \u001b[32mdifferent data. We identify which program\\n    # we are here\\n    pid\u001b[0m \u001b[34m│\u001b[0m\n",
       "\u001b[34m│\u001b[0m                     \u001b[32m= tl.program_id\u001b[0m\u001b[32m(\u001b[0m\u001b[32maxis\u001b[0m\u001b[32m=\u001b[0m\u001b[32m0\u001b[0m\u001b[32m)\u001b[0m\u001b[32m  # We use a 1D launch grid so axis is 0\\n    \u001b[0m \u001b[34m│\u001b[0m\n",
       "\u001b[34m│\u001b[0m                     \u001b[32m# This program will process inputs that are offset from the initial \u001b[0m  \u001b[34m│\u001b[0m\n",
       "\u001b[34m│\u001b[0m                     \u001b[32mdata.\\n    # for instance, if you had a vector of length 256 and \u001b[0m     \u001b[34m│\u001b[0m\n",
       "\u001b[34m│\u001b[0m                     \u001b[32mblock_size of 64, the programs\\n    # would each access the elements \u001b[0m \u001b[34m│\u001b[0m\n",
       "\u001b[34m│\u001b[0m                     \u001b[32m[\u001b[0m\u001b[32m0:64, 64:128, 128:192, 192:256\u001b[0m\u001b[32m]\u001b[0m\u001b[32m.\\n    # Note that offsets is a list \u001b[0m \u001b[34m│\u001b[0m\n",
       "\u001b[34m│\u001b[0m                     \u001b[32mof pointers\\n    block_start = pid * BLOCK_SIZE\\n    offsets = \u001b[0m       \u001b[34m│\u001b[0m\n",
       "\u001b[34m│\u001b[0m                     \u001b[32mblock_start + tl.arange\u001b[0m\u001b[32m(\u001b[0m\u001b[32m0, BLOCK_SIZE\u001b[0m\u001b[32m)\u001b[0m\u001b[32m\\n    # Create a mask to guard \u001b[0m \u001b[34m│\u001b[0m\n",
       "\u001b[34m│\u001b[0m                     \u001b[32mmemory operations against out-of-bounds accesses\\n    mask = offsets \u001b[0m \u001b[34m│\u001b[0m\n",
       "\u001b[34m│\u001b[0m                     \u001b[32m< n_elements\\n    # Load x and y from DRAM, masking out any extra \u001b[0m    \u001b[34m│\u001b[0m\n",
       "\u001b[34m│\u001b[0m                     \u001b[32melements in case the input is not a\\n    # multiple of the block \u001b[0m     \u001b[34m│\u001b[0m\n",
       "\u001b[34m│\u001b[0m                     \u001b[32msize\\n    x = tl.load\u001b[0m\u001b[32m(\u001b[0m\u001b[32mx_ptr + offsets, \u001b[0m\u001b[32mmask\u001b[0m\u001b[32m=\u001b[0m\u001b[32mmask\u001b[0m\u001b[32m)\u001b[0m\u001b[32m\\n    y = \u001b[0m           \u001b[34m│\u001b[0m\n",
       "\u001b[34m│\u001b[0m                     \u001b[32mtl.load\u001b[0m\u001b[32m(\u001b[0m\u001b[32my_ptr + offsets, \u001b[0m\u001b[32mmask\u001b[0m\u001b[32m=\u001b[0m\u001b[32mmask\u001b[0m\u001b[32m)\u001b[0m\u001b[32m\\n    output = x + y\\n    # Write \u001b[0m \u001b[34m│\u001b[0m\n",
       "\u001b[34m│\u001b[0m                     \u001b[32mx + y back to DRAM\\n    tl.store\u001b[0m\u001b[32m(\u001b[0m\u001b[32moutput_ptr + offsets, output, \u001b[0m       \u001b[34m│\u001b[0m\n",
       "\u001b[34m│\u001b[0m                     \u001b[32mmask\u001b[0m\u001b[32m=\u001b[0m\u001b[32mmask\u001b[0m\u001b[32m)\u001b[0m\u001b[32m\\n\"\u001b[0m                                                         \u001b[34m│\u001b[0m\n",
       "\u001b[34m│\u001b[0m           \u001b[3;33mversion\u001b[0m = \u001b[3;35mNone\u001b[0m                                                                  \u001b[34m│\u001b[0m\n",
       "\u001b[34m│\u001b[0m                \u001b[3;33mfn\u001b[0m = \u001b[3;96mdef \u001b[0m\u001b[1;31mfn\u001b[0m\u001b[1m(\u001b[0mx_ptr, y_ptr, output_ptr, n_elements, BLOCK_SIZE:              \u001b[34m│\u001b[0m\n",
       "\u001b[34m│\u001b[0m                     triton.language.core.constexpr\u001b[1m)\u001b[0m:                                      \u001b[34m│\u001b[0m\n",
       "\u001b[34m│\u001b[0m             \u001b[3;33mparse\u001b[0m = \u001b[3;96mdef \u001b[0m\u001b[1;31mparse\u001b[0m\u001b[1m(\u001b[0m\u001b[1m)\u001b[0m:                                                          \u001b[34m│\u001b[0m\n",
       "\u001b[34m│\u001b[0m            \u001b[3;33mwarmup\u001b[0m = \u001b[3;96mdef \u001b[0m\u001b[1;31mwarmup\u001b[0m\u001b[1m(\u001b[0mcompile\u001b[1m)\u001b[0m:                                                  \u001b[34m│\u001b[0m\n",
       "\u001b[34m╰───────────────────────────────────────────────────────────────────────────────────────────╯\u001b[0m\n"
      ]
     },
     "metadata": {},
     "output_type": "display_data"
    }
   ],
   "source": [
    "inspect(add_kernel, methods=True)"
   ]
  },
  {
   "cell_type": "markdown",
   "id": "fe7f3654",
   "metadata": {},
   "source": [
    "Ok so what's  JITFunction?\n",
    "\n",
    "It seems to have a few interesting properties\n",
    "\n",
    "Some defaut `arg_names` refering to the inputs `x_ptr, y_ptr`, the `output_ptr`, the number of elements `n_elements` and the number of elements each kernel will operate over concurrently i.e `BLOCK_SIZE`\n",
    "\n",
    "The function can be parsed"
   ]
  },
  {
   "cell_type": "code",
   "execution_count": 12,
   "id": "a633c36f",
   "metadata": {},
   "outputs": [
    {
     "data": {
      "text/plain": [
       "<ast.Module at 0x7fc5a9e18430>"
      ]
     },
     "execution_count": 12,
     "metadata": {},
     "output_type": "execute_result"
    }
   ],
   "source": [
    "add_kernel.parse()"
   ]
  },
  {
   "cell_type": "code",
   "execution_count": 13,
   "id": "d9cc66d4",
   "metadata": {},
   "outputs": [
    {
     "name": "stdout",
     "output_type": "stream",
     "text": [
      "Module(\n",
      "    body=[\n",
      "        FunctionDef(\n",
      "            name='add_kernel',\n",
      "            args=arguments(\n",
      "                posonlyargs=[],\n",
      "                args=[\n",
      "                    arg(arg='x_ptr'),\n",
      "                    arg(arg='y_ptr'),\n",
      "                    arg(arg='output_ptr'),\n",
      "                    arg(arg='n_elements'),\n",
      "                    arg(\n",
      "                        arg='BLOCK_SIZE',\n",
      "                        annotation=Attribute(\n",
      "                            value=Name(id='tl', ctx=Load()),\n",
      "                            attr='constexpr',\n",
      "                            ctx=Load()))],\n",
      "                kwonlyargs=[],\n",
      "                kw_defaults=[],\n",
      "                defaults=[]),\n",
      "            body=[\n",
      "                Assign(\n",
      "                    targets=[\n",
      "                        Name(id='pid', ctx=Store())],\n",
      "                    value=Call(\n",
      "                        func=Attribute(\n",
      "                            value=Name(id='tl', ctx=Load()),\n",
      "                            attr='program_id',\n",
      "                            ctx=Load()),\n",
      "                        args=[],\n",
      "                        keywords=[\n",
      "                            keyword(\n",
      "                                arg='axis',\n",
      "                                value=Constant(value=0))])),\n",
      "                Assign(\n",
      "                    targets=[\n",
      "                        Name(id='block_start', ctx=Store())],\n",
      "                    value=BinOp(\n",
      "                        left=Name(id='pid', ctx=Load()),\n",
      "                        op=Mult(),\n",
      "                        right=Name(id='BLOCK_SIZE', ctx=Load()))),\n",
      "                Assign(\n",
      "                    targets=[\n",
      "                        Name(id='offsets', ctx=Store())],\n",
      "                    value=BinOp(\n",
      "                        left=Name(id='block_start', ctx=Load()),\n",
      "                        op=Add(),\n",
      "                        right=Call(\n",
      "                            func=Attribute(\n",
      "                                value=Name(id='tl', ctx=Load()),\n",
      "                                attr='arange',\n",
      "                                ctx=Load()),\n",
      "                            args=[\n",
      "                                Constant(value=0),\n",
      "                                Name(id='BLOCK_SIZE', ctx=Load())],\n",
      "                            keywords=[]))),\n",
      "                Assign(\n",
      "                    targets=[\n",
      "                        Name(id='mask', ctx=Store())],\n",
      "                    value=Compare(\n",
      "                        left=Name(id='offsets', ctx=Load()),\n",
      "                        ops=[\n",
      "                            Lt()],\n",
      "                        comparators=[\n",
      "                            Name(id='n_elements', ctx=Load())])),\n",
      "                Assign(\n",
      "                    targets=[\n",
      "                        Name(id='x', ctx=Store())],\n",
      "                    value=Call(\n",
      "                        func=Attribute(\n",
      "                            value=Name(id='tl', ctx=Load()),\n",
      "                            attr='load',\n",
      "                            ctx=Load()),\n",
      "                        args=[\n",
      "                            BinOp(\n",
      "                                left=Name(id='x_ptr', ctx=Load()),\n",
      "                                op=Add(),\n",
      "                                right=Name(id='offsets', ctx=Load()))],\n",
      "                        keywords=[\n",
      "                            keyword(\n",
      "                                arg='mask',\n",
      "                                value=Name(id='mask', ctx=Load()))])),\n",
      "                Assign(\n",
      "                    targets=[\n",
      "                        Name(id='y', ctx=Store())],\n",
      "                    value=Call(\n",
      "                        func=Attribute(\n",
      "                            value=Name(id='tl', ctx=Load()),\n",
      "                            attr='load',\n",
      "                            ctx=Load()),\n",
      "                        args=[\n",
      "                            BinOp(\n",
      "                                left=Name(id='y_ptr', ctx=Load()),\n",
      "                                op=Add(),\n",
      "                                right=Name(id='offsets', ctx=Load()))],\n",
      "                        keywords=[\n",
      "                            keyword(\n",
      "                                arg='mask',\n",
      "                                value=Name(id='mask', ctx=Load()))])),\n",
      "                Assign(\n",
      "                    targets=[\n",
      "                        Name(id='output', ctx=Store())],\n",
      "                    value=BinOp(\n",
      "                        left=Name(id='x', ctx=Load()),\n",
      "                        op=Add(),\n",
      "                        right=Name(id='y', ctx=Load()))),\n",
      "                Expr(\n",
      "                    value=Call(\n",
      "                        func=Attribute(\n",
      "                            value=Name(id='tl', ctx=Load()),\n",
      "                            attr='store',\n",
      "                            ctx=Load()),\n",
      "                        args=[\n",
      "                            BinOp(\n",
      "                                left=Name(id='output_ptr', ctx=Load()),\n",
      "                                op=Add(),\n",
      "                                right=Name(id='offsets', ctx=Load())),\n",
      "                            Name(id='output', ctx=Load())],\n",
      "                        keywords=[\n",
      "                            keyword(\n",
      "                                arg='mask',\n",
      "                                value=Name(id='mask', ctx=Load()))]))],\n",
      "            decorator_list=[])],\n",
      "    type_ignores=[])\n"
     ]
    }
   ],
   "source": [
    "import ast\n",
    "\n",
    "print(ast.dump(add_kernel.parse(), indent=4))"
   ]
  },
  {
   "cell_type": "markdown",
   "id": "7ad9f4df",
   "metadata": {},
   "source": [
    "The AST we just printed is likely then optimized by some core engine but we'll get back to this in a second"
   ]
  },
  {
   "cell_type": "code",
   "execution_count": 15,
   "id": "c4555941",
   "metadata": {
    "scrolled": true
   },
   "outputs": [
    {
     "ename": "ValueError",
     "evalue": "Did you forget to add @triton.jit ? (`_builder` argument must be provided outside of JIT functions.)",
     "output_type": "error",
     "traceback": [
      "\u001b[0;31m---------------------------------------------------------------------------\u001b[0m",
      "\u001b[0;31mValueError\u001b[0m                                Traceback (most recent call last)",
      "Input \u001b[0;32mIn [15]\u001b[0m, in \u001b[0;36m<cell line: 1>\u001b[0;34m()\u001b[0m\n\u001b[0;32m----> 1\u001b[0m \u001b[43madd_kernel\u001b[49m\u001b[38;5;241;43m.\u001b[39;49m\u001b[43mfn\u001b[49m\u001b[43m(\u001b[49m\u001b[38;5;241;43m5\u001b[39;49m\u001b[43m,\u001b[49m\u001b[38;5;241;43m5\u001b[39;49m\u001b[43m,\u001b[49m\u001b[38;5;241;43m5\u001b[39;49m\u001b[43m,\u001b[49m\u001b[38;5;241;43m5\u001b[39;49m\u001b[43m,\u001b[49m\u001b[38;5;241;43m1\u001b[39;49m\u001b[43m)\u001b[49m\n",
      "Input \u001b[0;32mIn [8]\u001b[0m, in \u001b[0;36madd_kernel\u001b[0;34m(x_ptr, y_ptr, output_ptr, n_elements, BLOCK_SIZE)\u001b[0m\n\u001b[1;32m      1\u001b[0m \u001b[38;5;129m@triton\u001b[39m\u001b[38;5;241m.\u001b[39mjit\n\u001b[1;32m      2\u001b[0m \u001b[38;5;28;01mdef\u001b[39;00m \u001b[38;5;21madd_kernel\u001b[39m(\n\u001b[1;32m      3\u001b[0m     x_ptr,  \u001b[38;5;66;03m# *Pointer* to first input vector\u001b[39;00m\n\u001b[0;32m   (...)\u001b[0m\n\u001b[1;32m     10\u001b[0m     \u001b[38;5;66;03m# There are multiple 'program's processing different data. We identify which program\u001b[39;00m\n\u001b[1;32m     11\u001b[0m     \u001b[38;5;66;03m# we are here\u001b[39;00m\n\u001b[0;32m---> 12\u001b[0m     pid \u001b[38;5;241m=\u001b[39m \u001b[43mtl\u001b[49m\u001b[38;5;241;43m.\u001b[39;49m\u001b[43mprogram_id\u001b[49m\u001b[43m(\u001b[49m\u001b[43maxis\u001b[49m\u001b[38;5;241;43m=\u001b[39;49m\u001b[38;5;241;43m0\u001b[39;49m\u001b[43m)\u001b[49m  \u001b[38;5;66;03m# We use a 1D launch grid so axis is 0\u001b[39;00m\n\u001b[1;32m     13\u001b[0m     \u001b[38;5;66;03m# This program will process inputs that are offset from the initial data.\u001b[39;00m\n\u001b[1;32m     14\u001b[0m     \u001b[38;5;66;03m# for instance, if you had a vector of length 256 and block_size of 64, the programs\u001b[39;00m\n\u001b[1;32m     15\u001b[0m     \u001b[38;5;66;03m# would each access the elements [0:64, 64:128, 128:192, 192:256].\u001b[39;00m\n\u001b[1;32m     16\u001b[0m     \u001b[38;5;66;03m# Note that offsets is a list of pointers\u001b[39;00m\n\u001b[1;32m     17\u001b[0m     block_start \u001b[38;5;241m=\u001b[39m pid \u001b[38;5;241m*\u001b[39m BLOCK_SIZE\n",
      "File \u001b[0;32m~/anaconda3/envs/triton/lib/python3.9/site-packages/triton/language/core.py:43\u001b[0m, in \u001b[0;36mbuiltin.<locals>.wrapper\u001b[0;34m(*args, **kwargs)\u001b[0m\n\u001b[1;32m     39\u001b[0m \u001b[38;5;129m@wraps\u001b[39m(fn)\n\u001b[1;32m     40\u001b[0m \u001b[38;5;28;01mdef\u001b[39;00m \u001b[38;5;21mwrapper\u001b[39m(\u001b[38;5;241m*\u001b[39margs, \u001b[38;5;241m*\u001b[39m\u001b[38;5;241m*\u001b[39mkwargs):\n\u001b[1;32m     41\u001b[0m     \u001b[38;5;28;01mif\u001b[39;00m \u001b[38;5;124m'\u001b[39m\u001b[38;5;124m_builder\u001b[39m\u001b[38;5;124m'\u001b[39m \u001b[38;5;129;01mnot\u001b[39;00m \u001b[38;5;129;01min\u001b[39;00m kwargs \u001b[38;5;129;01mor\u001b[39;00m \\\n\u001b[1;32m     42\u001b[0m        kwargs[\u001b[38;5;124m'\u001b[39m\u001b[38;5;124m_builder\u001b[39m\u001b[38;5;124m'\u001b[39m] \u001b[38;5;129;01mis\u001b[39;00m \u001b[38;5;28;01mNone\u001b[39;00m:\n\u001b[0;32m---> 43\u001b[0m         \u001b[38;5;28;01mraise\u001b[39;00m \u001b[38;5;167;01mValueError\u001b[39;00m(\u001b[38;5;124m\"\u001b[39m\u001b[38;5;124mDid you forget to add @triton.jit ? (`_builder` argument must be provided outside of JIT functions.)\u001b[39m\u001b[38;5;124m\"\u001b[39m)\n\u001b[1;32m     44\u001b[0m     \u001b[38;5;28;01mreturn\u001b[39;00m fn(\u001b[38;5;241m*\u001b[39margs, \u001b[38;5;241m*\u001b[39m\u001b[38;5;241m*\u001b[39mkwargs)\n",
      "\u001b[0;31mValueError\u001b[0m: Did you forget to add @triton.jit ? (`_builder` argument must be provided outside of JIT functions.)"
     ]
    }
   ],
   "source": [
    "add_kernel.fn(5,5,5,5,1)"
   ]
  },
  {
   "cell_type": "code",
   "execution_count": 16,
   "id": "fc831694",
   "metadata": {},
   "outputs": [
    {
     "ename": "ValueError",
     "evalue": "Did you forget to add @triton.jit ? (`_builder` argument must be provided outside of JIT functions.)",
     "output_type": "error",
     "traceback": [
      "\u001b[0;31m---------------------------------------------------------------------------\u001b[0m",
      "\u001b[0;31mValueError\u001b[0m                                Traceback (most recent call last)",
      "Input \u001b[0;32mIn [16]\u001b[0m, in \u001b[0;36m<cell line: 3>\u001b[0;34m()\u001b[0m\n\u001b[1;32m      1\u001b[0m \u001b[38;5;66;03m# We still would like to understand what a program ID is so let's try just try\u001b[39;00m\n\u001b[0;32m----> 3\u001b[0m pid \u001b[38;5;241m=\u001b[39m \u001b[43mtl\u001b[49m\u001b[38;5;241;43m.\u001b[39;49m\u001b[43mprogram_id\u001b[49m\u001b[43m(\u001b[49m\u001b[43maxis\u001b[49m\u001b[38;5;241;43m=\u001b[39;49m\u001b[38;5;241;43m0\u001b[39;49m\u001b[43m)\u001b[49m\n",
      "File \u001b[0;32m~/anaconda3/envs/triton/lib/python3.9/site-packages/triton/language/core.py:43\u001b[0m, in \u001b[0;36mbuiltin.<locals>.wrapper\u001b[0;34m(*args, **kwargs)\u001b[0m\n\u001b[1;32m     39\u001b[0m \u001b[38;5;129m@wraps\u001b[39m(fn)\n\u001b[1;32m     40\u001b[0m \u001b[38;5;28;01mdef\u001b[39;00m \u001b[38;5;21mwrapper\u001b[39m(\u001b[38;5;241m*\u001b[39margs, \u001b[38;5;241m*\u001b[39m\u001b[38;5;241m*\u001b[39mkwargs):\n\u001b[1;32m     41\u001b[0m     \u001b[38;5;28;01mif\u001b[39;00m \u001b[38;5;124m'\u001b[39m\u001b[38;5;124m_builder\u001b[39m\u001b[38;5;124m'\u001b[39m \u001b[38;5;129;01mnot\u001b[39;00m \u001b[38;5;129;01min\u001b[39;00m kwargs \u001b[38;5;129;01mor\u001b[39;00m \\\n\u001b[1;32m     42\u001b[0m        kwargs[\u001b[38;5;124m'\u001b[39m\u001b[38;5;124m_builder\u001b[39m\u001b[38;5;124m'\u001b[39m] \u001b[38;5;129;01mis\u001b[39;00m \u001b[38;5;28;01mNone\u001b[39;00m:\n\u001b[0;32m---> 43\u001b[0m         \u001b[38;5;28;01mraise\u001b[39;00m \u001b[38;5;167;01mValueError\u001b[39;00m(\u001b[38;5;124m\"\u001b[39m\u001b[38;5;124mDid you forget to add @triton.jit ? (`_builder` argument must be provided outside of JIT functions.)\u001b[39m\u001b[38;5;124m\"\u001b[39m)\n\u001b[1;32m     44\u001b[0m     \u001b[38;5;28;01mreturn\u001b[39;00m fn(\u001b[38;5;241m*\u001b[39margs, \u001b[38;5;241m*\u001b[39m\u001b[38;5;241m*\u001b[39mkwargs)\n",
      "\u001b[0;31mValueError\u001b[0m: Did you forget to add @triton.jit ? (`_builder` argument must be provided outside of JIT functions.)"
     ]
    }
   ],
   "source": [
    "# We still would like to understand what a program ID is so let's try just try\n",
    "\n",
    "pid = tl.program_id(axis=0)"
   ]
  },
  {
   "cell_type": "markdown",
   "id": "cd4813fa",
   "metadata": {},
   "source": [
    "Well that's kinda sad, we're not going to able to run this program it feels like so let's just try to understand at least what's the type of `pid` by looking at the source code\n",
    "\n",
    "Just remember that `_builder` in the error, we'll get back to it"
   ]
  },
  {
   "cell_type": "code",
   "execution_count": 38,
   "id": "16d2413a",
   "metadata": {
    "scrolled": true
   },
   "outputs": [
    {
     "name": "stdout",
     "output_type": "stream",
     "text": [
      "('@builtin\\n'\n",
      " 'def program_id(axis, _builder=None):\\n'\n",
      " '    \"\"\"\\n'\n",
      " '    Returns the id of the current program instance along the given '\n",
      " ':code:`axis`.\\n'\n",
      " '\\n'\n",
      " '    :param axis: The axis of the 3D launch grid. Has to be either 0, 1 or '\n",
      " '2.\\n'\n",
      " '    :type axis: int\\n'\n",
      " '    \"\"\"\\n'\n",
      " '    # if axis == -1:\\n'\n",
      " '    #     pid0 = program_id(0, _builder)\\n'\n",
      " '    #     pid1 = program_id(1, _builder)\\n'\n",
      " '    #     pid2 = program_id(2, _builder)\\n'\n",
      " '    #     npg0 = num_programs(0, _builder)\\n'\n",
      " '    #     npg1 = num_programs(0, _builder)\\n'\n",
      " '    #     return pid0 + pid1*npg0 + pid2*npg0*npg1\\n'\n",
      " '    axis = _constexpr_to_value(axis)\\n'\n",
      " '    return semantic.program_id(axis, _builder)\\n')\n"
     ]
    }
   ],
   "source": [
    "from inspect import getsource\n",
    "import pprint\n",
    "pp = pprint.PrettyPrinter(indent=4)\n",
    "\n",
    "pp.pprint(getsource(tl.program_id))"
   ]
  },
  {
   "cell_type": "markdown",
   "id": "a55e3441",
   "metadata": {},
   "source": [
    "Ok we already learnt a few things\n",
    "1. `axis` needs to be one of `0, 1, 2` as it refers to the axes of a 3D grid. Makes sense if we're working with tensors\n",
    "2. `program_id` will return a `semantic.program_id` and can optionally take in a `_builder parameter`\n",
    "\n",
    "In our case `axis = 1` so let's go down to that last line of code and figure out what a `semantic.program_id` is"
   ]
  },
  {
   "cell_type": "code",
   "execution_count": 41,
   "id": "404a76a7",
   "metadata": {},
   "outputs": [
    {
     "name": "stdout",
     "output_type": "stream",
     "text": [
      "('def program_id(axis: int, builder: ir.builder) -> tl.tensor:\\n'\n",
      " '    return tl.tensor(builder.create_get_program_id(axis), tl.int32)\\n')\n"
     ]
    }
   ],
   "source": [
    "pp.pprint(getsource(tl.semantic.program_id))"
   ]
  },
  {
   "cell_type": "markdown",
   "id": "ff7db8de",
   "metadata": {},
   "source": [
    "Interesting..\n",
    "\n",
    "So the `pid` is actually a `tl.tensor` but not a `torch.Tensor` with a dtype of `int32`\n",
    "\n",
    "We've also now finally hit some `C` code, the `ir.builder` is imported from\n",
    "\n",
    "We have two paths to go down now, what's a `tl.tensor` and what's an `ir`\n"
   ]
  },
  {
   "cell_type": "code",
   "execution_count": 43,
   "id": "7cc6d877",
   "metadata": {},
   "outputs": [],
   "source": [
    "from triton._C.libtriton.triton import ir"
   ]
  },
  {
   "cell_type": "code",
   "execution_count": 45,
   "id": "ceca7d9a",
   "metadata": {},
   "outputs": [
    {
     "data": {
      "text/html": [
       "<pre style=\"white-space:pre;overflow-x:auto;line-height:normal;font-family:Menlo,'DejaVu Sans Mono',consolas,'Courier New',monospace\"><span style=\"color: #000080; text-decoration-color: #000080\">╭───── </span><span style=\"color: #000080; text-decoration-color: #000080; font-weight: bold\">&lt;</span><span style=\"color: #ff00ff; text-decoration-color: #ff00ff; font-weight: bold\">module</span><span style=\"color: #000000; text-decoration-color: #000000\"> </span><span style=\"color: #008000; text-decoration-color: #008000\">'triton._C.libtriton.triton.ir'</span><span style=\"color: #000080; text-decoration-color: #000080; font-weight: bold\">&gt;</span><span style=\"color: #000080; text-decoration-color: #000080\"> ──────╮</span>\n",
       "<span style=\"color: #000080; text-decoration-color: #000080\">│</span>              <span style=\"color: #808000; text-decoration-color: #808000; font-style: italic\">CA</span> = CACHE_MODIFIER.CA                 <span style=\"color: #000080; text-decoration-color: #000080\">│</span>\n",
       "<span style=\"color: #000080; text-decoration-color: #000080\">│</span>              <span style=\"color: #808000; text-decoration-color: #808000; font-style: italic\">CG</span> = CACHE_MODIFIER.CG                 <span style=\"color: #000080; text-decoration-color: #000080\">│</span>\n",
       "<span style=\"color: #000080; text-decoration-color: #000080\">│</span>     <span style=\"color: #808000; text-decoration-color: #808000; font-style: italic\">EVICT_FIRST</span> = EVICTION_POLICY.EVICT_FIRST       <span style=\"color: #000080; text-decoration-color: #000080\">│</span>\n",
       "<span style=\"color: #000080; text-decoration-color: #000080\">│</span>      <span style=\"color: #808000; text-decoration-color: #808000; font-style: italic\">EVICT_LAST</span> = EVICTION_POLICY.EVICT_LAST        <span style=\"color: #000080; text-decoration-color: #000080\">│</span>\n",
       "<span style=\"color: #000080; text-decoration-color: #000080\">│</span>            <span style=\"color: #808000; text-decoration-color: #808000; font-style: italic\">NONE</span> = CACHE_MODIFIER.NONE               <span style=\"color: #000080; text-decoration-color: #000080\">│</span>\n",
       "<span style=\"color: #000080; text-decoration-color: #000080\">│</span>          <span style=\"color: #808000; text-decoration-color: #808000; font-style: italic\">NORMAL</span> = EVICTION_POLICY.NORMAL            <span style=\"color: #000080; text-decoration-color: #000080\">│</span>\n",
       "<span style=\"color: #000080; text-decoration-color: #000080\">│</span>        <span style=\"color: #808000; text-decoration-color: #808000; font-style: italic\">argument</span> = <span style=\"color: #00ffff; text-decoration-color: #00ffff; font-style: italic\">def </span><span style=\"color: #800000; text-decoration-color: #800000; font-weight: bold\">argument</span><span style=\"font-weight: bold\">(</span><span style=\"color: #808000; text-decoration-color: #808000\">...</span><span style=\"font-weight: bold\">)</span>                 <span style=\"color: #000080; text-decoration-color: #000080\">│</span>\n",
       "<span style=\"color: #000080; text-decoration-color: #000080\">│</span>       <span style=\"color: #808000; text-decoration-color: #808000; font-style: italic\">ATOMIC_OP</span> = <span style=\"color: #00ffff; text-decoration-color: #00ffff; font-style: italic\">def </span><span style=\"color: #800000; text-decoration-color: #800000; font-weight: bold\">ATOMIC_OP</span><span style=\"font-weight: bold\">(</span><span style=\"color: #808000; text-decoration-color: #808000\">...</span><span style=\"font-weight: bold\">)</span> <span style=\"color: #7f7f7f; text-decoration-color: #7f7f7f\">Members:</span>       <span style=\"color: #000080; text-decoration-color: #000080\">│</span>\n",
       "<span style=\"color: #000080; text-decoration-color: #000080\">│</span>       <span style=\"color: #808000; text-decoration-color: #808000; font-style: italic\">attribute</span> = <span style=\"color: #00ffff; text-decoration-color: #00ffff; font-style: italic\">def </span><span style=\"color: #800000; text-decoration-color: #800000; font-weight: bold\">attribute</span><span style=\"font-weight: bold\">(</span><span style=\"color: #808000; text-decoration-color: #808000\">...</span><span style=\"font-weight: bold\">)</span>                <span style=\"color: #000080; text-decoration-color: #000080\">│</span>\n",
       "<span style=\"color: #000080; text-decoration-color: #000080\">│</span>  <span style=\"color: #808000; text-decoration-color: #808000; font-style: italic\">attribute_kind</span> = <span style=\"color: #00ffff; text-decoration-color: #00ffff; font-style: italic\">def </span><span style=\"color: #800000; text-decoration-color: #800000; font-weight: bold\">attribute_kind</span><span style=\"font-weight: bold\">(</span><span style=\"color: #808000; text-decoration-color: #808000\">...</span><span style=\"font-weight: bold\">)</span> <span style=\"color: #7f7f7f; text-decoration-color: #7f7f7f\">Members:</span>  <span style=\"color: #000080; text-decoration-color: #000080\">│</span>\n",
       "<span style=\"color: #000080; text-decoration-color: #000080\">│</span>     <span style=\"color: #808000; text-decoration-color: #808000; font-style: italic\">basic_block</span> = <span style=\"color: #00ffff; text-decoration-color: #00ffff; font-style: italic\">def </span><span style=\"color: #800000; text-decoration-color: #800000; font-weight: bold\">basic_block</span><span style=\"font-weight: bold\">(</span><span style=\"color: #808000; text-decoration-color: #808000\">...</span><span style=\"font-weight: bold\">)</span>              <span style=\"color: #000080; text-decoration-color: #000080\">│</span>\n",
       "<span style=\"color: #000080; text-decoration-color: #000080\">│</span>     <span style=\"color: #808000; text-decoration-color: #808000; font-style: italic\">bb_iterator</span> = <span style=\"color: #00ffff; text-decoration-color: #00ffff; font-style: italic\">def </span><span style=\"color: #800000; text-decoration-color: #800000; font-weight: bold\">bb_iterator</span><span style=\"font-weight: bold\">(</span><span style=\"color: #808000; text-decoration-color: #808000\">...</span><span style=\"font-weight: bold\">)</span>              <span style=\"color: #000080; text-decoration-color: #000080\">│</span>\n",
       "<span style=\"color: #000080; text-decoration-color: #000080\">│</span>      <span style=\"color: #808000; text-decoration-color: #808000; font-style: italic\">block_type</span> = <span style=\"color: #00ffff; text-decoration-color: #00ffff; font-style: italic\">def </span><span style=\"color: #800000; text-decoration-color: #800000; font-weight: bold\">block_type</span><span style=\"font-weight: bold\">(</span><span style=\"color: #808000; text-decoration-color: #808000\">...</span><span style=\"font-weight: bold\">)</span>               <span style=\"color: #000080; text-decoration-color: #000080\">│</span>\n",
       "<span style=\"color: #000080; text-decoration-color: #000080\">│</span>         <span style=\"color: #808000; text-decoration-color: #808000; font-style: italic\">builder</span> = <span style=\"color: #00ffff; text-decoration-color: #00ffff; font-style: italic\">def </span><span style=\"color: #800000; text-decoration-color: #800000; font-weight: bold\">builder</span><span style=\"font-weight: bold\">(</span><span style=\"color: #808000; text-decoration-color: #808000\">...</span><span style=\"font-weight: bold\">)</span>                  <span style=\"color: #000080; text-decoration-color: #000080\">│</span>\n",
       "<span style=\"color: #000080; text-decoration-color: #000080\">│</span>  <span style=\"color: #808000; text-decoration-color: #808000; font-style: italic\">CACHE_MODIFIER</span> = <span style=\"color: #00ffff; text-decoration-color: #00ffff; font-style: italic\">def </span><span style=\"color: #800000; text-decoration-color: #800000; font-weight: bold\">CACHE_MODIFIER</span><span style=\"font-weight: bold\">(</span><span style=\"color: #808000; text-decoration-color: #808000\">...</span><span style=\"font-weight: bold\">)</span> <span style=\"color: #7f7f7f; text-decoration-color: #7f7f7f\">Members:</span>  <span style=\"color: #000080; text-decoration-color: #000080\">│</span>\n",
       "<span style=\"color: #000080; text-decoration-color: #000080\">│</span>        <span style=\"color: #808000; text-decoration-color: #808000; font-style: italic\">constant</span> = <span style=\"color: #00ffff; text-decoration-color: #00ffff; font-style: italic\">def </span><span style=\"color: #800000; text-decoration-color: #800000; font-weight: bold\">constant</span><span style=\"font-weight: bold\">(</span><span style=\"color: #808000; text-decoration-color: #808000\">...</span><span style=\"font-weight: bold\">)</span>                 <span style=\"color: #000080; text-decoration-color: #000080\">│</span>\n",
       "<span style=\"color: #000080; text-decoration-color: #000080\">│</span>  <span style=\"color: #808000; text-decoration-color: #808000; font-style: italic\">constant_float</span> = <span style=\"color: #00ffff; text-decoration-color: #00ffff; font-style: italic\">def </span><span style=\"color: #800000; text-decoration-color: #800000; font-weight: bold\">constant_float</span><span style=\"font-weight: bold\">(</span><span style=\"color: #808000; text-decoration-color: #808000\">...</span><span style=\"font-weight: bold\">)</span>           <span style=\"color: #000080; text-decoration-color: #000080\">│</span>\n",
       "<span style=\"color: #000080; text-decoration-color: #000080\">│</span>    <span style=\"color: #808000; text-decoration-color: #808000; font-style: italic\">constant_int</span> = <span style=\"color: #00ffff; text-decoration-color: #00ffff; font-style: italic\">def </span><span style=\"color: #800000; text-decoration-color: #800000; font-weight: bold\">constant_int</span><span style=\"font-weight: bold\">(</span><span style=\"color: #808000; text-decoration-color: #808000\">...</span><span style=\"font-weight: bold\">)</span>             <span style=\"color: #000080; text-decoration-color: #000080\">│</span>\n",
       "<span style=\"color: #000080; text-decoration-color: #000080\">│</span>         <span style=\"color: #808000; text-decoration-color: #808000; font-style: italic\">context</span> = <span style=\"color: #00ffff; text-decoration-color: #00ffff; font-style: italic\">def </span><span style=\"color: #800000; text-decoration-color: #800000; font-weight: bold\">context</span><span style=\"font-weight: bold\">(</span><span style=\"color: #808000; text-decoration-color: #808000\">...</span><span style=\"font-weight: bold\">)</span>                  <span style=\"color: #000080; text-decoration-color: #000080\">│</span>\n",
       "<span style=\"color: #000080; text-decoration-color: #000080\">│</span> <span style=\"color: #808000; text-decoration-color: #808000; font-style: italic\">EVICTION_POLICY</span> = <span style=\"color: #00ffff; text-decoration-color: #00ffff; font-style: italic\">def </span><span style=\"color: #800000; text-decoration-color: #800000; font-weight: bold\">EVICTION_POLICY</span><span style=\"font-weight: bold\">(</span><span style=\"color: #808000; text-decoration-color: #808000\">...</span><span style=\"font-weight: bold\">)</span> <span style=\"color: #7f7f7f; text-decoration-color: #7f7f7f\">Members:</span> <span style=\"color: #000080; text-decoration-color: #000080\">│</span>\n",
       "<span style=\"color: #000080; text-decoration-color: #000080\">│</span>        <span style=\"color: #808000; text-decoration-color: #808000; font-style: italic\">function</span> = <span style=\"color: #00ffff; text-decoration-color: #00ffff; font-style: italic\">def </span><span style=\"color: #800000; text-decoration-color: #800000; font-weight: bold\">function</span><span style=\"font-weight: bold\">(</span><span style=\"color: #808000; text-decoration-color: #808000\">...</span><span style=\"font-weight: bold\">)</span>                 <span style=\"color: #000080; text-decoration-color: #000080\">│</span>\n",
       "<span style=\"color: #000080; text-decoration-color: #000080\">│</span>   <span style=\"color: #808000; text-decoration-color: #808000; font-style: italic\">function_type</span> = <span style=\"color: #00ffff; text-decoration-color: #00ffff; font-style: italic\">def </span><span style=\"color: #800000; text-decoration-color: #800000; font-weight: bold\">function_type</span><span style=\"font-weight: bold\">(</span><span style=\"color: #808000; text-decoration-color: #808000\">...</span><span style=\"font-weight: bold\">)</span>            <span style=\"color: #000080; text-decoration-color: #000080\">│</span>\n",
       "<span style=\"color: #000080; text-decoration-color: #000080\">│</span>     <span style=\"color: #808000; text-decoration-color: #808000; font-style: italic\">instruction</span> = <span style=\"color: #00ffff; text-decoration-color: #00ffff; font-style: italic\">def </span><span style=\"color: #800000; text-decoration-color: #800000; font-weight: bold\">instruction</span><span style=\"font-weight: bold\">(</span><span style=\"color: #808000; text-decoration-color: #808000\">...</span><span style=\"font-weight: bold\">)</span>              <span style=\"color: #000080; text-decoration-color: #000080\">│</span>\n",
       "<span style=\"color: #000080; text-decoration-color: #000080\">│</span>    <span style=\"color: #808000; text-decoration-color: #808000; font-style: italic\">integer_type</span> = <span style=\"color: #00ffff; text-decoration-color: #00ffff; font-style: italic\">def </span><span style=\"color: #800000; text-decoration-color: #800000; font-weight: bold\">integer_type</span><span style=\"font-weight: bold\">(</span><span style=\"color: #808000; text-decoration-color: #808000\">...</span><span style=\"font-weight: bold\">)</span>             <span style=\"color: #000080; text-decoration-color: #000080\">│</span>\n",
       "<span style=\"color: #000080; text-decoration-color: #000080\">│</span>          <span style=\"color: #808000; text-decoration-color: #808000; font-style: italic\">module</span> = <span style=\"color: #00ffff; text-decoration-color: #00ffff; font-style: italic\">def </span><span style=\"color: #800000; text-decoration-color: #800000; font-weight: bold\">module</span><span style=\"font-weight: bold\">(</span><span style=\"color: #808000; text-decoration-color: #808000\">...</span><span style=\"font-weight: bold\">)</span>                   <span style=\"color: #000080; text-decoration-color: #000080\">│</span>\n",
       "<span style=\"color: #000080; text-decoration-color: #000080\">│</span>        <span style=\"color: #808000; text-decoration-color: #808000; font-style: italic\">phi_node</span> = <span style=\"color: #00ffff; text-decoration-color: #00ffff; font-style: italic\">def </span><span style=\"color: #800000; text-decoration-color: #800000; font-weight: bold\">phi_node</span><span style=\"font-weight: bold\">(</span><span style=\"color: #808000; text-decoration-color: #808000\">...</span><span style=\"font-weight: bold\">)</span>                 <span style=\"color: #000080; text-decoration-color: #000080\">│</span>\n",
       "<span style=\"color: #000080; text-decoration-color: #000080\">│</span>    <span style=\"color: #808000; text-decoration-color: #808000; font-style: italic\">pointer_type</span> = <span style=\"color: #00ffff; text-decoration-color: #00ffff; font-style: italic\">def </span><span style=\"color: #800000; text-decoration-color: #800000; font-weight: bold\">pointer_type</span><span style=\"font-weight: bold\">(</span><span style=\"color: #808000; text-decoration-color: #808000\">...</span><span style=\"font-weight: bold\">)</span>             <span style=\"color: #000080; text-decoration-color: #000080\">│</span>\n",
       "<span style=\"color: #000080; text-decoration-color: #000080\">│</span>       <span style=\"color: #808000; text-decoration-color: #808000; font-style: italic\">REDUCE_OP</span> = <span style=\"color: #00ffff; text-decoration-color: #00ffff; font-style: italic\">def </span><span style=\"color: #800000; text-decoration-color: #800000; font-weight: bold\">REDUCE_OP</span><span style=\"font-weight: bold\">(</span><span style=\"color: #808000; text-decoration-color: #808000\">...</span><span style=\"font-weight: bold\">)</span> <span style=\"color: #7f7f7f; text-decoration-color: #7f7f7f\">Members:</span>       <span style=\"color: #000080; text-decoration-color: #000080\">│</span>\n",
       "<span style=\"color: #000080; text-decoration-color: #000080\">│</span>     <span style=\"color: #808000; text-decoration-color: #808000; font-style: italic\">struct_type</span> = <span style=\"color: #00ffff; text-decoration-color: #00ffff; font-style: italic\">def </span><span style=\"color: #800000; text-decoration-color: #800000; font-weight: bold\">struct_type</span><span style=\"font-weight: bold\">(</span><span style=\"color: #808000; text-decoration-color: #808000\">...</span><span style=\"font-weight: bold\">)</span>              <span style=\"color: #000080; text-decoration-color: #000080\">│</span>\n",
       "<span style=\"color: #000080; text-decoration-color: #000080\">│</span>            <span style=\"color: #808000; text-decoration-color: #808000; font-style: italic\">type</span> = <span style=\"color: #00ffff; text-decoration-color: #00ffff; font-style: italic\">def </span><span style=\"color: #800000; text-decoration-color: #800000; font-weight: bold\">type</span><span style=\"font-weight: bold\">(</span><span style=\"color: #808000; text-decoration-color: #808000\">...</span><span style=\"font-weight: bold\">)</span>                     <span style=\"color: #000080; text-decoration-color: #000080\">│</span>\n",
       "<span style=\"color: #000080; text-decoration-color: #000080\">│</span>           <span style=\"color: #808000; text-decoration-color: #808000; font-style: italic\">undef</span> = <span style=\"color: #00ffff; text-decoration-color: #00ffff; font-style: italic\">def </span><span style=\"color: #800000; text-decoration-color: #800000; font-weight: bold\">undef</span><span style=\"font-weight: bold\">(</span><span style=\"color: #808000; text-decoration-color: #808000\">...</span><span style=\"font-weight: bold\">)</span>                    <span style=\"color: #000080; text-decoration-color: #000080\">│</span>\n",
       "<span style=\"color: #000080; text-decoration-color: #000080\">│</span>            <span style=\"color: #808000; text-decoration-color: #808000; font-style: italic\">user</span> = <span style=\"color: #00ffff; text-decoration-color: #00ffff; font-style: italic\">def </span><span style=\"color: #800000; text-decoration-color: #800000; font-weight: bold\">user</span><span style=\"font-weight: bold\">(</span><span style=\"color: #808000; text-decoration-color: #808000\">...</span><span style=\"font-weight: bold\">)</span>                     <span style=\"color: #000080; text-decoration-color: #000080\">│</span>\n",
       "<span style=\"color: #000080; text-decoration-color: #000080\">│</span>           <span style=\"color: #808000; text-decoration-color: #808000; font-style: italic\">value</span> = <span style=\"color: #00ffff; text-decoration-color: #00ffff; font-style: italic\">def </span><span style=\"color: #800000; text-decoration-color: #800000; font-weight: bold\">value</span><span style=\"font-weight: bold\">(</span><span style=\"color: #808000; text-decoration-color: #808000\">...</span><span style=\"font-weight: bold\">)</span>                    <span style=\"color: #000080; text-decoration-color: #000080\">│</span>\n",
       "<span style=\"color: #000080; text-decoration-color: #000080\">╰─────────────────────────────────────────────────────╯</span>\n",
       "</pre>\n"
      ],
      "text/plain": [
       "\u001b[34m╭─\u001b[0m\u001b[34m──── \u001b[0m\u001b[1;34m<\u001b[0m\u001b[1;95mmodule\u001b[0m\u001b[39m \u001b[0m\u001b[32m'triton._C.libtriton.triton.ir'\u001b[0m\u001b[1;34m>\u001b[0m\u001b[34m ─────\u001b[0m\u001b[34m─╮\u001b[0m\n",
       "\u001b[34m│\u001b[0m              \u001b[3;33mCA\u001b[0m = CACHE_MODIFIER.CA                 \u001b[34m│\u001b[0m\n",
       "\u001b[34m│\u001b[0m              \u001b[3;33mCG\u001b[0m = CACHE_MODIFIER.CG                 \u001b[34m│\u001b[0m\n",
       "\u001b[34m│\u001b[0m     \u001b[3;33mEVICT_FIRST\u001b[0m = EVICTION_POLICY.EVICT_FIRST       \u001b[34m│\u001b[0m\n",
       "\u001b[34m│\u001b[0m      \u001b[3;33mEVICT_LAST\u001b[0m = EVICTION_POLICY.EVICT_LAST        \u001b[34m│\u001b[0m\n",
       "\u001b[34m│\u001b[0m            \u001b[3;33mNONE\u001b[0m = CACHE_MODIFIER.NONE               \u001b[34m│\u001b[0m\n",
       "\u001b[34m│\u001b[0m          \u001b[3;33mNORMAL\u001b[0m = EVICTION_POLICY.NORMAL            \u001b[34m│\u001b[0m\n",
       "\u001b[34m│\u001b[0m        \u001b[3;33margument\u001b[0m = \u001b[3;96mdef \u001b[0m\u001b[1;31margument\u001b[0m\u001b[1m(\u001b[0m\u001b[33m...\u001b[0m\u001b[1m)\u001b[0m                 \u001b[34m│\u001b[0m\n",
       "\u001b[34m│\u001b[0m       \u001b[3;33mATOMIC_OP\u001b[0m = \u001b[3;96mdef \u001b[0m\u001b[1;31mATOMIC_OP\u001b[0m\u001b[1m(\u001b[0m\u001b[33m...\u001b[0m\u001b[1m)\u001b[0m \u001b[2mMembers:\u001b[0m       \u001b[34m│\u001b[0m\n",
       "\u001b[34m│\u001b[0m       \u001b[3;33mattribute\u001b[0m = \u001b[3;96mdef \u001b[0m\u001b[1;31mattribute\u001b[0m\u001b[1m(\u001b[0m\u001b[33m...\u001b[0m\u001b[1m)\u001b[0m                \u001b[34m│\u001b[0m\n",
       "\u001b[34m│\u001b[0m  \u001b[3;33mattribute_kind\u001b[0m = \u001b[3;96mdef \u001b[0m\u001b[1;31mattribute_kind\u001b[0m\u001b[1m(\u001b[0m\u001b[33m...\u001b[0m\u001b[1m)\u001b[0m \u001b[2mMembers:\u001b[0m  \u001b[34m│\u001b[0m\n",
       "\u001b[34m│\u001b[0m     \u001b[3;33mbasic_block\u001b[0m = \u001b[3;96mdef \u001b[0m\u001b[1;31mbasic_block\u001b[0m\u001b[1m(\u001b[0m\u001b[33m...\u001b[0m\u001b[1m)\u001b[0m              \u001b[34m│\u001b[0m\n",
       "\u001b[34m│\u001b[0m     \u001b[3;33mbb_iterator\u001b[0m = \u001b[3;96mdef \u001b[0m\u001b[1;31mbb_iterator\u001b[0m\u001b[1m(\u001b[0m\u001b[33m...\u001b[0m\u001b[1m)\u001b[0m              \u001b[34m│\u001b[0m\n",
       "\u001b[34m│\u001b[0m      \u001b[3;33mblock_type\u001b[0m = \u001b[3;96mdef \u001b[0m\u001b[1;31mblock_type\u001b[0m\u001b[1m(\u001b[0m\u001b[33m...\u001b[0m\u001b[1m)\u001b[0m               \u001b[34m│\u001b[0m\n",
       "\u001b[34m│\u001b[0m         \u001b[3;33mbuilder\u001b[0m = \u001b[3;96mdef \u001b[0m\u001b[1;31mbuilder\u001b[0m\u001b[1m(\u001b[0m\u001b[33m...\u001b[0m\u001b[1m)\u001b[0m                  \u001b[34m│\u001b[0m\n",
       "\u001b[34m│\u001b[0m  \u001b[3;33mCACHE_MODIFIER\u001b[0m = \u001b[3;96mdef \u001b[0m\u001b[1;31mCACHE_MODIFIER\u001b[0m\u001b[1m(\u001b[0m\u001b[33m...\u001b[0m\u001b[1m)\u001b[0m \u001b[2mMembers:\u001b[0m  \u001b[34m│\u001b[0m\n",
       "\u001b[34m│\u001b[0m        \u001b[3;33mconstant\u001b[0m = \u001b[3;96mdef \u001b[0m\u001b[1;31mconstant\u001b[0m\u001b[1m(\u001b[0m\u001b[33m...\u001b[0m\u001b[1m)\u001b[0m                 \u001b[34m│\u001b[0m\n",
       "\u001b[34m│\u001b[0m  \u001b[3;33mconstant_float\u001b[0m = \u001b[3;96mdef \u001b[0m\u001b[1;31mconstant_float\u001b[0m\u001b[1m(\u001b[0m\u001b[33m...\u001b[0m\u001b[1m)\u001b[0m           \u001b[34m│\u001b[0m\n",
       "\u001b[34m│\u001b[0m    \u001b[3;33mconstant_int\u001b[0m = \u001b[3;96mdef \u001b[0m\u001b[1;31mconstant_int\u001b[0m\u001b[1m(\u001b[0m\u001b[33m...\u001b[0m\u001b[1m)\u001b[0m             \u001b[34m│\u001b[0m\n",
       "\u001b[34m│\u001b[0m         \u001b[3;33mcontext\u001b[0m = \u001b[3;96mdef \u001b[0m\u001b[1;31mcontext\u001b[0m\u001b[1m(\u001b[0m\u001b[33m...\u001b[0m\u001b[1m)\u001b[0m                  \u001b[34m│\u001b[0m\n",
       "\u001b[34m│\u001b[0m \u001b[3;33mEVICTION_POLICY\u001b[0m = \u001b[3;96mdef \u001b[0m\u001b[1;31mEVICTION_POLICY\u001b[0m\u001b[1m(\u001b[0m\u001b[33m...\u001b[0m\u001b[1m)\u001b[0m \u001b[2mMembers:\u001b[0m \u001b[34m│\u001b[0m\n",
       "\u001b[34m│\u001b[0m        \u001b[3;33mfunction\u001b[0m = \u001b[3;96mdef \u001b[0m\u001b[1;31mfunction\u001b[0m\u001b[1m(\u001b[0m\u001b[33m...\u001b[0m\u001b[1m)\u001b[0m                 \u001b[34m│\u001b[0m\n",
       "\u001b[34m│\u001b[0m   \u001b[3;33mfunction_type\u001b[0m = \u001b[3;96mdef \u001b[0m\u001b[1;31mfunction_type\u001b[0m\u001b[1m(\u001b[0m\u001b[33m...\u001b[0m\u001b[1m)\u001b[0m            \u001b[34m│\u001b[0m\n",
       "\u001b[34m│\u001b[0m     \u001b[3;33minstruction\u001b[0m = \u001b[3;96mdef \u001b[0m\u001b[1;31minstruction\u001b[0m\u001b[1m(\u001b[0m\u001b[33m...\u001b[0m\u001b[1m)\u001b[0m              \u001b[34m│\u001b[0m\n",
       "\u001b[34m│\u001b[0m    \u001b[3;33minteger_type\u001b[0m = \u001b[3;96mdef \u001b[0m\u001b[1;31minteger_type\u001b[0m\u001b[1m(\u001b[0m\u001b[33m...\u001b[0m\u001b[1m)\u001b[0m             \u001b[34m│\u001b[0m\n",
       "\u001b[34m│\u001b[0m          \u001b[3;33mmodule\u001b[0m = \u001b[3;96mdef \u001b[0m\u001b[1;31mmodule\u001b[0m\u001b[1m(\u001b[0m\u001b[33m...\u001b[0m\u001b[1m)\u001b[0m                   \u001b[34m│\u001b[0m\n",
       "\u001b[34m│\u001b[0m        \u001b[3;33mphi_node\u001b[0m = \u001b[3;96mdef \u001b[0m\u001b[1;31mphi_node\u001b[0m\u001b[1m(\u001b[0m\u001b[33m...\u001b[0m\u001b[1m)\u001b[0m                 \u001b[34m│\u001b[0m\n",
       "\u001b[34m│\u001b[0m    \u001b[3;33mpointer_type\u001b[0m = \u001b[3;96mdef \u001b[0m\u001b[1;31mpointer_type\u001b[0m\u001b[1m(\u001b[0m\u001b[33m...\u001b[0m\u001b[1m)\u001b[0m             \u001b[34m│\u001b[0m\n",
       "\u001b[34m│\u001b[0m       \u001b[3;33mREDUCE_OP\u001b[0m = \u001b[3;96mdef \u001b[0m\u001b[1;31mREDUCE_OP\u001b[0m\u001b[1m(\u001b[0m\u001b[33m...\u001b[0m\u001b[1m)\u001b[0m \u001b[2mMembers:\u001b[0m       \u001b[34m│\u001b[0m\n",
       "\u001b[34m│\u001b[0m     \u001b[3;33mstruct_type\u001b[0m = \u001b[3;96mdef \u001b[0m\u001b[1;31mstruct_type\u001b[0m\u001b[1m(\u001b[0m\u001b[33m...\u001b[0m\u001b[1m)\u001b[0m              \u001b[34m│\u001b[0m\n",
       "\u001b[34m│\u001b[0m            \u001b[3;33mtype\u001b[0m = \u001b[3;96mdef \u001b[0m\u001b[1;31mtype\u001b[0m\u001b[1m(\u001b[0m\u001b[33m...\u001b[0m\u001b[1m)\u001b[0m                     \u001b[34m│\u001b[0m\n",
       "\u001b[34m│\u001b[0m           \u001b[3;33mundef\u001b[0m = \u001b[3;96mdef \u001b[0m\u001b[1;31mundef\u001b[0m\u001b[1m(\u001b[0m\u001b[33m...\u001b[0m\u001b[1m)\u001b[0m                    \u001b[34m│\u001b[0m\n",
       "\u001b[34m│\u001b[0m            \u001b[3;33muser\u001b[0m = \u001b[3;96mdef \u001b[0m\u001b[1;31muser\u001b[0m\u001b[1m(\u001b[0m\u001b[33m...\u001b[0m\u001b[1m)\u001b[0m                     \u001b[34m│\u001b[0m\n",
       "\u001b[34m│\u001b[0m           \u001b[3;33mvalue\u001b[0m = \u001b[3;96mdef \u001b[0m\u001b[1;31mvalue\u001b[0m\u001b[1m(\u001b[0m\u001b[33m...\u001b[0m\u001b[1m)\u001b[0m                    \u001b[34m│\u001b[0m\n",
       "\u001b[34m╰─────────────────────────────────────────────────────╯\u001b[0m\n"
      ]
     },
     "metadata": {},
     "output_type": "display_data"
    }
   ],
   "source": [
    "inspect(ir, methods=True)"
   ]
  },
  {
   "cell_type": "markdown",
   "id": "ebfbd653",
   "metadata": {},
   "source": [
    "🤔 OK this is getting interesting we have lots of things related to caches and eviction policies. This kinda makes sense. GPUs have a memory hierarchy\n",
    "* Local\n",
    "* Shared\n",
    "* Global\n",
    "\n",
    "A big part of making GPU computations efficient is about making sure you're cleverly using your cache (or so I'm told)\n",
    "\n",
    "Ok let's hold off on this part for a while, what's a tensor?"
   ]
  },
  {
   "cell_type": "code",
   "execution_count": 49,
   "id": "e0d02674",
   "metadata": {},
   "outputs": [
    {
     "data": {
      "text/html": [
       "<pre style=\"white-space:pre;overflow-x:auto;line-height:normal;font-family:Menlo,'DejaVu Sans Mono',consolas,'Courier New',monospace\"><span style=\"color: #000080; text-decoration-color: #000080\">╭───────── </span><span style=\"color: #000080; text-decoration-color: #000080; font-weight: bold\">&lt;</span><span style=\"color: #ff00ff; text-decoration-color: #ff00ff; font-weight: bold\">class</span><span style=\"color: #000000; text-decoration-color: #000000\"> </span><span style=\"color: #008000; text-decoration-color: #008000\">'triton.language.core.tensor'</span><span style=\"color: #000080; text-decoration-color: #000080; font-weight: bold\">&gt;</span><span style=\"color: #000080; text-decoration-color: #000080\"> ─────────╮</span>\n",
       "<span style=\"color: #000080; text-decoration-color: #000080\">│</span> <span style=\"color: #00ffff; text-decoration-color: #00ffff; font-style: italic\">def </span><span style=\"color: #800000; text-decoration-color: #800000; font-weight: bold\">tensor</span><span style=\"font-weight: bold\">(</span>handle, type: <span style=\"color: #008000; text-decoration-color: #008000\">'dtype'</span><span style=\"font-weight: bold\">)</span>:                      <span style=\"color: #000080; text-decoration-color: #000080\">│</span>\n",
       "<span style=\"color: #000080; text-decoration-color: #000080\">│</span>                                                         <span style=\"color: #000080; text-decoration-color: #000080\">│</span>\n",
       "<span style=\"color: #000080; text-decoration-color: #000080\">│</span> <span style=\"color: #808000; text-decoration-color: #808000; font-style: italic\">to</span> = <span style=\"color: #00ffff; text-decoration-color: #00ffff; font-style: italic\">def </span><span style=\"color: #800000; text-decoration-color: #800000; font-weight: bold\">to</span><span style=\"font-weight: bold\">(</span>self, dtype, <span style=\"color: #808000; text-decoration-color: #808000\">bitcast</span>=<span style=\"color: #ff0000; text-decoration-color: #ff0000; font-style: italic\">False</span>, <span style=\"color: #808000; text-decoration-color: #808000\">_builder</span>=<span style=\"color: #800080; text-decoration-color: #800080; font-style: italic\">None</span><span style=\"font-weight: bold\">)</span>: <span style=\"color: #000080; text-decoration-color: #000080\">│</span>\n",
       "<span style=\"color: #000080; text-decoration-color: #000080\">╰─────────────────────────────────────────────────────────╯</span>\n",
       "</pre>\n"
      ],
      "text/plain": [
       "\u001b[34m╭─\u001b[0m\u001b[34m──────── \u001b[0m\u001b[1;34m<\u001b[0m\u001b[1;95mclass\u001b[0m\u001b[39m \u001b[0m\u001b[32m'triton.language.core.tensor'\u001b[0m\u001b[1;34m>\u001b[0m\u001b[34m ────────\u001b[0m\u001b[34m─╮\u001b[0m\n",
       "\u001b[34m│\u001b[0m \u001b[3;96mdef \u001b[0m\u001b[1;31mtensor\u001b[0m\u001b[1m(\u001b[0mhandle, type: \u001b[32m'dtype'\u001b[0m\u001b[1m)\u001b[0m:                      \u001b[34m│\u001b[0m\n",
       "\u001b[34m│\u001b[0m                                                         \u001b[34m│\u001b[0m\n",
       "\u001b[34m│\u001b[0m \u001b[3;33mto\u001b[0m = \u001b[3;96mdef \u001b[0m\u001b[1;31mto\u001b[0m\u001b[1m(\u001b[0mself, dtype, \u001b[33mbitcast\u001b[0m=\u001b[3;91mFalse\u001b[0m, \u001b[33m_builder\u001b[0m=\u001b[3;35mNone\u001b[0m\u001b[1m)\u001b[0m: \u001b[34m│\u001b[0m\n",
       "\u001b[34m╰─────────────────────────────────────────────────────────╯\u001b[0m\n"
      ]
     },
     "metadata": {},
     "output_type": "display_data"
    }
   ],
   "source": [
    "inspect(tl.tensor, methods=True)"
   ]
  },
  {
   "cell_type": "markdown",
   "id": "4bfba4c7",
   "metadata": {},
   "source": [
    "Just a single function `to()`, is this the same as the `torch.Tensor.to()` function commonly used to move data to GPU? Also why did `openai/triton` needs its own `tensor` class? Why not just use `torch`?"
   ]
  },
  {
   "cell_type": "code",
   "execution_count": 52,
   "id": "30c7338d",
   "metadata": {},
   "outputs": [
    {
     "data": {
      "text/html": [
       "<pre style=\"white-space:pre;overflow-x:auto;line-height:normal;font-family:Menlo,'DejaVu Sans Mono',consolas,'Courier New',monospace\"><span style=\"color: #000080; text-decoration-color: #000080\">╭────────────────────────── </span><span style=\"color: #000080; text-decoration-color: #000080; font-weight: bold\">&lt;</span><span style=\"color: #ff00ff; text-decoration-color: #ff00ff; font-weight: bold\">class</span><span style=\"color: #000000; text-decoration-color: #000000\"> </span><span style=\"color: #008000; text-decoration-color: #008000\">'triton.language.core.tensor'</span><span style=\"color: #000080; text-decoration-color: #000080; font-weight: bold\">&gt;</span><span style=\"color: #000080; text-decoration-color: #000080\"> ──────────────────────────╮</span>\n",
       "<span style=\"color: #000080; text-decoration-color: #000080\">│</span> <span style=\"color: #00ffff; text-decoration-color: #00ffff; font-style: italic\">def </span><span style=\"color: #800000; text-decoration-color: #800000; font-weight: bold\">tensor</span><span style=\"font-weight: bold\">(</span>handle, type: <span style=\"color: #008000; text-decoration-color: #008000\">'dtype'</span><span style=\"font-weight: bold\">)</span>:                                                        <span style=\"color: #000080; text-decoration-color: #000080\">│</span>\n",
       "<span style=\"color: #000080; text-decoration-color: #000080\">│</span>                                                                                           <span style=\"color: #000080; text-decoration-color: #000080\">│</span>\n",
       "<span style=\"color: #000080; text-decoration-color: #000080\">│</span>          <span style=\"color: #bfbf7f; text-decoration-color: #bfbf7f; font-style: italic\">__dict__</span> = <span style=\"color: #800080; text-decoration-color: #800080; font-weight: bold\">mappingproxy</span><span style=\"font-weight: bold\">({</span>                                                        <span style=\"color: #000080; text-decoration-color: #000080\">│</span>\n",
       "<span style=\"color: #000080; text-decoration-color: #000080\">│</span>                         <span style=\"color: #008000; text-decoration-color: #008000\">'__module__'</span>: <span style=\"color: #008000; text-decoration-color: #008000\">'triton.language.core'</span>,                             <span style=\"color: #000080; text-decoration-color: #000080\">│</span>\n",
       "<span style=\"color: #000080; text-decoration-color: #000080\">│</span>                         <span style=\"color: #008000; text-decoration-color: #008000\">'_to_dtype'</span>: <span style=\"font-weight: bold\">&lt;</span><span style=\"color: #ff00ff; text-decoration-color: #ff00ff; font-weight: bold\">staticmethod</span><span style=\"color: #000000; text-decoration-color: #000000\"> object at </span><span style=\"color: #008080; text-decoration-color: #008080; font-weight: bold\">0x7fc5aa1eeb80</span><span style=\"font-weight: bold\">&gt;</span>,             <span style=\"color: #000080; text-decoration-color: #000080\">│</span>\n",
       "<span style=\"color: #000080; text-decoration-color: #000080\">│</span>                         <span style=\"color: #008000; text-decoration-color: #008000\">'__init__'</span>: <span style=\"font-weight: bold\">&lt;</span><span style=\"color: #ff00ff; text-decoration-color: #ff00ff; font-weight: bold\">function</span><span style=\"color: #000000; text-decoration-color: #000000\"> tensor.__init__ at </span><span style=\"color: #008080; text-decoration-color: #008080; font-weight: bold\">0x7fc5aa180ca0</span><span style=\"font-weight: bold\">&gt;</span>,         <span style=\"color: #000080; text-decoration-color: #000080\">│</span>\n",
       "<span style=\"color: #000080; text-decoration-color: #000080\">│</span>                         <span style=\"color: #008000; text-decoration-color: #008000\">'__str__'</span>: <span style=\"font-weight: bold\">&lt;</span><span style=\"color: #ff00ff; text-decoration-color: #ff00ff; font-weight: bold\">function</span><span style=\"color: #000000; text-decoration-color: #000000\"> tensor.__str__ at </span><span style=\"color: #008080; text-decoration-color: #008080; font-weight: bold\">0x7fc5aa180d30</span><span style=\"font-weight: bold\">&gt;</span>,           <span style=\"color: #000080; text-decoration-color: #000080\">│</span>\n",
       "<span style=\"color: #000080; text-decoration-color: #000080\">│</span>                         <span style=\"color: #008000; text-decoration-color: #008000\">'__add__'</span>: <span style=\"font-weight: bold\">&lt;</span><span style=\"color: #ff00ff; text-decoration-color: #ff00ff; font-weight: bold\">function</span><span style=\"color: #000000; text-decoration-color: #000000\"> tensor.__add__ at </span><span style=\"color: #008080; text-decoration-color: #008080; font-weight: bold\">0x7fc5aa180e50</span><span style=\"font-weight: bold\">&gt;</span>,           <span style=\"color: #000080; text-decoration-color: #000080\">│</span>\n",
       "<span style=\"color: #000080; text-decoration-color: #000080\">│</span>                         <span style=\"color: #008000; text-decoration-color: #008000\">'__radd__'</span>: <span style=\"font-weight: bold\">&lt;</span><span style=\"color: #ff00ff; text-decoration-color: #ff00ff; font-weight: bold\">function</span><span style=\"color: #000000; text-decoration-color: #000000\"> tensor.__radd__ at </span><span style=\"color: #008080; text-decoration-color: #008080; font-weight: bold\">0x7fc5aa180ee0</span><span style=\"font-weight: bold\">&gt;</span>,         <span style=\"color: #000080; text-decoration-color: #000080\">│</span>\n",
       "<span style=\"color: #000080; text-decoration-color: #000080\">│</span>                         <span style=\"color: #008000; text-decoration-color: #008000\">'__sub__'</span>: <span style=\"font-weight: bold\">&lt;</span><span style=\"color: #ff00ff; text-decoration-color: #ff00ff; font-weight: bold\">function</span><span style=\"color: #000000; text-decoration-color: #000000\"> tensor.__sub__ at </span><span style=\"color: #008080; text-decoration-color: #008080; font-weight: bold\">0x7fc5aa185040</span><span style=\"font-weight: bold\">&gt;</span>,           <span style=\"color: #000080; text-decoration-color: #000080\">│</span>\n",
       "<span style=\"color: #000080; text-decoration-color: #000080\">│</span>                         <span style=\"color: #008000; text-decoration-color: #008000\">'__rsub__'</span>: <span style=\"font-weight: bold\">&lt;</span><span style=\"color: #ff00ff; text-decoration-color: #ff00ff; font-weight: bold\">function</span><span style=\"color: #000000; text-decoration-color: #000000\"> tensor.__rsub__ at </span><span style=\"color: #008080; text-decoration-color: #008080; font-weight: bold\">0x7fc5aa1850d0</span><span style=\"font-weight: bold\">&gt;</span>,         <span style=\"color: #000080; text-decoration-color: #000080\">│</span>\n",
       "<span style=\"color: #000080; text-decoration-color: #000080\">│</span>                         <span style=\"color: #008000; text-decoration-color: #008000\">'__mul__'</span>: <span style=\"font-weight: bold\">&lt;</span><span style=\"color: #ff00ff; text-decoration-color: #ff00ff; font-weight: bold\">function</span><span style=\"color: #000000; text-decoration-color: #000000\"> tensor.__mul__ at </span><span style=\"color: #008080; text-decoration-color: #008080; font-weight: bold\">0x7fc5aa1851f0</span><span style=\"font-weight: bold\">&gt;</span>,           <span style=\"color: #000080; text-decoration-color: #000080\">│</span>\n",
       "<span style=\"color: #000080; text-decoration-color: #000080\">│</span>                         <span style=\"color: #008000; text-decoration-color: #008000\">'__rmul__'</span>: <span style=\"font-weight: bold\">&lt;</span><span style=\"color: #ff00ff; text-decoration-color: #ff00ff; font-weight: bold\">function</span><span style=\"color: #000000; text-decoration-color: #000000\"> tensor.__rmul__ at </span><span style=\"color: #008080; text-decoration-color: #008080; font-weight: bold\">0x7fc5aa185280</span><span style=\"font-weight: bold\">&gt;</span>,         <span style=\"color: #000080; text-decoration-color: #000080\">│</span>\n",
       "<span style=\"color: #000080; text-decoration-color: #000080\">│</span>                         <span style=\"color: #008000; text-decoration-color: #008000\">'__truediv__'</span>: <span style=\"font-weight: bold\">&lt;</span><span style=\"color: #ff00ff; text-decoration-color: #ff00ff; font-weight: bold\">function</span><span style=\"color: #000000; text-decoration-color: #000000\"> tensor.__truediv__ at </span><span style=\"color: #008080; text-decoration-color: #008080; font-weight: bold\">0x7fc5aa1853a0</span><span style=\"font-weight: bold\">&gt;</span>,   <span style=\"color: #000080; text-decoration-color: #000080\">│</span>\n",
       "<span style=\"color: #000080; text-decoration-color: #000080\">│</span>                         <span style=\"color: #008000; text-decoration-color: #008000\">'__rtruediv__'</span>: <span style=\"font-weight: bold\">&lt;</span><span style=\"color: #ff00ff; text-decoration-color: #ff00ff; font-weight: bold\">function</span><span style=\"color: #000000; text-decoration-color: #000000\"> tensor.__rtruediv__ at </span><span style=\"color: #008080; text-decoration-color: #008080; font-weight: bold\">0x7fc5aa185430</span><span style=\"font-weight: bold\">&gt;</span>, <span style=\"color: #000080; text-decoration-color: #000080\">│</span>\n",
       "<span style=\"color: #000080; text-decoration-color: #000080\">│</span>                         <span style=\"color: #008000; text-decoration-color: #008000\">'__floordiv__'</span>: <span style=\"font-weight: bold\">&lt;</span><span style=\"color: #ff00ff; text-decoration-color: #ff00ff; font-weight: bold\">function</span><span style=\"color: #000000; text-decoration-color: #000000\"> tensor.__floordiv__ at </span><span style=\"color: #008080; text-decoration-color: #008080; font-weight: bold\">0x7fc5aa185550</span><span style=\"font-weight: bold\">&gt;</span>, <span style=\"color: #000080; text-decoration-color: #000080\">│</span>\n",
       "<span style=\"color: #000080; text-decoration-color: #000080\">│</span>                         <span style=\"color: #008000; text-decoration-color: #008000\">'__mod__'</span>: <span style=\"font-weight: bold\">&lt;</span><span style=\"color: #ff00ff; text-decoration-color: #ff00ff; font-weight: bold\">function</span><span style=\"color: #000000; text-decoration-color: #000000\"> tensor.__mod__ at </span><span style=\"color: #008080; text-decoration-color: #008080; font-weight: bold\">0x7fc5aa185670</span><span style=\"font-weight: bold\">&gt;</span>,           <span style=\"color: #000080; text-decoration-color: #000080\">│</span>\n",
       "<span style=\"color: #000080; text-decoration-color: #000080\">│</span>                         <span style=\"color: #008000; text-decoration-color: #008000\">'__rmod__'</span>: <span style=\"font-weight: bold\">&lt;</span><span style=\"color: #ff00ff; text-decoration-color: #ff00ff; font-weight: bold\">function</span><span style=\"color: #000000; text-decoration-color: #000000\"> tensor.__rmod__ at </span><span style=\"color: #008080; text-decoration-color: #008080; font-weight: bold\">0x7fc5aa185790</span><span style=\"font-weight: bold\">&gt;</span>,         <span style=\"color: #000080; text-decoration-color: #000080\">│</span>\n",
       "<span style=\"color: #000080; text-decoration-color: #000080\">│</span>                         <span style=\"color: #008000; text-decoration-color: #008000\">'__neg__'</span>: <span style=\"font-weight: bold\">&lt;</span><span style=\"color: #ff00ff; text-decoration-color: #ff00ff; font-weight: bold\">function</span><span style=\"color: #000000; text-decoration-color: #000000\"> tensor.__neg__ at </span><span style=\"color: #008080; text-decoration-color: #008080; font-weight: bold\">0x7fc5aa1858b0</span><span style=\"font-weight: bold\">&gt;</span>,           <span style=\"color: #000080; text-decoration-color: #000080\">│</span>\n",
       "<span style=\"color: #000080; text-decoration-color: #000080\">│</span>                         <span style=\"color: #008000; text-decoration-color: #008000\">'__invert__'</span>: <span style=\"font-weight: bold\">&lt;</span><span style=\"color: #ff00ff; text-decoration-color: #ff00ff; font-weight: bold\">function</span><span style=\"color: #000000; text-decoration-color: #000000\"> tensor.__invert__ at </span><span style=\"color: #008080; text-decoration-color: #008080; font-weight: bold\">0x7fc5aa1859d0</span><span style=\"font-weight: bold\">&gt;</span>,     <span style=\"color: #000080; text-decoration-color: #000080\">│</span>\n",
       "<span style=\"color: #000080; text-decoration-color: #000080\">│</span>                         <span style=\"color: #008000; text-decoration-color: #008000\">'__and__'</span>: <span style=\"font-weight: bold\">&lt;</span><span style=\"color: #ff00ff; text-decoration-color: #ff00ff; font-weight: bold\">function</span><span style=\"color: #000000; text-decoration-color: #000000\"> tensor.__and__ at </span><span style=\"color: #008080; text-decoration-color: #008080; font-weight: bold\">0x7fc5aa185af0</span><span style=\"font-weight: bold\">&gt;</span>,           <span style=\"color: #000080; text-decoration-color: #000080\">│</span>\n",
       "<span style=\"color: #000080; text-decoration-color: #000080\">│</span>                         <span style=\"color: #008000; text-decoration-color: #008000\">'__or__'</span>: <span style=\"font-weight: bold\">&lt;</span><span style=\"color: #ff00ff; text-decoration-color: #ff00ff; font-weight: bold\">function</span><span style=\"color: #000000; text-decoration-color: #000000\"> tensor.__or__ at </span><span style=\"color: #008080; text-decoration-color: #008080; font-weight: bold\">0x7fc5aa185c10</span><span style=\"font-weight: bold\">&gt;</span>,             <span style=\"color: #000080; text-decoration-color: #000080\">│</span>\n",
       "<span style=\"color: #000080; text-decoration-color: #000080\">│</span>                         <span style=\"color: #008000; text-decoration-color: #008000\">'__xor__'</span>: <span style=\"font-weight: bold\">&lt;</span><span style=\"color: #ff00ff; text-decoration-color: #ff00ff; font-weight: bold\">function</span><span style=\"color: #000000; text-decoration-color: #000000\"> tensor.__xor__ at </span><span style=\"color: #008080; text-decoration-color: #008080; font-weight: bold\">0x7fc5aa185d30</span><span style=\"font-weight: bold\">&gt;</span>,           <span style=\"color: #000080; text-decoration-color: #000080\">│</span>\n",
       "<span style=\"color: #000080; text-decoration-color: #000080\">│</span>                         <span style=\"color: #008000; text-decoration-color: #008000\">'__lshift__'</span>: <span style=\"font-weight: bold\">&lt;</span><span style=\"color: #ff00ff; text-decoration-color: #ff00ff; font-weight: bold\">function</span><span style=\"color: #000000; text-decoration-color: #000000\"> tensor.__lshift__ at </span><span style=\"color: #008080; text-decoration-color: #008080; font-weight: bold\">0x7fc5aa185e50</span><span style=\"font-weight: bold\">&gt;</span>,     <span style=\"color: #000080; text-decoration-color: #000080\">│</span>\n",
       "<span style=\"color: #000080; text-decoration-color: #000080\">│</span>                         <span style=\"color: #008000; text-decoration-color: #008000\">'__rshift__'</span>: <span style=\"font-weight: bold\">&lt;</span><span style=\"color: #ff00ff; text-decoration-color: #ff00ff; font-weight: bold\">function</span><span style=\"color: #000000; text-decoration-color: #000000\"> tensor.__rshift__ at </span><span style=\"color: #008080; text-decoration-color: #008080; font-weight: bold\">0x7fc5aa185f70</span><span style=\"font-weight: bold\">&gt;</span>,     <span style=\"color: #000080; text-decoration-color: #000080\">│</span>\n",
       "<span style=\"color: #000080; text-decoration-color: #000080\">│</span>                         <span style=\"color: #008000; text-decoration-color: #008000\">'__gt__'</span>: <span style=\"font-weight: bold\">&lt;</span><span style=\"color: #ff00ff; text-decoration-color: #ff00ff; font-weight: bold\">function</span><span style=\"color: #000000; text-decoration-color: #000000\"> tensor.__gt__ at </span><span style=\"color: #008080; text-decoration-color: #008080; font-weight: bold\">0x7fc5aa1880d0</span><span style=\"font-weight: bold\">&gt;</span>,             <span style=\"color: #000080; text-decoration-color: #000080\">│</span>\n",
       "<span style=\"color: #000080; text-decoration-color: #000080\">│</span>                         <span style=\"color: #008000; text-decoration-color: #008000\">'__rgt__'</span>: <span style=\"font-weight: bold\">&lt;</span><span style=\"color: #ff00ff; text-decoration-color: #ff00ff; font-weight: bold\">function</span><span style=\"color: #000000; text-decoration-color: #000000\"> tensor.__rgt__ at </span><span style=\"color: #008080; text-decoration-color: #008080; font-weight: bold\">0x7fc5aa1881f0</span><span style=\"font-weight: bold\">&gt;</span>,           <span style=\"color: #000080; text-decoration-color: #000080\">│</span>\n",
       "<span style=\"color: #000080; text-decoration-color: #000080\">│</span>                         <span style=\"color: #008000; text-decoration-color: #008000\">'__ge__'</span>: <span style=\"font-weight: bold\">&lt;</span><span style=\"color: #ff00ff; text-decoration-color: #ff00ff; font-weight: bold\">function</span><span style=\"color: #000000; text-decoration-color: #000000\"> tensor.__ge__ at </span><span style=\"color: #008080; text-decoration-color: #008080; font-weight: bold\">0x7fc5aa188310</span><span style=\"font-weight: bold\">&gt;</span>,             <span style=\"color: #000080; text-decoration-color: #000080\">│</span>\n",
       "<span style=\"color: #000080; text-decoration-color: #000080\">│</span>                         <span style=\"color: #008000; text-decoration-color: #008000\">'__rge__'</span>: <span style=\"font-weight: bold\">&lt;</span><span style=\"color: #ff00ff; text-decoration-color: #ff00ff; font-weight: bold\">function</span><span style=\"color: #000000; text-decoration-color: #000000\"> tensor.__rge__ at </span><span style=\"color: #008080; text-decoration-color: #008080; font-weight: bold\">0x7fc5aa188430</span><span style=\"font-weight: bold\">&gt;</span>,           <span style=\"color: #000080; text-decoration-color: #000080\">│</span>\n",
       "<span style=\"color: #000080; text-decoration-color: #000080\">│</span>                         <span style=\"color: #008000; text-decoration-color: #008000\">'__lt__'</span>: <span style=\"font-weight: bold\">&lt;</span><span style=\"color: #ff00ff; text-decoration-color: #ff00ff; font-weight: bold\">function</span><span style=\"color: #000000; text-decoration-color: #000000\"> tensor.__lt__ at </span><span style=\"color: #008080; text-decoration-color: #008080; font-weight: bold\">0x7fc5aa188550</span><span style=\"font-weight: bold\">&gt;</span>,             <span style=\"color: #000080; text-decoration-color: #000080\">│</span>\n",
       "<span style=\"color: #000080; text-decoration-color: #000080\">│</span>                         <span style=\"color: #008000; text-decoration-color: #008000\">'__rlt__'</span>: <span style=\"font-weight: bold\">&lt;</span><span style=\"color: #ff00ff; text-decoration-color: #ff00ff; font-weight: bold\">function</span><span style=\"color: #000000; text-decoration-color: #000000\"> tensor.__rlt__ at </span><span style=\"color: #008080; text-decoration-color: #008080; font-weight: bold\">0x7fc5aa188670</span><span style=\"font-weight: bold\">&gt;</span>,           <span style=\"color: #000080; text-decoration-color: #000080\">│</span>\n",
       "<span style=\"color: #000080; text-decoration-color: #000080\">│</span>                         <span style=\"color: #008000; text-decoration-color: #008000\">'__le__'</span>: <span style=\"font-weight: bold\">&lt;</span><span style=\"color: #ff00ff; text-decoration-color: #ff00ff; font-weight: bold\">function</span><span style=\"color: #000000; text-decoration-color: #000000\"> tensor.__le__ at </span><span style=\"color: #008080; text-decoration-color: #008080; font-weight: bold\">0x7fc5aa188790</span><span style=\"font-weight: bold\">&gt;</span>,             <span style=\"color: #000080; text-decoration-color: #000080\">│</span>\n",
       "<span style=\"color: #000080; text-decoration-color: #000080\">│</span>                         <span style=\"color: #008000; text-decoration-color: #008000\">'__rle__'</span>: <span style=\"font-weight: bold\">&lt;</span><span style=\"color: #ff00ff; text-decoration-color: #ff00ff; font-weight: bold\">function</span><span style=\"color: #000000; text-decoration-color: #000000\"> tensor.__rle__ at </span><span style=\"color: #008080; text-decoration-color: #008080; font-weight: bold\">0x7fc5aa1888b0</span><span style=\"font-weight: bold\">&gt;</span>,           <span style=\"color: #000080; text-decoration-color: #000080\">│</span>\n",
       "<span style=\"color: #000080; text-decoration-color: #000080\">│</span>                         <span style=\"color: #008000; text-decoration-color: #008000\">'__eq__'</span>: <span style=\"font-weight: bold\">&lt;</span><span style=\"color: #ff00ff; text-decoration-color: #ff00ff; font-weight: bold\">function</span><span style=\"color: #000000; text-decoration-color: #000000\"> tensor.__eq__ at </span><span style=\"color: #008080; text-decoration-color: #008080; font-weight: bold\">0x7fc5aa1889d0</span><span style=\"font-weight: bold\">&gt;</span>,             <span style=\"color: #000080; text-decoration-color: #000080\">│</span>\n",
       "<span style=\"color: #000080; text-decoration-color: #000080\">│</span>                         <span style=\"color: #008000; text-decoration-color: #008000\">'__ne__'</span>: <span style=\"font-weight: bold\">&lt;</span><span style=\"color: #ff00ff; text-decoration-color: #ff00ff; font-weight: bold\">function</span><span style=\"color: #000000; text-decoration-color: #000000\"> tensor.__ne__ at </span><span style=\"color: #008080; text-decoration-color: #008080; font-weight: bold\">0x7fc5aa188af0</span><span style=\"font-weight: bold\">&gt;</span>,             <span style=\"color: #000080; text-decoration-color: #000080\">│</span>\n",
       "<span style=\"color: #000080; text-decoration-color: #000080\">│</span>                         <span style=\"color: #008000; text-decoration-color: #008000\">'__getitem__'</span>: <span style=\"font-weight: bold\">&lt;</span><span style=\"color: #ff00ff; text-decoration-color: #ff00ff; font-weight: bold\">function</span><span style=\"color: #000000; text-decoration-color: #000000\"> tensor.__getitem__ at </span><span style=\"color: #008080; text-decoration-color: #008080; font-weight: bold\">0x7fc5aa188c10</span><span style=\"font-weight: bold\">&gt;</span>,   <span style=\"color: #000080; text-decoration-color: #000080\">│</span>\n",
       "<span style=\"color: #000080; text-decoration-color: #000080\">│</span>                         <span style=\"color: #008000; text-decoration-color: #008000\">'to'</span>: <span style=\"font-weight: bold\">&lt;</span><span style=\"color: #ff00ff; text-decoration-color: #ff00ff; font-weight: bold\">function</span><span style=\"color: #000000; text-decoration-color: #000000\"> tensor.to at </span><span style=\"color: #008080; text-decoration-color: #008080; font-weight: bold\">0x7fc5aa188d30</span><span style=\"font-weight: bold\">&gt;</span>,                     <span style=\"color: #000080; text-decoration-color: #000080\">│</span>\n",
       "<span style=\"color: #000080; text-decoration-color: #000080\">│</span>                         <span style=\"color: #008000; text-decoration-color: #008000\">'__dict__'</span>: <span style=\"font-weight: bold\">&lt;</span><span style=\"color: #ff00ff; text-decoration-color: #ff00ff; font-weight: bold\">attribute</span><span style=\"color: #000000; text-decoration-color: #000000\"> </span><span style=\"color: #008000; text-decoration-color: #008000\">'__dict__'</span><span style=\"color: #000000; text-decoration-color: #000000\"> of </span><span style=\"color: #008000; text-decoration-color: #008000\">'tensor'</span><span style=\"color: #000000; text-decoration-color: #000000\"> objects</span><span style=\"font-weight: bold\">&gt;</span>,           <span style=\"color: #000080; text-decoration-color: #000080\">│</span>\n",
       "<span style=\"color: #000080; text-decoration-color: #000080\">│</span>                         <span style=\"color: #008000; text-decoration-color: #008000\">'__weakref__'</span>: <span style=\"font-weight: bold\">&lt;</span><span style=\"color: #ff00ff; text-decoration-color: #ff00ff; font-weight: bold\">attribute</span><span style=\"color: #000000; text-decoration-color: #000000\"> </span><span style=\"color: #008000; text-decoration-color: #008000\">'__weakref__'</span><span style=\"color: #000000; text-decoration-color: #000000\"> of </span><span style=\"color: #008000; text-decoration-color: #008000\">'tensor'</span><span style=\"color: #000000; text-decoration-color: #000000\"> objects</span><span style=\"font-weight: bold\">&gt;</span>,     <span style=\"color: #000080; text-decoration-color: #000080\">│</span>\n",
       "<span style=\"color: #000080; text-decoration-color: #000080\">│</span>                         <span style=\"color: #008000; text-decoration-color: #008000\">'__doc__'</span>: <span style=\"color: #800080; text-decoration-color: #800080; font-style: italic\">None</span>,                                                  <span style=\"color: #000080; text-decoration-color: #000080\">│</span>\n",
       "<span style=\"color: #000080; text-decoration-color: #000080\">│</span>                         <span style=\"color: #008000; text-decoration-color: #008000\">'__hash__'</span>: <span style=\"color: #800080; text-decoration-color: #800080; font-style: italic\">None</span>                                                  <span style=\"color: #000080; text-decoration-color: #000080\">│</span>\n",
       "<span style=\"color: #000080; text-decoration-color: #000080\">│</span>                     <span style=\"font-weight: bold\">})</span>                                                                    <span style=\"color: #000080; text-decoration-color: #000080\">│</span>\n",
       "<span style=\"color: #000080; text-decoration-color: #000080\">│</span>           <span style=\"color: #bfbf7f; text-decoration-color: #bfbf7f; font-style: italic\">__doc__</span> = <span style=\"color: #800080; text-decoration-color: #800080; font-style: italic\">None</span>                                                                  <span style=\"color: #000080; text-decoration-color: #000080\">│</span>\n",
       "<span style=\"color: #000080; text-decoration-color: #000080\">│</span>          <span style=\"color: #bfbf7f; text-decoration-color: #bfbf7f; font-style: italic\">__hash__</span> = <span style=\"color: #800080; text-decoration-color: #800080; font-style: italic\">None</span>                                                                  <span style=\"color: #000080; text-decoration-color: #000080\">│</span>\n",
       "<span style=\"color: #000080; text-decoration-color: #000080\">│</span>        <span style=\"color: #bfbf7f; text-decoration-color: #bfbf7f; font-style: italic\">__module__</span> = <span style=\"color: #008000; text-decoration-color: #008000\">'triton.language.core'</span>                                                <span style=\"color: #000080; text-decoration-color: #000080\">│</span>\n",
       "<span style=\"color: #000080; text-decoration-color: #000080\">│</span>       <span style=\"color: #bfbf7f; text-decoration-color: #bfbf7f; font-style: italic\">__weakref__</span> = <span style=\"font-weight: bold\">&lt;</span><span style=\"color: #ff00ff; text-decoration-color: #ff00ff; font-weight: bold\">attribute</span><span style=\"color: #000000; text-decoration-color: #000000\"> </span><span style=\"color: #008000; text-decoration-color: #008000\">'__weakref__'</span><span style=\"color: #000000; text-decoration-color: #000000\"> of </span><span style=\"color: #008000; text-decoration-color: #008000\">'tensor'</span><span style=\"color: #000000; text-decoration-color: #000000\"> objects</span><span style=\"font-weight: bold\">&gt;</span>                         <span style=\"color: #000080; text-decoration-color: #000080\">│</span>\n",
       "<span style=\"color: #000080; text-decoration-color: #000080\">│</span>           <span style=\"color: #bfbf7f; text-decoration-color: #bfbf7f; font-style: italic\">__add__</span> = <span style=\"color: #00ffff; text-decoration-color: #00ffff; font-style: italic\">def </span><span style=\"color: #800000; text-decoration-color: #800000; font-weight: bold\">__add__</span><span style=\"font-weight: bold\">(</span>self, other, <span style=\"color: #808000; text-decoration-color: #808000\">_builder</span>=<span style=\"color: #800080; text-decoration-color: #800080; font-style: italic\">None</span><span style=\"font-weight: bold\">)</span>:                              <span style=\"color: #000080; text-decoration-color: #000080\">│</span>\n",
       "<span style=\"color: #000080; text-decoration-color: #000080\">│</span>           <span style=\"color: #bfbf7f; text-decoration-color: #bfbf7f; font-style: italic\">__and__</span> = <span style=\"color: #00ffff; text-decoration-color: #00ffff; font-style: italic\">def </span><span style=\"color: #800000; text-decoration-color: #800000; font-weight: bold\">__and__</span><span style=\"font-weight: bold\">(</span>self, other, <span style=\"color: #808000; text-decoration-color: #808000\">_builder</span>=<span style=\"color: #800080; text-decoration-color: #800080; font-style: italic\">None</span><span style=\"font-weight: bold\">)</span>:                              <span style=\"color: #000080; text-decoration-color: #000080\">│</span>\n",
       "<span style=\"color: #000080; text-decoration-color: #000080\">│</span>         <span style=\"color: #bfbf7f; text-decoration-color: #bfbf7f; font-style: italic\">__class__</span> = <span style=\"color: #00ffff; text-decoration-color: #00ffff; font-style: italic\">def </span><span style=\"color: #800000; text-decoration-color: #800000; font-weight: bold\">__class__</span><span style=\"font-weight: bold\">(</span><span style=\"color: #808000; text-decoration-color: #808000\">...</span><span style=\"font-weight: bold\">)</span>                                                    <span style=\"color: #000080; text-decoration-color: #000080\">│</span>\n",
       "<span style=\"color: #000080; text-decoration-color: #000080\">│</span>                     <span style=\"color: #bf7fbf; text-decoration-color: #bf7fbf; font-weight: bold\">type</span><span style=\"color: #7f7f7f; text-decoration-color: #7f7f7f; font-weight: bold\">(</span><span style=\"color: #7f7f7f; text-decoration-color: #7f7f7f\">object</span><span style=\"color: #7f7f7f; text-decoration-color: #7f7f7f; font-weight: bold\">)</span><span style=\"color: #7f7f7f; text-decoration-color: #7f7f7f\"> -&gt; the object's type</span>                                     <span style=\"color: #000080; text-decoration-color: #000080\">│</span>\n",
       "<span style=\"color: #000080; text-decoration-color: #000080\">│</span>                     <span style=\"color: #bf7fbf; text-decoration-color: #bf7fbf; font-weight: bold\">type</span><span style=\"color: #7f7f7f; text-decoration-color: #7f7f7f; font-weight: bold\">(</span><span style=\"color: #7f7f7f; text-decoration-color: #7f7f7f\">name, bases, dict, **kwds</span><span style=\"color: #7f7f7f; text-decoration-color: #7f7f7f; font-weight: bold\">)</span><span style=\"color: #7f7f7f; text-decoration-color: #7f7f7f\"> -&gt; a new type</span>                         <span style=\"color: #000080; text-decoration-color: #000080\">│</span>\n",
       "<span style=\"color: #000080; text-decoration-color: #000080\">│</span>       <span style=\"color: #bfbf7f; text-decoration-color: #bfbf7f; font-style: italic\">__delattr__</span> = <span style=\"color: #00ffff; text-decoration-color: #00ffff; font-style: italic\">def </span><span style=\"color: #800000; text-decoration-color: #800000; font-weight: bold\">__delattr__</span><span style=\"font-weight: bold\">(</span>self, name, <span style=\"color: #800080; text-decoration-color: #800080\">/</span><span style=\"font-weight: bold\">)</span>: <span style=\"color: #7f7f7f; text-decoration-color: #7f7f7f\">Implement </span><span style=\"color: #bf7fbf; text-decoration-color: #bf7fbf; font-weight: bold\">delattr</span><span style=\"color: #7f7f7f; text-decoration-color: #7f7f7f; font-weight: bold\">(</span><span style=\"color: #7f7f7f; text-decoration-color: #7f7f7f\">self, name</span><span style=\"color: #7f7f7f; text-decoration-color: #7f7f7f; font-weight: bold\">)</span><span style=\"color: #7f7f7f; text-decoration-color: #7f7f7f\">.</span>        <span style=\"color: #000080; text-decoration-color: #000080\">│</span>\n",
       "<span style=\"color: #000080; text-decoration-color: #000080\">│</span>           <span style=\"color: #bfbf7f; text-decoration-color: #bfbf7f; font-style: italic\">__dir__</span> = <span style=\"color: #00ffff; text-decoration-color: #00ffff; font-style: italic\">def </span><span style=\"color: #800000; text-decoration-color: #800000; font-weight: bold\">__dir__</span><span style=\"font-weight: bold\">(</span>self, <span style=\"color: #800080; text-decoration-color: #800080\">/</span><span style=\"font-weight: bold\">)</span>: <span style=\"color: #7f7f7f; text-decoration-color: #7f7f7f\">Default </span><span style=\"color: #bf7fbf; text-decoration-color: #bf7fbf; font-weight: bold\">dir</span><span style=\"color: #7f7f7f; text-decoration-color: #7f7f7f; font-weight: bold\">()</span><span style=\"color: #7f7f7f; text-decoration-color: #7f7f7f\"> implementation.</span>                   <span style=\"color: #000080; text-decoration-color: #000080\">│</span>\n",
       "<span style=\"color: #000080; text-decoration-color: #000080\">│</span>            <span style=\"color: #bfbf7f; text-decoration-color: #bfbf7f; font-style: italic\">__eq__</span> = <span style=\"color: #00ffff; text-decoration-color: #00ffff; font-style: italic\">def </span><span style=\"color: #800000; text-decoration-color: #800000; font-weight: bold\">__eq__</span><span style=\"font-weight: bold\">(</span>self, other, <span style=\"color: #808000; text-decoration-color: #808000\">_builder</span>=<span style=\"color: #800080; text-decoration-color: #800080; font-style: italic\">None</span><span style=\"font-weight: bold\">)</span>: <span style=\"color: #7f7f7f; text-decoration-color: #7f7f7f\">Return </span><span style=\"color: #bfbf7f; text-decoration-color: #bfbf7f\">self</span><span style=\"color: #7f7f7f; text-decoration-color: #7f7f7f\">==value.</span>           <span style=\"color: #000080; text-decoration-color: #000080\">│</span>\n",
       "<span style=\"color: #000080; text-decoration-color: #000080\">│</span>      <span style=\"color: #bfbf7f; text-decoration-color: #bfbf7f; font-style: italic\">__floordiv__</span> = <span style=\"color: #00ffff; text-decoration-color: #00ffff; font-style: italic\">def </span><span style=\"color: #800000; text-decoration-color: #800000; font-weight: bold\">__floordiv__</span><span style=\"font-weight: bold\">(</span>self, other, <span style=\"color: #808000; text-decoration-color: #808000\">_builder</span>=<span style=\"color: #800080; text-decoration-color: #800080; font-style: italic\">None</span><span style=\"font-weight: bold\">)</span>:                         <span style=\"color: #000080; text-decoration-color: #000080\">│</span>\n",
       "<span style=\"color: #000080; text-decoration-color: #000080\">│</span>        <span style=\"color: #bfbf7f; text-decoration-color: #bfbf7f; font-style: italic\">__format__</span> = <span style=\"color: #00ffff; text-decoration-color: #00ffff; font-style: italic\">def </span><span style=\"color: #800000; text-decoration-color: #800000; font-weight: bold\">__format__</span><span style=\"font-weight: bold\">(</span>self, format_spec, <span style=\"color: #800080; text-decoration-color: #800080\">/</span><span style=\"font-weight: bold\">)</span>: <span style=\"color: #7f7f7f; text-decoration-color: #7f7f7f\">Default object formatter.</span>       <span style=\"color: #000080; text-decoration-color: #000080\">│</span>\n",
       "<span style=\"color: #000080; text-decoration-color: #000080\">│</span>            <span style=\"color: #bfbf7f; text-decoration-color: #bfbf7f; font-style: italic\">__ge__</span> = <span style=\"color: #00ffff; text-decoration-color: #00ffff; font-style: italic\">def </span><span style=\"color: #800000; text-decoration-color: #800000; font-weight: bold\">__ge__</span><span style=\"font-weight: bold\">(</span>self, other, <span style=\"color: #808000; text-decoration-color: #808000\">_builder</span>=<span style=\"color: #800080; text-decoration-color: #800080; font-style: italic\">None</span><span style=\"font-weight: bold\">)</span>: <span style=\"color: #7f7f7f; text-decoration-color: #7f7f7f\">Return self&gt;=value.</span>           <span style=\"color: #000080; text-decoration-color: #000080\">│</span>\n",
       "<span style=\"color: #000080; text-decoration-color: #000080\">│</span>  <span style=\"color: #bfbf7f; text-decoration-color: #bfbf7f; font-style: italic\">__getattribute__</span> = <span style=\"color: #00ffff; text-decoration-color: #00ffff; font-style: italic\">def </span><span style=\"color: #800000; text-decoration-color: #800000; font-weight: bold\">__getattribute__</span><span style=\"font-weight: bold\">(</span>self, name, <span style=\"color: #800080; text-decoration-color: #800080\">/</span><span style=\"font-weight: bold\">)</span>: <span style=\"color: #7f7f7f; text-decoration-color: #7f7f7f\">Return </span><span style=\"color: #bf7fbf; text-decoration-color: #bf7fbf; font-weight: bold\">getattr</span><span style=\"color: #7f7f7f; text-decoration-color: #7f7f7f; font-weight: bold\">(</span><span style=\"color: #7f7f7f; text-decoration-color: #7f7f7f\">self, name</span><span style=\"color: #7f7f7f; text-decoration-color: #7f7f7f; font-weight: bold\">)</span><span style=\"color: #7f7f7f; text-decoration-color: #7f7f7f\">.</span>      <span style=\"color: #000080; text-decoration-color: #000080\">│</span>\n",
       "<span style=\"color: #000080; text-decoration-color: #000080\">│</span>       <span style=\"color: #bfbf7f; text-decoration-color: #bfbf7f; font-style: italic\">__getitem__</span> = <span style=\"color: #00ffff; text-decoration-color: #00ffff; font-style: italic\">def </span><span style=\"color: #800000; text-decoration-color: #800000; font-weight: bold\">__getitem__</span><span style=\"font-weight: bold\">(</span>self, slices, <span style=\"color: #808000; text-decoration-color: #808000\">_builder</span>=<span style=\"color: #800080; text-decoration-color: #800080; font-style: italic\">None</span><span style=\"font-weight: bold\">)</span>:                         <span style=\"color: #000080; text-decoration-color: #000080\">│</span>\n",
       "<span style=\"color: #000080; text-decoration-color: #000080\">│</span>            <span style=\"color: #bfbf7f; text-decoration-color: #bfbf7f; font-style: italic\">__gt__</span> = <span style=\"color: #00ffff; text-decoration-color: #00ffff; font-style: italic\">def </span><span style=\"color: #800000; text-decoration-color: #800000; font-weight: bold\">__gt__</span><span style=\"font-weight: bold\">(</span>self, other, <span style=\"color: #808000; text-decoration-color: #808000\">_builder</span>=<span style=\"color: #800080; text-decoration-color: #800080; font-style: italic\">None</span><span style=\"font-weight: bold\">)</span>: <span style=\"color: #7f7f7f; text-decoration-color: #7f7f7f\">Return self&gt;value.</span>            <span style=\"color: #000080; text-decoration-color: #000080\">│</span>\n",
       "<span style=\"color: #000080; text-decoration-color: #000080\">│</span>          <span style=\"color: #bfbf7f; text-decoration-color: #bfbf7f; font-style: italic\">__init__</span> = <span style=\"color: #00ffff; text-decoration-color: #00ffff; font-style: italic\">def </span><span style=\"color: #800000; text-decoration-color: #800000; font-weight: bold\">__init__</span><span style=\"font-weight: bold\">(</span>self, handle, type: <span style=\"color: #008000; text-decoration-color: #008000\">'dtype'</span><span style=\"font-weight: bold\">)</span>: <span style=\"color: #7f7f7f; text-decoration-color: #7f7f7f\">Initialize self.  See </span>     <span style=\"color: #000080; text-decoration-color: #000080\">│</span>\n",
       "<span style=\"color: #000080; text-decoration-color: #000080\">│</span>                     <span style=\"color: #bf7fbf; text-decoration-color: #bf7fbf; font-weight: bold\">help</span><span style=\"color: #7f7f7f; text-decoration-color: #7f7f7f; font-weight: bold\">(</span><span style=\"color: #bf7fbf; text-decoration-color: #bf7fbf; font-weight: bold\">type</span><span style=\"color: #7f7f7f; text-decoration-color: #7f7f7f; font-weight: bold\">(</span><span style=\"color: #7f7f7f; text-decoration-color: #7f7f7f\">self</span><span style=\"color: #7f7f7f; text-decoration-color: #7f7f7f; font-weight: bold\">))</span><span style=\"color: #7f7f7f; text-decoration-color: #7f7f7f\"> for accurate signature.</span>                              <span style=\"color: #000080; text-decoration-color: #000080\">│</span>\n",
       "<span style=\"color: #000080; text-decoration-color: #000080\">│</span> <span style=\"color: #bfbf7f; text-decoration-color: #bfbf7f; font-style: italic\">__init_subclass__</span> = <span style=\"color: #00ffff; text-decoration-color: #00ffff; font-style: italic\">def </span><span style=\"color: #800000; text-decoration-color: #800000; font-weight: bold\">__init_subclass__</span><span style=\"font-weight: bold\">(</span><span style=\"color: #808000; text-decoration-color: #808000\">...</span><span style=\"font-weight: bold\">)</span> <span style=\"color: #7f7f7f; text-decoration-color: #7f7f7f\">This method is called when a class is </span>     <span style=\"color: #000080; text-decoration-color: #000080\">│</span>\n",
       "<span style=\"color: #000080; text-decoration-color: #000080\">│</span>                     <span style=\"color: #7f7f7f; text-decoration-color: #7f7f7f\">subclassed.</span>                                                           <span style=\"color: #000080; text-decoration-color: #000080\">│</span>\n",
       "<span style=\"color: #000080; text-decoration-color: #000080\">│</span>        <span style=\"color: #bfbf7f; text-decoration-color: #bfbf7f; font-style: italic\">__invert__</span> = <span style=\"color: #00ffff; text-decoration-color: #00ffff; font-style: italic\">def </span><span style=\"color: #800000; text-decoration-color: #800000; font-weight: bold\">__invert__</span><span style=\"font-weight: bold\">(</span>self, <span style=\"color: #808000; text-decoration-color: #808000\">_builder</span>=<span style=\"color: #800080; text-decoration-color: #800080; font-style: italic\">None</span><span style=\"font-weight: bold\">)</span>:                                  <span style=\"color: #000080; text-decoration-color: #000080\">│</span>\n",
       "<span style=\"color: #000080; text-decoration-color: #000080\">│</span>            <span style=\"color: #bfbf7f; text-decoration-color: #bfbf7f; font-style: italic\">__le__</span> = <span style=\"color: #00ffff; text-decoration-color: #00ffff; font-style: italic\">def </span><span style=\"color: #800000; text-decoration-color: #800000; font-weight: bold\">__le__</span><span style=\"font-weight: bold\">(</span>self, other, <span style=\"color: #808000; text-decoration-color: #808000\">_builder</span>=<span style=\"color: #800080; text-decoration-color: #800080; font-style: italic\">None</span><span style=\"font-weight: bold\">)</span>: <span style=\"color: #7f7f7f; text-decoration-color: #7f7f7f\">Return self&lt;=value.</span>           <span style=\"color: #000080; text-decoration-color: #000080\">│</span>\n",
       "<span style=\"color: #000080; text-decoration-color: #000080\">│</span>        <span style=\"color: #bfbf7f; text-decoration-color: #bfbf7f; font-style: italic\">__lshift__</span> = <span style=\"color: #00ffff; text-decoration-color: #00ffff; font-style: italic\">def </span><span style=\"color: #800000; text-decoration-color: #800000; font-weight: bold\">__lshift__</span><span style=\"font-weight: bold\">(</span>self, other, <span style=\"color: #808000; text-decoration-color: #808000\">_builder</span>=<span style=\"color: #800080; text-decoration-color: #800080; font-style: italic\">None</span><span style=\"font-weight: bold\">)</span>:                           <span style=\"color: #000080; text-decoration-color: #000080\">│</span>\n",
       "<span style=\"color: #000080; text-decoration-color: #000080\">│</span>            <span style=\"color: #bfbf7f; text-decoration-color: #bfbf7f; font-style: italic\">__lt__</span> = <span style=\"color: #00ffff; text-decoration-color: #00ffff; font-style: italic\">def </span><span style=\"color: #800000; text-decoration-color: #800000; font-weight: bold\">__lt__</span><span style=\"font-weight: bold\">(</span>self, other, <span style=\"color: #808000; text-decoration-color: #808000\">_builder</span>=<span style=\"color: #800080; text-decoration-color: #800080; font-style: italic\">None</span><span style=\"font-weight: bold\">)</span>: <span style=\"color: #7f7f7f; text-decoration-color: #7f7f7f\">Return self&lt;value.</span>            <span style=\"color: #000080; text-decoration-color: #000080\">│</span>\n",
       "<span style=\"color: #000080; text-decoration-color: #000080\">│</span>           <span style=\"color: #bfbf7f; text-decoration-color: #bfbf7f; font-style: italic\">__mod__</span> = <span style=\"color: #00ffff; text-decoration-color: #00ffff; font-style: italic\">def </span><span style=\"color: #800000; text-decoration-color: #800000; font-weight: bold\">__mod__</span><span style=\"font-weight: bold\">(</span>self, other, <span style=\"color: #808000; text-decoration-color: #808000\">_builder</span>=<span style=\"color: #800080; text-decoration-color: #800080; font-style: italic\">None</span><span style=\"font-weight: bold\">)</span>:                              <span style=\"color: #000080; text-decoration-color: #000080\">│</span>\n",
       "<span style=\"color: #000080; text-decoration-color: #000080\">│</span>           <span style=\"color: #bfbf7f; text-decoration-color: #bfbf7f; font-style: italic\">__mul__</span> = <span style=\"color: #00ffff; text-decoration-color: #00ffff; font-style: italic\">def </span><span style=\"color: #800000; text-decoration-color: #800000; font-weight: bold\">__mul__</span><span style=\"font-weight: bold\">(</span>self, other, <span style=\"color: #808000; text-decoration-color: #808000\">_builder</span>=<span style=\"color: #800080; text-decoration-color: #800080; font-style: italic\">None</span><span style=\"font-weight: bold\">)</span>:                              <span style=\"color: #000080; text-decoration-color: #000080\">│</span>\n",
       "<span style=\"color: #000080; text-decoration-color: #000080\">│</span>            <span style=\"color: #bfbf7f; text-decoration-color: #bfbf7f; font-style: italic\">__ne__</span> = <span style=\"color: #00ffff; text-decoration-color: #00ffff; font-style: italic\">def </span><span style=\"color: #800000; text-decoration-color: #800000; font-weight: bold\">__ne__</span><span style=\"font-weight: bold\">(</span>self, other, <span style=\"color: #808000; text-decoration-color: #808000\">_builder</span>=<span style=\"color: #800080; text-decoration-color: #800080; font-style: italic\">None</span><span style=\"font-weight: bold\">)</span>: <span style=\"color: #7f7f7f; text-decoration-color: #7f7f7f\">Return self!=value.</span>           <span style=\"color: #000080; text-decoration-color: #000080\">│</span>\n",
       "<span style=\"color: #000080; text-decoration-color: #000080\">│</span>           <span style=\"color: #bfbf7f; text-decoration-color: #bfbf7f; font-style: italic\">__neg__</span> = <span style=\"color: #00ffff; text-decoration-color: #00ffff; font-style: italic\">def </span><span style=\"color: #800000; text-decoration-color: #800000; font-weight: bold\">__neg__</span><span style=\"font-weight: bold\">(</span>self, <span style=\"color: #808000; text-decoration-color: #808000\">_builder</span>=<span style=\"color: #800080; text-decoration-color: #800080; font-style: italic\">None</span><span style=\"font-weight: bold\">)</span>:                                     <span style=\"color: #000080; text-decoration-color: #000080\">│</span>\n",
       "<span style=\"color: #000080; text-decoration-color: #000080\">│</span>           <span style=\"color: #bfbf7f; text-decoration-color: #bfbf7f; font-style: italic\">__new__</span> = <span style=\"color: #00ffff; text-decoration-color: #00ffff; font-style: italic\">def </span><span style=\"color: #800000; text-decoration-color: #800000; font-weight: bold\">__new__</span><span style=\"font-weight: bold\">(</span>*args, **kwargs<span style=\"font-weight: bold\">)</span>: <span style=\"color: #7f7f7f; text-decoration-color: #7f7f7f\">Create and return a new object.  See </span>   <span style=\"color: #000080; text-decoration-color: #000080\">│</span>\n",
       "<span style=\"color: #000080; text-decoration-color: #000080\">│</span>                     <span style=\"color: #bf7fbf; text-decoration-color: #bf7fbf; font-weight: bold\">help</span><span style=\"color: #7f7f7f; text-decoration-color: #7f7f7f; font-weight: bold\">(</span><span style=\"color: #7f7f7f; text-decoration-color: #7f7f7f\">type</span><span style=\"color: #7f7f7f; text-decoration-color: #7f7f7f; font-weight: bold\">)</span><span style=\"color: #7f7f7f; text-decoration-color: #7f7f7f\"> for accurate signature.</span>                                    <span style=\"color: #000080; text-decoration-color: #000080\">│</span>\n",
       "<span style=\"color: #000080; text-decoration-color: #000080\">│</span>            <span style=\"color: #bfbf7f; text-decoration-color: #bfbf7f; font-style: italic\">__or__</span> = <span style=\"color: #00ffff; text-decoration-color: #00ffff; font-style: italic\">def </span><span style=\"color: #800000; text-decoration-color: #800000; font-weight: bold\">__or__</span><span style=\"font-weight: bold\">(</span>self, other, <span style=\"color: #808000; text-decoration-color: #808000\">_builder</span>=<span style=\"color: #800080; text-decoration-color: #800080; font-style: italic\">None</span><span style=\"font-weight: bold\">)</span>:                               <span style=\"color: #000080; text-decoration-color: #000080\">│</span>\n",
       "<span style=\"color: #000080; text-decoration-color: #000080\">│</span>          <span style=\"color: #bfbf7f; text-decoration-color: #bfbf7f; font-style: italic\">__radd__</span> = <span style=\"color: #00ffff; text-decoration-color: #00ffff; font-style: italic\">def </span><span style=\"color: #800000; text-decoration-color: #800000; font-weight: bold\">__radd__</span><span style=\"font-weight: bold\">(</span>self, other, <span style=\"color: #808000; text-decoration-color: #808000\">_builder</span>=<span style=\"color: #800080; text-decoration-color: #800080; font-style: italic\">None</span><span style=\"font-weight: bold\">)</span>:                             <span style=\"color: #000080; text-decoration-color: #000080\">│</span>\n",
       "<span style=\"color: #000080; text-decoration-color: #000080\">│</span>        <span style=\"color: #bfbf7f; text-decoration-color: #bfbf7f; font-style: italic\">__reduce__</span> = <span style=\"color: #00ffff; text-decoration-color: #00ffff; font-style: italic\">def </span><span style=\"color: #800000; text-decoration-color: #800000; font-weight: bold\">__reduce__</span><span style=\"font-weight: bold\">(</span>self, <span style=\"color: #800080; text-decoration-color: #800080\">/</span><span style=\"font-weight: bold\">)</span>: <span style=\"color: #7f7f7f; text-decoration-color: #7f7f7f\">Helper for pickle.</span>                           <span style=\"color: #000080; text-decoration-color: #000080\">│</span>\n",
       "<span style=\"color: #000080; text-decoration-color: #000080\">│</span>     <span style=\"color: #bfbf7f; text-decoration-color: #bfbf7f; font-style: italic\">__reduce_ex__</span> = <span style=\"color: #00ffff; text-decoration-color: #00ffff; font-style: italic\">def </span><span style=\"color: #800000; text-decoration-color: #800000; font-weight: bold\">__reduce_ex__</span><span style=\"font-weight: bold\">(</span>self, protocol, <span style=\"color: #800080; text-decoration-color: #800080\">/</span><span style=\"font-weight: bold\">)</span>: <span style=\"color: #7f7f7f; text-decoration-color: #7f7f7f\">Helper for pickle.</span>              <span style=\"color: #000080; text-decoration-color: #000080\">│</span>\n",
       "<span style=\"color: #000080; text-decoration-color: #000080\">│</span>          <span style=\"color: #bfbf7f; text-decoration-color: #bfbf7f; font-style: italic\">__repr__</span> = <span style=\"color: #00ffff; text-decoration-color: #00ffff; font-style: italic\">def </span><span style=\"color: #800000; text-decoration-color: #800000; font-weight: bold\">__repr__</span><span style=\"font-weight: bold\">(</span>self, <span style=\"color: #800080; text-decoration-color: #800080\">/</span><span style=\"font-weight: bold\">)</span>: <span style=\"color: #7f7f7f; text-decoration-color: #7f7f7f\">Return </span><span style=\"color: #bf7fbf; text-decoration-color: #bf7fbf; font-weight: bold\">repr</span><span style=\"color: #7f7f7f; text-decoration-color: #7f7f7f; font-weight: bold\">(</span><span style=\"color: #7f7f7f; text-decoration-color: #7f7f7f\">self</span><span style=\"color: #7f7f7f; text-decoration-color: #7f7f7f; font-weight: bold\">)</span><span style=\"color: #7f7f7f; text-decoration-color: #7f7f7f\">.</span>                             <span style=\"color: #000080; text-decoration-color: #000080\">│</span>\n",
       "<span style=\"color: #000080; text-decoration-color: #000080\">│</span>           <span style=\"color: #bfbf7f; text-decoration-color: #bfbf7f; font-style: italic\">__rge__</span> = <span style=\"color: #00ffff; text-decoration-color: #00ffff; font-style: italic\">def </span><span style=\"color: #800000; text-decoration-color: #800000; font-weight: bold\">__rge__</span><span style=\"font-weight: bold\">(</span>self, other, <span style=\"color: #808000; text-decoration-color: #808000\">_builder</span>=<span style=\"color: #800080; text-decoration-color: #800080; font-style: italic\">None</span><span style=\"font-weight: bold\">)</span>:                              <span style=\"color: #000080; text-decoration-color: #000080\">│</span>\n",
       "<span style=\"color: #000080; text-decoration-color: #000080\">│</span>           <span style=\"color: #bfbf7f; text-decoration-color: #bfbf7f; font-style: italic\">__rgt__</span> = <span style=\"color: #00ffff; text-decoration-color: #00ffff; font-style: italic\">def </span><span style=\"color: #800000; text-decoration-color: #800000; font-weight: bold\">__rgt__</span><span style=\"font-weight: bold\">(</span>self, other, <span style=\"color: #808000; text-decoration-color: #808000\">_builder</span>=<span style=\"color: #800080; text-decoration-color: #800080; font-style: italic\">None</span><span style=\"font-weight: bold\">)</span>:                              <span style=\"color: #000080; text-decoration-color: #000080\">│</span>\n",
       "<span style=\"color: #000080; text-decoration-color: #000080\">│</span>           <span style=\"color: #bfbf7f; text-decoration-color: #bfbf7f; font-style: italic\">__rle__</span> = <span style=\"color: #00ffff; text-decoration-color: #00ffff; font-style: italic\">def </span><span style=\"color: #800000; text-decoration-color: #800000; font-weight: bold\">__rle__</span><span style=\"font-weight: bold\">(</span>self, other, <span style=\"color: #808000; text-decoration-color: #808000\">_builder</span>=<span style=\"color: #800080; text-decoration-color: #800080; font-style: italic\">None</span><span style=\"font-weight: bold\">)</span>:                              <span style=\"color: #000080; text-decoration-color: #000080\">│</span>\n",
       "<span style=\"color: #000080; text-decoration-color: #000080\">│</span>           <span style=\"color: #bfbf7f; text-decoration-color: #bfbf7f; font-style: italic\">__rlt__</span> = <span style=\"color: #00ffff; text-decoration-color: #00ffff; font-style: italic\">def </span><span style=\"color: #800000; text-decoration-color: #800000; font-weight: bold\">__rlt__</span><span style=\"font-weight: bold\">(</span>self, other, <span style=\"color: #808000; text-decoration-color: #808000\">_builder</span>=<span style=\"color: #800080; text-decoration-color: #800080; font-style: italic\">None</span><span style=\"font-weight: bold\">)</span>:                              <span style=\"color: #000080; text-decoration-color: #000080\">│</span>\n",
       "<span style=\"color: #000080; text-decoration-color: #000080\">│</span>          <span style=\"color: #bfbf7f; text-decoration-color: #bfbf7f; font-style: italic\">__rmod__</span> = <span style=\"color: #00ffff; text-decoration-color: #00ffff; font-style: italic\">def </span><span style=\"color: #800000; text-decoration-color: #800000; font-weight: bold\">__rmod__</span><span style=\"font-weight: bold\">(</span>self, other, <span style=\"color: #808000; text-decoration-color: #808000\">_builder</span>=<span style=\"color: #800080; text-decoration-color: #800080; font-style: italic\">None</span><span style=\"font-weight: bold\">)</span>:                             <span style=\"color: #000080; text-decoration-color: #000080\">│</span>\n",
       "<span style=\"color: #000080; text-decoration-color: #000080\">│</span>          <span style=\"color: #bfbf7f; text-decoration-color: #bfbf7f; font-style: italic\">__rmul__</span> = <span style=\"color: #00ffff; text-decoration-color: #00ffff; font-style: italic\">def </span><span style=\"color: #800000; text-decoration-color: #800000; font-weight: bold\">__rmul__</span><span style=\"font-weight: bold\">(</span>self, other, <span style=\"color: #808000; text-decoration-color: #808000\">_builder</span>=<span style=\"color: #800080; text-decoration-color: #800080; font-style: italic\">None</span><span style=\"font-weight: bold\">)</span>:                             <span style=\"color: #000080; text-decoration-color: #000080\">│</span>\n",
       "<span style=\"color: #000080; text-decoration-color: #000080\">│</span>        <span style=\"color: #bfbf7f; text-decoration-color: #bfbf7f; font-style: italic\">__rshift__</span> = <span style=\"color: #00ffff; text-decoration-color: #00ffff; font-style: italic\">def </span><span style=\"color: #800000; text-decoration-color: #800000; font-weight: bold\">__rshift__</span><span style=\"font-weight: bold\">(</span>self, other, <span style=\"color: #808000; text-decoration-color: #808000\">_builder</span>=<span style=\"color: #800080; text-decoration-color: #800080; font-style: italic\">None</span><span style=\"font-weight: bold\">)</span>:                           <span style=\"color: #000080; text-decoration-color: #000080\">│</span>\n",
       "<span style=\"color: #000080; text-decoration-color: #000080\">│</span>          <span style=\"color: #bfbf7f; text-decoration-color: #bfbf7f; font-style: italic\">__rsub__</span> = <span style=\"color: #00ffff; text-decoration-color: #00ffff; font-style: italic\">def </span><span style=\"color: #800000; text-decoration-color: #800000; font-weight: bold\">__rsub__</span><span style=\"font-weight: bold\">(</span>self, other, <span style=\"color: #808000; text-decoration-color: #808000\">_builder</span>=<span style=\"color: #800080; text-decoration-color: #800080; font-style: italic\">None</span><span style=\"font-weight: bold\">)</span>:                             <span style=\"color: #000080; text-decoration-color: #000080\">│</span>\n",
       "<span style=\"color: #000080; text-decoration-color: #000080\">│</span>      <span style=\"color: #bfbf7f; text-decoration-color: #bfbf7f; font-style: italic\">__rtruediv__</span> = <span style=\"color: #00ffff; text-decoration-color: #00ffff; font-style: italic\">def </span><span style=\"color: #800000; text-decoration-color: #800000; font-weight: bold\">__rtruediv__</span><span style=\"font-weight: bold\">(</span>self, other, <span style=\"color: #808000; text-decoration-color: #808000\">_builder</span>=<span style=\"color: #800080; text-decoration-color: #800080; font-style: italic\">None</span><span style=\"font-weight: bold\">)</span>:                         <span style=\"color: #000080; text-decoration-color: #000080\">│</span>\n",
       "<span style=\"color: #000080; text-decoration-color: #000080\">│</span>       <span style=\"color: #bfbf7f; text-decoration-color: #bfbf7f; font-style: italic\">__setattr__</span> = <span style=\"color: #00ffff; text-decoration-color: #00ffff; font-style: italic\">def </span><span style=\"color: #800000; text-decoration-color: #800000; font-weight: bold\">__setattr__</span><span style=\"font-weight: bold\">(</span>self, name, value, <span style=\"color: #800080; text-decoration-color: #800080\">/</span><span style=\"font-weight: bold\">)</span>: <span style=\"color: #7f7f7f; text-decoration-color: #7f7f7f\">Implement </span><span style=\"color: #bf7fbf; text-decoration-color: #bf7fbf; font-weight: bold\">setattr</span><span style=\"color: #7f7f7f; text-decoration-color: #7f7f7f; font-weight: bold\">(</span><span style=\"color: #7f7f7f; text-decoration-color: #7f7f7f\">self, name, </span> <span style=\"color: #000080; text-decoration-color: #000080\">│</span>\n",
       "<span style=\"color: #000080; text-decoration-color: #000080\">│</span>                     <span style=\"color: #7f7f7f; text-decoration-color: #7f7f7f\">value</span><span style=\"color: #7f7f7f; text-decoration-color: #7f7f7f; font-weight: bold\">)</span><span style=\"color: #7f7f7f; text-decoration-color: #7f7f7f\">.</span>                                                               <span style=\"color: #000080; text-decoration-color: #000080\">│</span>\n",
       "<span style=\"color: #000080; text-decoration-color: #000080\">│</span>        <span style=\"color: #bfbf7f; text-decoration-color: #bfbf7f; font-style: italic\">__sizeof__</span> = <span style=\"color: #00ffff; text-decoration-color: #00ffff; font-style: italic\">def </span><span style=\"color: #800000; text-decoration-color: #800000; font-weight: bold\">__sizeof__</span><span style=\"font-weight: bold\">(</span>self, <span style=\"color: #800080; text-decoration-color: #800080\">/</span><span style=\"font-weight: bold\">)</span>: <span style=\"color: #7f7f7f; text-decoration-color: #7f7f7f\">Size of object in memory, in bytes.</span>          <span style=\"color: #000080; text-decoration-color: #000080\">│</span>\n",
       "<span style=\"color: #000080; text-decoration-color: #000080\">│</span>           <span style=\"color: #bfbf7f; text-decoration-color: #bfbf7f; font-style: italic\">__str__</span> = <span style=\"color: #00ffff; text-decoration-color: #00ffff; font-style: italic\">def </span><span style=\"color: #800000; text-decoration-color: #800000; font-weight: bold\">__str__</span><span style=\"font-weight: bold\">(</span>self<span style=\"font-weight: bold\">)</span> -&gt; <span style=\"color: #008000; text-decoration-color: #008000\">'str'</span>: <span style=\"color: #7f7f7f; text-decoration-color: #7f7f7f\">Return </span><span style=\"color: #bf7fbf; text-decoration-color: #bf7fbf; font-weight: bold\">str</span><span style=\"color: #7f7f7f; text-decoration-color: #7f7f7f; font-weight: bold\">(</span><span style=\"color: #7f7f7f; text-decoration-color: #7f7f7f\">self</span><span style=\"color: #7f7f7f; text-decoration-color: #7f7f7f; font-weight: bold\">)</span><span style=\"color: #7f7f7f; text-decoration-color: #7f7f7f\">.</span>                         <span style=\"color: #000080; text-decoration-color: #000080\">│</span>\n",
       "<span style=\"color: #000080; text-decoration-color: #000080\">│</span>           <span style=\"color: #bfbf7f; text-decoration-color: #bfbf7f; font-style: italic\">__sub__</span> = <span style=\"color: #00ffff; text-decoration-color: #00ffff; font-style: italic\">def </span><span style=\"color: #800000; text-decoration-color: #800000; font-weight: bold\">__sub__</span><span style=\"font-weight: bold\">(</span>self, other, <span style=\"color: #808000; text-decoration-color: #808000\">_builder</span>=<span style=\"color: #800080; text-decoration-color: #800080; font-style: italic\">None</span><span style=\"font-weight: bold\">)</span>:                              <span style=\"color: #000080; text-decoration-color: #000080\">│</span>\n",
       "<span style=\"color: #000080; text-decoration-color: #000080\">│</span>  <span style=\"color: #bfbf7f; text-decoration-color: #bfbf7f; font-style: italic\">__subclasshook__</span> = <span style=\"color: #00ffff; text-decoration-color: #00ffff; font-style: italic\">def </span><span style=\"color: #800000; text-decoration-color: #800000; font-weight: bold\">__subclasshook__</span><span style=\"font-weight: bold\">(</span><span style=\"color: #808000; text-decoration-color: #808000\">...</span><span style=\"font-weight: bold\">)</span> <span style=\"color: #7f7f7f; text-decoration-color: #7f7f7f\">Abstract classes can override this to </span>      <span style=\"color: #000080; text-decoration-color: #000080\">│</span>\n",
       "<span style=\"color: #000080; text-decoration-color: #000080\">│</span>                     <span style=\"color: #7f7f7f; text-decoration-color: #7f7f7f\">customize </span><span style=\"color: #bf7fbf; text-decoration-color: #bf7fbf; font-weight: bold\">issubclass</span><span style=\"color: #7f7f7f; text-decoration-color: #7f7f7f; font-weight: bold\">()</span><span style=\"color: #7f7f7f; text-decoration-color: #7f7f7f\">.</span>                                               <span style=\"color: #000080; text-decoration-color: #000080\">│</span>\n",
       "<span style=\"color: #000080; text-decoration-color: #000080\">│</span>                <span style=\"color: #808000; text-decoration-color: #808000; font-style: italic\">to</span> = <span style=\"color: #00ffff; text-decoration-color: #00ffff; font-style: italic\">def </span><span style=\"color: #800000; text-decoration-color: #800000; font-weight: bold\">to</span><span style=\"font-weight: bold\">(</span>self, dtype, <span style=\"color: #808000; text-decoration-color: #808000\">bitcast</span>=<span style=\"color: #ff0000; text-decoration-color: #ff0000; font-style: italic\">False</span>, <span style=\"color: #808000; text-decoration-color: #808000\">_builder</span>=<span style=\"color: #800080; text-decoration-color: #800080; font-style: italic\">None</span><span style=\"font-weight: bold\">)</span>:                    <span style=\"color: #000080; text-decoration-color: #000080\">│</span>\n",
       "<span style=\"color: #000080; text-decoration-color: #000080\">│</span>         <span style=\"color: #808000; text-decoration-color: #808000; font-style: italic\">_to_dtype</span> = <span style=\"color: #00ffff; text-decoration-color: #00ffff; font-style: italic\">def </span><span style=\"color: #800000; text-decoration-color: #800000; font-weight: bold\">_to_dtype</span><span style=\"font-weight: bold\">(</span>ir_type<span style=\"font-weight: bold\">)</span>:                                               <span style=\"color: #000080; text-decoration-color: #000080\">│</span>\n",
       "<span style=\"color: #000080; text-decoration-color: #000080\">│</span>       <span style=\"color: #bfbf7f; text-decoration-color: #bfbf7f; font-style: italic\">__truediv__</span> = <span style=\"color: #00ffff; text-decoration-color: #00ffff; font-style: italic\">def </span><span style=\"color: #800000; text-decoration-color: #800000; font-weight: bold\">__truediv__</span><span style=\"font-weight: bold\">(</span>self, other, <span style=\"color: #808000; text-decoration-color: #808000\">_builder</span>=<span style=\"color: #800080; text-decoration-color: #800080; font-style: italic\">None</span><span style=\"font-weight: bold\">)</span>:                          <span style=\"color: #000080; text-decoration-color: #000080\">│</span>\n",
       "<span style=\"color: #000080; text-decoration-color: #000080\">│</span>           <span style=\"color: #bfbf7f; text-decoration-color: #bfbf7f; font-style: italic\">__xor__</span> = <span style=\"color: #00ffff; text-decoration-color: #00ffff; font-style: italic\">def </span><span style=\"color: #800000; text-decoration-color: #800000; font-weight: bold\">__xor__</span><span style=\"font-weight: bold\">(</span>self, other, <span style=\"color: #808000; text-decoration-color: #808000\">_builder</span>=<span style=\"color: #800080; text-decoration-color: #800080; font-style: italic\">None</span><span style=\"font-weight: bold\">)</span>:                              <span style=\"color: #000080; text-decoration-color: #000080\">│</span>\n",
       "<span style=\"color: #000080; text-decoration-color: #000080\">╰───────────────────────────────────────────────────────────────────────────────────────────╯</span>\n",
       "</pre>\n"
      ],
      "text/plain": [
       "\u001b[34m╭─\u001b[0m\u001b[34m───────────────────────── \u001b[0m\u001b[1;34m<\u001b[0m\u001b[1;95mclass\u001b[0m\u001b[39m \u001b[0m\u001b[32m'triton.language.core.tensor'\u001b[0m\u001b[1;34m>\u001b[0m\u001b[34m ─────────────────────────\u001b[0m\u001b[34m─╮\u001b[0m\n",
       "\u001b[34m│\u001b[0m \u001b[3;96mdef \u001b[0m\u001b[1;31mtensor\u001b[0m\u001b[1m(\u001b[0mhandle, type: \u001b[32m'dtype'\u001b[0m\u001b[1m)\u001b[0m:                                                        \u001b[34m│\u001b[0m\n",
       "\u001b[34m│\u001b[0m                                                                                           \u001b[34m│\u001b[0m\n",
       "\u001b[34m│\u001b[0m          \u001b[2;3;33m__dict__\u001b[0m = \u001b[1;35mmappingproxy\u001b[0m\u001b[1m(\u001b[0m\u001b[1m{\u001b[0m                                                        \u001b[34m│\u001b[0m\n",
       "\u001b[34m│\u001b[0m                         \u001b[32m'__module__'\u001b[0m: \u001b[32m'triton.language.core'\u001b[0m,                             \u001b[34m│\u001b[0m\n",
       "\u001b[34m│\u001b[0m                         \u001b[32m'_to_dtype'\u001b[0m: \u001b[1m<\u001b[0m\u001b[1;95mstaticmethod\u001b[0m\u001b[39m object at \u001b[0m\u001b[1;36m0x7fc5aa1eeb80\u001b[0m\u001b[1m>\u001b[0m,             \u001b[34m│\u001b[0m\n",
       "\u001b[34m│\u001b[0m                         \u001b[32m'__init__'\u001b[0m: \u001b[1m<\u001b[0m\u001b[1;95mfunction\u001b[0m\u001b[39m tensor.__init__ at \u001b[0m\u001b[1;36m0x7fc5aa180ca0\u001b[0m\u001b[1m>\u001b[0m,         \u001b[34m│\u001b[0m\n",
       "\u001b[34m│\u001b[0m                         \u001b[32m'__str__'\u001b[0m: \u001b[1m<\u001b[0m\u001b[1;95mfunction\u001b[0m\u001b[39m tensor.__str__ at \u001b[0m\u001b[1;36m0x7fc5aa180d30\u001b[0m\u001b[1m>\u001b[0m,           \u001b[34m│\u001b[0m\n",
       "\u001b[34m│\u001b[0m                         \u001b[32m'__add__'\u001b[0m: \u001b[1m<\u001b[0m\u001b[1;95mfunction\u001b[0m\u001b[39m tensor.__add__ at \u001b[0m\u001b[1;36m0x7fc5aa180e50\u001b[0m\u001b[1m>\u001b[0m,           \u001b[34m│\u001b[0m\n",
       "\u001b[34m│\u001b[0m                         \u001b[32m'__radd__'\u001b[0m: \u001b[1m<\u001b[0m\u001b[1;95mfunction\u001b[0m\u001b[39m tensor.__radd__ at \u001b[0m\u001b[1;36m0x7fc5aa180ee0\u001b[0m\u001b[1m>\u001b[0m,         \u001b[34m│\u001b[0m\n",
       "\u001b[34m│\u001b[0m                         \u001b[32m'__sub__'\u001b[0m: \u001b[1m<\u001b[0m\u001b[1;95mfunction\u001b[0m\u001b[39m tensor.__sub__ at \u001b[0m\u001b[1;36m0x7fc5aa185040\u001b[0m\u001b[1m>\u001b[0m,           \u001b[34m│\u001b[0m\n",
       "\u001b[34m│\u001b[0m                         \u001b[32m'__rsub__'\u001b[0m: \u001b[1m<\u001b[0m\u001b[1;95mfunction\u001b[0m\u001b[39m tensor.__rsub__ at \u001b[0m\u001b[1;36m0x7fc5aa1850d0\u001b[0m\u001b[1m>\u001b[0m,         \u001b[34m│\u001b[0m\n",
       "\u001b[34m│\u001b[0m                         \u001b[32m'__mul__'\u001b[0m: \u001b[1m<\u001b[0m\u001b[1;95mfunction\u001b[0m\u001b[39m tensor.__mul__ at \u001b[0m\u001b[1;36m0x7fc5aa1851f0\u001b[0m\u001b[1m>\u001b[0m,           \u001b[34m│\u001b[0m\n",
       "\u001b[34m│\u001b[0m                         \u001b[32m'__rmul__'\u001b[0m: \u001b[1m<\u001b[0m\u001b[1;95mfunction\u001b[0m\u001b[39m tensor.__rmul__ at \u001b[0m\u001b[1;36m0x7fc5aa185280\u001b[0m\u001b[1m>\u001b[0m,         \u001b[34m│\u001b[0m\n",
       "\u001b[34m│\u001b[0m                         \u001b[32m'__truediv__'\u001b[0m: \u001b[1m<\u001b[0m\u001b[1;95mfunction\u001b[0m\u001b[39m tensor.__truediv__ at \u001b[0m\u001b[1;36m0x7fc5aa1853a0\u001b[0m\u001b[1m>\u001b[0m,   \u001b[34m│\u001b[0m\n",
       "\u001b[34m│\u001b[0m                         \u001b[32m'__rtruediv__'\u001b[0m: \u001b[1m<\u001b[0m\u001b[1;95mfunction\u001b[0m\u001b[39m tensor.__rtruediv__ at \u001b[0m\u001b[1;36m0x7fc5aa185430\u001b[0m\u001b[1m>\u001b[0m, \u001b[34m│\u001b[0m\n",
       "\u001b[34m│\u001b[0m                         \u001b[32m'__floordiv__'\u001b[0m: \u001b[1m<\u001b[0m\u001b[1;95mfunction\u001b[0m\u001b[39m tensor.__floordiv__ at \u001b[0m\u001b[1;36m0x7fc5aa185550\u001b[0m\u001b[1m>\u001b[0m, \u001b[34m│\u001b[0m\n",
       "\u001b[34m│\u001b[0m                         \u001b[32m'__mod__'\u001b[0m: \u001b[1m<\u001b[0m\u001b[1;95mfunction\u001b[0m\u001b[39m tensor.__mod__ at \u001b[0m\u001b[1;36m0x7fc5aa185670\u001b[0m\u001b[1m>\u001b[0m,           \u001b[34m│\u001b[0m\n",
       "\u001b[34m│\u001b[0m                         \u001b[32m'__rmod__'\u001b[0m: \u001b[1m<\u001b[0m\u001b[1;95mfunction\u001b[0m\u001b[39m tensor.__rmod__ at \u001b[0m\u001b[1;36m0x7fc5aa185790\u001b[0m\u001b[1m>\u001b[0m,         \u001b[34m│\u001b[0m\n",
       "\u001b[34m│\u001b[0m                         \u001b[32m'__neg__'\u001b[0m: \u001b[1m<\u001b[0m\u001b[1;95mfunction\u001b[0m\u001b[39m tensor.__neg__ at \u001b[0m\u001b[1;36m0x7fc5aa1858b0\u001b[0m\u001b[1m>\u001b[0m,           \u001b[34m│\u001b[0m\n",
       "\u001b[34m│\u001b[0m                         \u001b[32m'__invert__'\u001b[0m: \u001b[1m<\u001b[0m\u001b[1;95mfunction\u001b[0m\u001b[39m tensor.__invert__ at \u001b[0m\u001b[1;36m0x7fc5aa1859d0\u001b[0m\u001b[1m>\u001b[0m,     \u001b[34m│\u001b[0m\n",
       "\u001b[34m│\u001b[0m                         \u001b[32m'__and__'\u001b[0m: \u001b[1m<\u001b[0m\u001b[1;95mfunction\u001b[0m\u001b[39m tensor.__and__ at \u001b[0m\u001b[1;36m0x7fc5aa185af0\u001b[0m\u001b[1m>\u001b[0m,           \u001b[34m│\u001b[0m\n",
       "\u001b[34m│\u001b[0m                         \u001b[32m'__or__'\u001b[0m: \u001b[1m<\u001b[0m\u001b[1;95mfunction\u001b[0m\u001b[39m tensor.__or__ at \u001b[0m\u001b[1;36m0x7fc5aa185c10\u001b[0m\u001b[1m>\u001b[0m,             \u001b[34m│\u001b[0m\n",
       "\u001b[34m│\u001b[0m                         \u001b[32m'__xor__'\u001b[0m: \u001b[1m<\u001b[0m\u001b[1;95mfunction\u001b[0m\u001b[39m tensor.__xor__ at \u001b[0m\u001b[1;36m0x7fc5aa185d30\u001b[0m\u001b[1m>\u001b[0m,           \u001b[34m│\u001b[0m\n",
       "\u001b[34m│\u001b[0m                         \u001b[32m'__lshift__'\u001b[0m: \u001b[1m<\u001b[0m\u001b[1;95mfunction\u001b[0m\u001b[39m tensor.__lshift__ at \u001b[0m\u001b[1;36m0x7fc5aa185e50\u001b[0m\u001b[1m>\u001b[0m,     \u001b[34m│\u001b[0m\n",
       "\u001b[34m│\u001b[0m                         \u001b[32m'__rshift__'\u001b[0m: \u001b[1m<\u001b[0m\u001b[1;95mfunction\u001b[0m\u001b[39m tensor.__rshift__ at \u001b[0m\u001b[1;36m0x7fc5aa185f70\u001b[0m\u001b[1m>\u001b[0m,     \u001b[34m│\u001b[0m\n",
       "\u001b[34m│\u001b[0m                         \u001b[32m'__gt__'\u001b[0m: \u001b[1m<\u001b[0m\u001b[1;95mfunction\u001b[0m\u001b[39m tensor.__gt__ at \u001b[0m\u001b[1;36m0x7fc5aa1880d0\u001b[0m\u001b[1m>\u001b[0m,             \u001b[34m│\u001b[0m\n",
       "\u001b[34m│\u001b[0m                         \u001b[32m'__rgt__'\u001b[0m: \u001b[1m<\u001b[0m\u001b[1;95mfunction\u001b[0m\u001b[39m tensor.__rgt__ at \u001b[0m\u001b[1;36m0x7fc5aa1881f0\u001b[0m\u001b[1m>\u001b[0m,           \u001b[34m│\u001b[0m\n",
       "\u001b[34m│\u001b[0m                         \u001b[32m'__ge__'\u001b[0m: \u001b[1m<\u001b[0m\u001b[1;95mfunction\u001b[0m\u001b[39m tensor.__ge__ at \u001b[0m\u001b[1;36m0x7fc5aa188310\u001b[0m\u001b[1m>\u001b[0m,             \u001b[34m│\u001b[0m\n",
       "\u001b[34m│\u001b[0m                         \u001b[32m'__rge__'\u001b[0m: \u001b[1m<\u001b[0m\u001b[1;95mfunction\u001b[0m\u001b[39m tensor.__rge__ at \u001b[0m\u001b[1;36m0x7fc5aa188430\u001b[0m\u001b[1m>\u001b[0m,           \u001b[34m│\u001b[0m\n",
       "\u001b[34m│\u001b[0m                         \u001b[32m'__lt__'\u001b[0m: \u001b[1m<\u001b[0m\u001b[1;95mfunction\u001b[0m\u001b[39m tensor.__lt__ at \u001b[0m\u001b[1;36m0x7fc5aa188550\u001b[0m\u001b[1m>\u001b[0m,             \u001b[34m│\u001b[0m\n",
       "\u001b[34m│\u001b[0m                         \u001b[32m'__rlt__'\u001b[0m: \u001b[1m<\u001b[0m\u001b[1;95mfunction\u001b[0m\u001b[39m tensor.__rlt__ at \u001b[0m\u001b[1;36m0x7fc5aa188670\u001b[0m\u001b[1m>\u001b[0m,           \u001b[34m│\u001b[0m\n",
       "\u001b[34m│\u001b[0m                         \u001b[32m'__le__'\u001b[0m: \u001b[1m<\u001b[0m\u001b[1;95mfunction\u001b[0m\u001b[39m tensor.__le__ at \u001b[0m\u001b[1;36m0x7fc5aa188790\u001b[0m\u001b[1m>\u001b[0m,             \u001b[34m│\u001b[0m\n",
       "\u001b[34m│\u001b[0m                         \u001b[32m'__rle__'\u001b[0m: \u001b[1m<\u001b[0m\u001b[1;95mfunction\u001b[0m\u001b[39m tensor.__rle__ at \u001b[0m\u001b[1;36m0x7fc5aa1888b0\u001b[0m\u001b[1m>\u001b[0m,           \u001b[34m│\u001b[0m\n",
       "\u001b[34m│\u001b[0m                         \u001b[32m'__eq__'\u001b[0m: \u001b[1m<\u001b[0m\u001b[1;95mfunction\u001b[0m\u001b[39m tensor.__eq__ at \u001b[0m\u001b[1;36m0x7fc5aa1889d0\u001b[0m\u001b[1m>\u001b[0m,             \u001b[34m│\u001b[0m\n",
       "\u001b[34m│\u001b[0m                         \u001b[32m'__ne__'\u001b[0m: \u001b[1m<\u001b[0m\u001b[1;95mfunction\u001b[0m\u001b[39m tensor.__ne__ at \u001b[0m\u001b[1;36m0x7fc5aa188af0\u001b[0m\u001b[1m>\u001b[0m,             \u001b[34m│\u001b[0m\n",
       "\u001b[34m│\u001b[0m                         \u001b[32m'__getitem__'\u001b[0m: \u001b[1m<\u001b[0m\u001b[1;95mfunction\u001b[0m\u001b[39m tensor.__getitem__ at \u001b[0m\u001b[1;36m0x7fc5aa188c10\u001b[0m\u001b[1m>\u001b[0m,   \u001b[34m│\u001b[0m\n",
       "\u001b[34m│\u001b[0m                         \u001b[32m'to'\u001b[0m: \u001b[1m<\u001b[0m\u001b[1;95mfunction\u001b[0m\u001b[39m tensor.to at \u001b[0m\u001b[1;36m0x7fc5aa188d30\u001b[0m\u001b[1m>\u001b[0m,                     \u001b[34m│\u001b[0m\n",
       "\u001b[34m│\u001b[0m                         \u001b[32m'__dict__'\u001b[0m: \u001b[1m<\u001b[0m\u001b[1;95mattribute\u001b[0m\u001b[39m \u001b[0m\u001b[32m'__dict__'\u001b[0m\u001b[39m of \u001b[0m\u001b[32m'tensor'\u001b[0m\u001b[39m objects\u001b[0m\u001b[1m>\u001b[0m,           \u001b[34m│\u001b[0m\n",
       "\u001b[34m│\u001b[0m                         \u001b[32m'__weakref__'\u001b[0m: \u001b[1m<\u001b[0m\u001b[1;95mattribute\u001b[0m\u001b[39m \u001b[0m\u001b[32m'__weakref__'\u001b[0m\u001b[39m of \u001b[0m\u001b[32m'tensor'\u001b[0m\u001b[39m objects\u001b[0m\u001b[1m>\u001b[0m,     \u001b[34m│\u001b[0m\n",
       "\u001b[34m│\u001b[0m                         \u001b[32m'__doc__'\u001b[0m: \u001b[3;35mNone\u001b[0m,                                                  \u001b[34m│\u001b[0m\n",
       "\u001b[34m│\u001b[0m                         \u001b[32m'__hash__'\u001b[0m: \u001b[3;35mNone\u001b[0m                                                  \u001b[34m│\u001b[0m\n",
       "\u001b[34m│\u001b[0m                     \u001b[1m}\u001b[0m\u001b[1m)\u001b[0m                                                                    \u001b[34m│\u001b[0m\n",
       "\u001b[34m│\u001b[0m           \u001b[2;3;33m__doc__\u001b[0m = \u001b[3;35mNone\u001b[0m                                                                  \u001b[34m│\u001b[0m\n",
       "\u001b[34m│\u001b[0m          \u001b[2;3;33m__hash__\u001b[0m = \u001b[3;35mNone\u001b[0m                                                                  \u001b[34m│\u001b[0m\n",
       "\u001b[34m│\u001b[0m        \u001b[2;3;33m__module__\u001b[0m = \u001b[32m'triton.language.core'\u001b[0m                                                \u001b[34m│\u001b[0m\n",
       "\u001b[34m│\u001b[0m       \u001b[2;3;33m__weakref__\u001b[0m = \u001b[1m<\u001b[0m\u001b[1;95mattribute\u001b[0m\u001b[39m \u001b[0m\u001b[32m'__weakref__'\u001b[0m\u001b[39m of \u001b[0m\u001b[32m'tensor'\u001b[0m\u001b[39m objects\u001b[0m\u001b[1m>\u001b[0m                         \u001b[34m│\u001b[0m\n",
       "\u001b[34m│\u001b[0m           \u001b[2;3;33m__add__\u001b[0m = \u001b[3;96mdef \u001b[0m\u001b[1;31m__add__\u001b[0m\u001b[1m(\u001b[0mself, other, \u001b[33m_builder\u001b[0m=\u001b[3;35mNone\u001b[0m\u001b[1m)\u001b[0m:                              \u001b[34m│\u001b[0m\n",
       "\u001b[34m│\u001b[0m           \u001b[2;3;33m__and__\u001b[0m = \u001b[3;96mdef \u001b[0m\u001b[1;31m__and__\u001b[0m\u001b[1m(\u001b[0mself, other, \u001b[33m_builder\u001b[0m=\u001b[3;35mNone\u001b[0m\u001b[1m)\u001b[0m:                              \u001b[34m│\u001b[0m\n",
       "\u001b[34m│\u001b[0m         \u001b[2;3;33m__class__\u001b[0m = \u001b[3;96mdef \u001b[0m\u001b[1;31m__class__\u001b[0m\u001b[1m(\u001b[0m\u001b[33m...\u001b[0m\u001b[1m)\u001b[0m                                                    \u001b[34m│\u001b[0m\n",
       "\u001b[34m│\u001b[0m                     \u001b[1;2;35mtype\u001b[0m\u001b[1;2m(\u001b[0m\u001b[2mobject\u001b[0m\u001b[1;2m)\u001b[0m\u001b[2m -> the object's type\u001b[0m                                     \u001b[34m│\u001b[0m\n",
       "\u001b[34m│\u001b[0m                     \u001b[1;2;35mtype\u001b[0m\u001b[1;2m(\u001b[0m\u001b[2mname, bases, dict, **kwds\u001b[0m\u001b[1;2m)\u001b[0m\u001b[2m -> a new type\u001b[0m                         \u001b[34m│\u001b[0m\n",
       "\u001b[34m│\u001b[0m       \u001b[2;3;33m__delattr__\u001b[0m = \u001b[3;96mdef \u001b[0m\u001b[1;31m__delattr__\u001b[0m\u001b[1m(\u001b[0mself, name, \u001b[35m/\u001b[0m\u001b[1m)\u001b[0m: \u001b[2mImplement \u001b[0m\u001b[1;2;35mdelattr\u001b[0m\u001b[1;2m(\u001b[0m\u001b[2mself, name\u001b[0m\u001b[1;2m)\u001b[0m\u001b[2m.\u001b[0m        \u001b[34m│\u001b[0m\n",
       "\u001b[34m│\u001b[0m           \u001b[2;3;33m__dir__\u001b[0m = \u001b[3;96mdef \u001b[0m\u001b[1;31m__dir__\u001b[0m\u001b[1m(\u001b[0mself, \u001b[35m/\u001b[0m\u001b[1m)\u001b[0m: \u001b[2mDefault \u001b[0m\u001b[1;2;35mdir\u001b[0m\u001b[1;2m(\u001b[0m\u001b[1;2m)\u001b[0m\u001b[2m implementation.\u001b[0m                   \u001b[34m│\u001b[0m\n",
       "\u001b[34m│\u001b[0m            \u001b[2;3;33m__eq__\u001b[0m = \u001b[3;96mdef \u001b[0m\u001b[1;31m__eq__\u001b[0m\u001b[1m(\u001b[0mself, other, \u001b[33m_builder\u001b[0m=\u001b[3;35mNone\u001b[0m\u001b[1m)\u001b[0m: \u001b[2mReturn \u001b[0m\u001b[2;33mself\u001b[0m\u001b[2m==value.\u001b[0m           \u001b[34m│\u001b[0m\n",
       "\u001b[34m│\u001b[0m      \u001b[2;3;33m__floordiv__\u001b[0m = \u001b[3;96mdef \u001b[0m\u001b[1;31m__floordiv__\u001b[0m\u001b[1m(\u001b[0mself, other, \u001b[33m_builder\u001b[0m=\u001b[3;35mNone\u001b[0m\u001b[1m)\u001b[0m:                         \u001b[34m│\u001b[0m\n",
       "\u001b[34m│\u001b[0m        \u001b[2;3;33m__format__\u001b[0m = \u001b[3;96mdef \u001b[0m\u001b[1;31m__format__\u001b[0m\u001b[1m(\u001b[0mself, format_spec, \u001b[35m/\u001b[0m\u001b[1m)\u001b[0m: \u001b[2mDefault object formatter.\u001b[0m       \u001b[34m│\u001b[0m\n",
       "\u001b[34m│\u001b[0m            \u001b[2;3;33m__ge__\u001b[0m = \u001b[3;96mdef \u001b[0m\u001b[1;31m__ge__\u001b[0m\u001b[1m(\u001b[0mself, other, \u001b[33m_builder\u001b[0m=\u001b[3;35mNone\u001b[0m\u001b[1m)\u001b[0m: \u001b[2mReturn self>=value.\u001b[0m           \u001b[34m│\u001b[0m\n",
       "\u001b[34m│\u001b[0m  \u001b[2;3;33m__getattribute__\u001b[0m = \u001b[3;96mdef \u001b[0m\u001b[1;31m__getattribute__\u001b[0m\u001b[1m(\u001b[0mself, name, \u001b[35m/\u001b[0m\u001b[1m)\u001b[0m: \u001b[2mReturn \u001b[0m\u001b[1;2;35mgetattr\u001b[0m\u001b[1;2m(\u001b[0m\u001b[2mself, name\u001b[0m\u001b[1;2m)\u001b[0m\u001b[2m.\u001b[0m      \u001b[34m│\u001b[0m\n",
       "\u001b[34m│\u001b[0m       \u001b[2;3;33m__getitem__\u001b[0m = \u001b[3;96mdef \u001b[0m\u001b[1;31m__getitem__\u001b[0m\u001b[1m(\u001b[0mself, slices, \u001b[33m_builder\u001b[0m=\u001b[3;35mNone\u001b[0m\u001b[1m)\u001b[0m:                         \u001b[34m│\u001b[0m\n",
       "\u001b[34m│\u001b[0m            \u001b[2;3;33m__gt__\u001b[0m = \u001b[3;96mdef \u001b[0m\u001b[1;31m__gt__\u001b[0m\u001b[1m(\u001b[0mself, other, \u001b[33m_builder\u001b[0m=\u001b[3;35mNone\u001b[0m\u001b[1m)\u001b[0m: \u001b[2mReturn self>value.\u001b[0m            \u001b[34m│\u001b[0m\n",
       "\u001b[34m│\u001b[0m          \u001b[2;3;33m__init__\u001b[0m = \u001b[3;96mdef \u001b[0m\u001b[1;31m__init__\u001b[0m\u001b[1m(\u001b[0mself, handle, type: \u001b[32m'dtype'\u001b[0m\u001b[1m)\u001b[0m: \u001b[2mInitialize self.  See \u001b[0m     \u001b[34m│\u001b[0m\n",
       "\u001b[34m│\u001b[0m                     \u001b[1;2;35mhelp\u001b[0m\u001b[1;2m(\u001b[0m\u001b[1;2;35mtype\u001b[0m\u001b[1;2m(\u001b[0m\u001b[2mself\u001b[0m\u001b[1;2m)\u001b[0m\u001b[1;2m)\u001b[0m\u001b[2m for accurate signature.\u001b[0m                              \u001b[34m│\u001b[0m\n",
       "\u001b[34m│\u001b[0m \u001b[2;3;33m__init_subclass__\u001b[0m = \u001b[3;96mdef \u001b[0m\u001b[1;31m__init_subclass__\u001b[0m\u001b[1m(\u001b[0m\u001b[33m...\u001b[0m\u001b[1m)\u001b[0m \u001b[2mThis method is called when a class is \u001b[0m     \u001b[34m│\u001b[0m\n",
       "\u001b[34m│\u001b[0m                     \u001b[2msubclassed.\u001b[0m                                                           \u001b[34m│\u001b[0m\n",
       "\u001b[34m│\u001b[0m        \u001b[2;3;33m__invert__\u001b[0m = \u001b[3;96mdef \u001b[0m\u001b[1;31m__invert__\u001b[0m\u001b[1m(\u001b[0mself, \u001b[33m_builder\u001b[0m=\u001b[3;35mNone\u001b[0m\u001b[1m)\u001b[0m:                                  \u001b[34m│\u001b[0m\n",
       "\u001b[34m│\u001b[0m            \u001b[2;3;33m__le__\u001b[0m = \u001b[3;96mdef \u001b[0m\u001b[1;31m__le__\u001b[0m\u001b[1m(\u001b[0mself, other, \u001b[33m_builder\u001b[0m=\u001b[3;35mNone\u001b[0m\u001b[1m)\u001b[0m: \u001b[2mReturn self<=value.\u001b[0m           \u001b[34m│\u001b[0m\n",
       "\u001b[34m│\u001b[0m        \u001b[2;3;33m__lshift__\u001b[0m = \u001b[3;96mdef \u001b[0m\u001b[1;31m__lshift__\u001b[0m\u001b[1m(\u001b[0mself, other, \u001b[33m_builder\u001b[0m=\u001b[3;35mNone\u001b[0m\u001b[1m)\u001b[0m:                           \u001b[34m│\u001b[0m\n",
       "\u001b[34m│\u001b[0m            \u001b[2;3;33m__lt__\u001b[0m = \u001b[3;96mdef \u001b[0m\u001b[1;31m__lt__\u001b[0m\u001b[1m(\u001b[0mself, other, \u001b[33m_builder\u001b[0m=\u001b[3;35mNone\u001b[0m\u001b[1m)\u001b[0m: \u001b[2mReturn self<value.\u001b[0m            \u001b[34m│\u001b[0m\n",
       "\u001b[34m│\u001b[0m           \u001b[2;3;33m__mod__\u001b[0m = \u001b[3;96mdef \u001b[0m\u001b[1;31m__mod__\u001b[0m\u001b[1m(\u001b[0mself, other, \u001b[33m_builder\u001b[0m=\u001b[3;35mNone\u001b[0m\u001b[1m)\u001b[0m:                              \u001b[34m│\u001b[0m\n",
       "\u001b[34m│\u001b[0m           \u001b[2;3;33m__mul__\u001b[0m = \u001b[3;96mdef \u001b[0m\u001b[1;31m__mul__\u001b[0m\u001b[1m(\u001b[0mself, other, \u001b[33m_builder\u001b[0m=\u001b[3;35mNone\u001b[0m\u001b[1m)\u001b[0m:                              \u001b[34m│\u001b[0m\n",
       "\u001b[34m│\u001b[0m            \u001b[2;3;33m__ne__\u001b[0m = \u001b[3;96mdef \u001b[0m\u001b[1;31m__ne__\u001b[0m\u001b[1m(\u001b[0mself, other, \u001b[33m_builder\u001b[0m=\u001b[3;35mNone\u001b[0m\u001b[1m)\u001b[0m: \u001b[2mReturn self!=value.\u001b[0m           \u001b[34m│\u001b[0m\n",
       "\u001b[34m│\u001b[0m           \u001b[2;3;33m__neg__\u001b[0m = \u001b[3;96mdef \u001b[0m\u001b[1;31m__neg__\u001b[0m\u001b[1m(\u001b[0mself, \u001b[33m_builder\u001b[0m=\u001b[3;35mNone\u001b[0m\u001b[1m)\u001b[0m:                                     \u001b[34m│\u001b[0m\n",
       "\u001b[34m│\u001b[0m           \u001b[2;3;33m__new__\u001b[0m = \u001b[3;96mdef \u001b[0m\u001b[1;31m__new__\u001b[0m\u001b[1m(\u001b[0m*args, **kwargs\u001b[1m)\u001b[0m: \u001b[2mCreate and return a new object.  See \u001b[0m   \u001b[34m│\u001b[0m\n",
       "\u001b[34m│\u001b[0m                     \u001b[1;2;35mhelp\u001b[0m\u001b[1;2m(\u001b[0m\u001b[2mtype\u001b[0m\u001b[1;2m)\u001b[0m\u001b[2m for accurate signature.\u001b[0m                                    \u001b[34m│\u001b[0m\n",
       "\u001b[34m│\u001b[0m            \u001b[2;3;33m__or__\u001b[0m = \u001b[3;96mdef \u001b[0m\u001b[1;31m__or__\u001b[0m\u001b[1m(\u001b[0mself, other, \u001b[33m_builder\u001b[0m=\u001b[3;35mNone\u001b[0m\u001b[1m)\u001b[0m:                               \u001b[34m│\u001b[0m\n",
       "\u001b[34m│\u001b[0m          \u001b[2;3;33m__radd__\u001b[0m = \u001b[3;96mdef \u001b[0m\u001b[1;31m__radd__\u001b[0m\u001b[1m(\u001b[0mself, other, \u001b[33m_builder\u001b[0m=\u001b[3;35mNone\u001b[0m\u001b[1m)\u001b[0m:                             \u001b[34m│\u001b[0m\n",
       "\u001b[34m│\u001b[0m        \u001b[2;3;33m__reduce__\u001b[0m = \u001b[3;96mdef \u001b[0m\u001b[1;31m__reduce__\u001b[0m\u001b[1m(\u001b[0mself, \u001b[35m/\u001b[0m\u001b[1m)\u001b[0m: \u001b[2mHelper for pickle.\u001b[0m                           \u001b[34m│\u001b[0m\n",
       "\u001b[34m│\u001b[0m     \u001b[2;3;33m__reduce_ex__\u001b[0m = \u001b[3;96mdef \u001b[0m\u001b[1;31m__reduce_ex__\u001b[0m\u001b[1m(\u001b[0mself, protocol, \u001b[35m/\u001b[0m\u001b[1m)\u001b[0m: \u001b[2mHelper for pickle.\u001b[0m              \u001b[34m│\u001b[0m\n",
       "\u001b[34m│\u001b[0m          \u001b[2;3;33m__repr__\u001b[0m = \u001b[3;96mdef \u001b[0m\u001b[1;31m__repr__\u001b[0m\u001b[1m(\u001b[0mself, \u001b[35m/\u001b[0m\u001b[1m)\u001b[0m: \u001b[2mReturn \u001b[0m\u001b[1;2;35mrepr\u001b[0m\u001b[1;2m(\u001b[0m\u001b[2mself\u001b[0m\u001b[1;2m)\u001b[0m\u001b[2m.\u001b[0m                             \u001b[34m│\u001b[0m\n",
       "\u001b[34m│\u001b[0m           \u001b[2;3;33m__rge__\u001b[0m = \u001b[3;96mdef \u001b[0m\u001b[1;31m__rge__\u001b[0m\u001b[1m(\u001b[0mself, other, \u001b[33m_builder\u001b[0m=\u001b[3;35mNone\u001b[0m\u001b[1m)\u001b[0m:                              \u001b[34m│\u001b[0m\n",
       "\u001b[34m│\u001b[0m           \u001b[2;3;33m__rgt__\u001b[0m = \u001b[3;96mdef \u001b[0m\u001b[1;31m__rgt__\u001b[0m\u001b[1m(\u001b[0mself, other, \u001b[33m_builder\u001b[0m=\u001b[3;35mNone\u001b[0m\u001b[1m)\u001b[0m:                              \u001b[34m│\u001b[0m\n",
       "\u001b[34m│\u001b[0m           \u001b[2;3;33m__rle__\u001b[0m = \u001b[3;96mdef \u001b[0m\u001b[1;31m__rle__\u001b[0m\u001b[1m(\u001b[0mself, other, \u001b[33m_builder\u001b[0m=\u001b[3;35mNone\u001b[0m\u001b[1m)\u001b[0m:                              \u001b[34m│\u001b[0m\n",
       "\u001b[34m│\u001b[0m           \u001b[2;3;33m__rlt__\u001b[0m = \u001b[3;96mdef \u001b[0m\u001b[1;31m__rlt__\u001b[0m\u001b[1m(\u001b[0mself, other, \u001b[33m_builder\u001b[0m=\u001b[3;35mNone\u001b[0m\u001b[1m)\u001b[0m:                              \u001b[34m│\u001b[0m\n",
       "\u001b[34m│\u001b[0m          \u001b[2;3;33m__rmod__\u001b[0m = \u001b[3;96mdef \u001b[0m\u001b[1;31m__rmod__\u001b[0m\u001b[1m(\u001b[0mself, other, \u001b[33m_builder\u001b[0m=\u001b[3;35mNone\u001b[0m\u001b[1m)\u001b[0m:                             \u001b[34m│\u001b[0m\n",
       "\u001b[34m│\u001b[0m          \u001b[2;3;33m__rmul__\u001b[0m = \u001b[3;96mdef \u001b[0m\u001b[1;31m__rmul__\u001b[0m\u001b[1m(\u001b[0mself, other, \u001b[33m_builder\u001b[0m=\u001b[3;35mNone\u001b[0m\u001b[1m)\u001b[0m:                             \u001b[34m│\u001b[0m\n",
       "\u001b[34m│\u001b[0m        \u001b[2;3;33m__rshift__\u001b[0m = \u001b[3;96mdef \u001b[0m\u001b[1;31m__rshift__\u001b[0m\u001b[1m(\u001b[0mself, other, \u001b[33m_builder\u001b[0m=\u001b[3;35mNone\u001b[0m\u001b[1m)\u001b[0m:                           \u001b[34m│\u001b[0m\n",
       "\u001b[34m│\u001b[0m          \u001b[2;3;33m__rsub__\u001b[0m = \u001b[3;96mdef \u001b[0m\u001b[1;31m__rsub__\u001b[0m\u001b[1m(\u001b[0mself, other, \u001b[33m_builder\u001b[0m=\u001b[3;35mNone\u001b[0m\u001b[1m)\u001b[0m:                             \u001b[34m│\u001b[0m\n",
       "\u001b[34m│\u001b[0m      \u001b[2;3;33m__rtruediv__\u001b[0m = \u001b[3;96mdef \u001b[0m\u001b[1;31m__rtruediv__\u001b[0m\u001b[1m(\u001b[0mself, other, \u001b[33m_builder\u001b[0m=\u001b[3;35mNone\u001b[0m\u001b[1m)\u001b[0m:                         \u001b[34m│\u001b[0m\n",
       "\u001b[34m│\u001b[0m       \u001b[2;3;33m__setattr__\u001b[0m = \u001b[3;96mdef \u001b[0m\u001b[1;31m__setattr__\u001b[0m\u001b[1m(\u001b[0mself, name, value, \u001b[35m/\u001b[0m\u001b[1m)\u001b[0m: \u001b[2mImplement \u001b[0m\u001b[1;2;35msetattr\u001b[0m\u001b[1;2m(\u001b[0m\u001b[2mself, name, \u001b[0m \u001b[34m│\u001b[0m\n",
       "\u001b[34m│\u001b[0m                     \u001b[2mvalue\u001b[0m\u001b[1;2m)\u001b[0m\u001b[2m.\u001b[0m                                                               \u001b[34m│\u001b[0m\n",
       "\u001b[34m│\u001b[0m        \u001b[2;3;33m__sizeof__\u001b[0m = \u001b[3;96mdef \u001b[0m\u001b[1;31m__sizeof__\u001b[0m\u001b[1m(\u001b[0mself, \u001b[35m/\u001b[0m\u001b[1m)\u001b[0m: \u001b[2mSize of object in memory, in bytes.\u001b[0m          \u001b[34m│\u001b[0m\n",
       "\u001b[34m│\u001b[0m           \u001b[2;3;33m__str__\u001b[0m = \u001b[3;96mdef \u001b[0m\u001b[1;31m__str__\u001b[0m\u001b[1m(\u001b[0mself\u001b[1m)\u001b[0m -> \u001b[32m'str'\u001b[0m: \u001b[2mReturn \u001b[0m\u001b[1;2;35mstr\u001b[0m\u001b[1;2m(\u001b[0m\u001b[2mself\u001b[0m\u001b[1;2m)\u001b[0m\u001b[2m.\u001b[0m                         \u001b[34m│\u001b[0m\n",
       "\u001b[34m│\u001b[0m           \u001b[2;3;33m__sub__\u001b[0m = \u001b[3;96mdef \u001b[0m\u001b[1;31m__sub__\u001b[0m\u001b[1m(\u001b[0mself, other, \u001b[33m_builder\u001b[0m=\u001b[3;35mNone\u001b[0m\u001b[1m)\u001b[0m:                              \u001b[34m│\u001b[0m\n",
       "\u001b[34m│\u001b[0m  \u001b[2;3;33m__subclasshook__\u001b[0m = \u001b[3;96mdef \u001b[0m\u001b[1;31m__subclasshook__\u001b[0m\u001b[1m(\u001b[0m\u001b[33m...\u001b[0m\u001b[1m)\u001b[0m \u001b[2mAbstract classes can override this to \u001b[0m      \u001b[34m│\u001b[0m\n",
       "\u001b[34m│\u001b[0m                     \u001b[2mcustomize \u001b[0m\u001b[1;2;35missubclass\u001b[0m\u001b[1;2m(\u001b[0m\u001b[1;2m)\u001b[0m\u001b[2m.\u001b[0m                                               \u001b[34m│\u001b[0m\n",
       "\u001b[34m│\u001b[0m                \u001b[3;33mto\u001b[0m = \u001b[3;96mdef \u001b[0m\u001b[1;31mto\u001b[0m\u001b[1m(\u001b[0mself, dtype, \u001b[33mbitcast\u001b[0m=\u001b[3;91mFalse\u001b[0m, \u001b[33m_builder\u001b[0m=\u001b[3;35mNone\u001b[0m\u001b[1m)\u001b[0m:                    \u001b[34m│\u001b[0m\n",
       "\u001b[34m│\u001b[0m         \u001b[3;33m_to_dtype\u001b[0m = \u001b[3;96mdef \u001b[0m\u001b[1;31m_to_dtype\u001b[0m\u001b[1m(\u001b[0mir_type\u001b[1m)\u001b[0m:                                               \u001b[34m│\u001b[0m\n",
       "\u001b[34m│\u001b[0m       \u001b[2;3;33m__truediv__\u001b[0m = \u001b[3;96mdef \u001b[0m\u001b[1;31m__truediv__\u001b[0m\u001b[1m(\u001b[0mself, other, \u001b[33m_builder\u001b[0m=\u001b[3;35mNone\u001b[0m\u001b[1m)\u001b[0m:                          \u001b[34m│\u001b[0m\n",
       "\u001b[34m│\u001b[0m           \u001b[2;3;33m__xor__\u001b[0m = \u001b[3;96mdef \u001b[0m\u001b[1;31m__xor__\u001b[0m\u001b[1m(\u001b[0mself, other, \u001b[33m_builder\u001b[0m=\u001b[3;35mNone\u001b[0m\u001b[1m)\u001b[0m:                              \u001b[34m│\u001b[0m\n",
       "\u001b[34m╰───────────────────────────────────────────────────────────────────────────────────────────╯\u001b[0m\n"
      ]
     },
     "metadata": {},
     "output_type": "display_data"
    }
   ],
   "source": [
    "inspect(tl.tensor, all=True)"
   ]
  },
  {
   "cell_type": "code",
   "execution_count": 74,
   "id": "55e5bfe5",
   "metadata": {},
   "outputs": [
    {
     "ename": "NameError",
     "evalue": "name 'pid' is not defined",
     "output_type": "error",
     "traceback": [
      "\u001b[0;31m---------------------------------------------------------------------------\u001b[0m",
      "\u001b[0;31mNameError\u001b[0m                                 Traceback (most recent call last)",
      "Input \u001b[0;32mIn [74]\u001b[0m, in \u001b[0;36m<cell line: 5>\u001b[0;34m()\u001b[0m\n\u001b[1;32m      1\u001b[0m \u001b[38;5;66;03m# Back to our kernel\u001b[39;00m\n\u001b[1;32m      2\u001b[0m \n\u001b[1;32m      3\u001b[0m \u001b[38;5;66;03m# We multiply a `tl.tensor` with a constexpr block size\u001b[39;00m\n\u001b[0;32m----> 5\u001b[0m block_start \u001b[38;5;241m=\u001b[39m \u001b[43mpid\u001b[49m \u001b[38;5;241m*\u001b[39m BLOCK_SIZE\n",
      "\u001b[0;31mNameError\u001b[0m: name 'pid' is not defined"
     ]
    }
   ],
   "source": [
    "# Back to our kernel\n",
    "\n",
    "# We multiply a `tl.tensor` with a constexpr block size\n",
    "\n",
    "block_start = pid * BLOCK_SIZE\n"
   ]
  },
  {
   "cell_type": "code",
   "execution_count": 68,
   "id": "4b62d854",
   "metadata": {},
   "outputs": [
    {
     "ename": "AttributeError",
     "evalue": "'function' object has no attribute 'get_range'",
     "output_type": "error",
     "traceback": [
      "\u001b[0;31m---------------------------------------------------------------------------\u001b[0m",
      "\u001b[0;31mAttributeError\u001b[0m                            Traceback (most recent call last)",
      "Input \u001b[0;32mIn [68]\u001b[0m, in \u001b[0;36m<cell line: 3>\u001b[0;34m()\u001b[0m\n\u001b[1;32m      1\u001b[0m BLOCK_SIZE \u001b[38;5;241m=\u001b[39m \u001b[38;5;241m1024\u001b[39m\n\u001b[1;32m      2\u001b[0m block_start \u001b[38;5;241m=\u001b[39m \u001b[38;5;241m0\u001b[39m\n\u001b[0;32m----> 3\u001b[0m offsets \u001b[38;5;241m=\u001b[39m block_start \u001b[38;5;241m+\u001b[39m \u001b[43mtl\u001b[49m\u001b[38;5;241;43m.\u001b[39;49m\u001b[43marange\u001b[49m\u001b[43m(\u001b[49m\u001b[38;5;241;43m0\u001b[39;49m\u001b[43m,\u001b[49m\u001b[43m \u001b[49m\u001b[43mBLOCK_SIZE\u001b[49m\u001b[43m,\u001b[49m\u001b[43m \u001b[49m\u001b[43m_builder\u001b[49m\u001b[38;5;241;43m=\u001b[39;49m\u001b[43m \u001b[49m\u001b[38;5;28;43;01mlambda\u001b[39;49;00m\u001b[43m \u001b[49m\u001b[43m:\u001b[49m\u001b[43m \u001b[49m\u001b[43m(\u001b[49m\u001b[43m)\u001b[49m\u001b[43m)\u001b[49m\n",
      "File \u001b[0;32m~/anaconda3/envs/triton/lib/python3.9/site-packages/triton/language/core.py:44\u001b[0m, in \u001b[0;36mbuiltin.<locals>.wrapper\u001b[0;34m(*args, **kwargs)\u001b[0m\n\u001b[1;32m     41\u001b[0m \u001b[38;5;28;01mif\u001b[39;00m \u001b[38;5;124m'\u001b[39m\u001b[38;5;124m_builder\u001b[39m\u001b[38;5;124m'\u001b[39m \u001b[38;5;129;01mnot\u001b[39;00m \u001b[38;5;129;01min\u001b[39;00m kwargs \u001b[38;5;129;01mor\u001b[39;00m \\\n\u001b[1;32m     42\u001b[0m    kwargs[\u001b[38;5;124m'\u001b[39m\u001b[38;5;124m_builder\u001b[39m\u001b[38;5;124m'\u001b[39m] \u001b[38;5;129;01mis\u001b[39;00m \u001b[38;5;28;01mNone\u001b[39;00m:\n\u001b[1;32m     43\u001b[0m     \u001b[38;5;28;01mraise\u001b[39;00m \u001b[38;5;167;01mValueError\u001b[39;00m(\u001b[38;5;124m\"\u001b[39m\u001b[38;5;124mDid you forget to add @triton.jit ? (`_builder` argument must be provided outside of JIT functions.)\u001b[39m\u001b[38;5;124m\"\u001b[39m)\n\u001b[0;32m---> 44\u001b[0m \u001b[38;5;28;01mreturn\u001b[39;00m \u001b[43mfn\u001b[49m\u001b[43m(\u001b[49m\u001b[38;5;241;43m*\u001b[39;49m\u001b[43margs\u001b[49m\u001b[43m,\u001b[49m\u001b[43m \u001b[49m\u001b[38;5;241;43m*\u001b[39;49m\u001b[38;5;241;43m*\u001b[39;49m\u001b[43mkwargs\u001b[49m\u001b[43m)\u001b[49m\n",
      "File \u001b[0;32m~/anaconda3/envs/triton/lib/python3.9/site-packages/triton/language/core.py:622\u001b[0m, in \u001b[0;36marange\u001b[0;34m(start, end, _builder)\u001b[0m\n\u001b[1;32m    620\u001b[0m start \u001b[38;5;241m=\u001b[39m _constexpr_to_value(start)\n\u001b[1;32m    621\u001b[0m end \u001b[38;5;241m=\u001b[39m _constexpr_to_value(end)\n\u001b[0;32m--> 622\u001b[0m \u001b[38;5;28;01mreturn\u001b[39;00m \u001b[43msemantic\u001b[49m\u001b[38;5;241;43m.\u001b[39;49m\u001b[43marange\u001b[49m\u001b[43m(\u001b[49m\u001b[43mstart\u001b[49m\u001b[43m,\u001b[49m\u001b[43m \u001b[49m\u001b[43mend\u001b[49m\u001b[43m,\u001b[49m\u001b[43m \u001b[49m\u001b[43m_builder\u001b[49m\u001b[43m)\u001b[49m\n",
      "File \u001b[0;32m~/anaconda3/envs/triton/lib/python3.9/site-packages/triton/language/semantic.py:441\u001b[0m, in \u001b[0;36marange\u001b[0;34m(start, end, builder)\u001b[0m\n\u001b[1;32m    439\u001b[0m shape \u001b[38;5;241m=\u001b[39m [end \u001b[38;5;241m-\u001b[39m start]\n\u001b[1;32m    440\u001b[0m ret_ty \u001b[38;5;241m=\u001b[39m tl\u001b[38;5;241m.\u001b[39mblock_type(tl\u001b[38;5;241m.\u001b[39mint32, shape)\n\u001b[0;32m--> 441\u001b[0m \u001b[38;5;28;01mreturn\u001b[39;00m tl\u001b[38;5;241m.\u001b[39mtensor(\u001b[43mbuilder\u001b[49m\u001b[38;5;241;43m.\u001b[39;49m\u001b[43mget_range\u001b[49m(start, end), ret_ty)\n",
      "\u001b[0;31mAttributeError\u001b[0m: 'function' object has no attribute 'get_range'"
     ]
    }
   ],
   "source": [
    "BLOCK_SIZE = 1024\n",
    "block_start = 0\n",
    "offsets = block_start + tl.arange(0, BLOCK_SIZE, _builder= lambda : ())\n"
   ]
  },
  {
   "cell_type": "code",
   "execution_count": 72,
   "id": "74122bdb",
   "metadata": {},
   "outputs": [
    {
     "ename": "TypeError",
     "evalue": "arange() missing 1 required positional argument: 'end'",
     "output_type": "error",
     "traceback": [
      "\u001b[0;31m---------------------------------------------------------------------------\u001b[0m",
      "\u001b[0;31mTypeError\u001b[0m                                 Traceback (most recent call last)",
      "Input \u001b[0;32mIn [72]\u001b[0m, in \u001b[0;36m<cell line: 2>\u001b[0;34m()\u001b[0m\n\u001b[1;32m      1\u001b[0m \u001b[38;5;66;03m# How do you pass in a custom builder to debug code locally\u001b[39;00m\n\u001b[0;32m----> 2\u001b[0m \u001b[43mtl\u001b[49m\u001b[38;5;241;43m.\u001b[39;49m\u001b[43marange\u001b[49m\u001b[43m(\u001b[49m\u001b[38;5;241;43m5\u001b[39;49m\u001b[43m,\u001b[49m\u001b[43m \u001b[49m\u001b[43m_builder\u001b[49m\u001b[38;5;241;43m=\u001b[39;49m\u001b[43m \u001b[49m\u001b[38;5;28;43mrange\u001b[39;49m\u001b[43m(\u001b[49m\u001b[38;5;241;43m0\u001b[39;49m\u001b[43m,\u001b[49m\u001b[38;5;241;43m5\u001b[39;49m\u001b[43m)\u001b[49m\u001b[43m)\u001b[49m\n",
      "File \u001b[0;32m~/anaconda3/envs/triton/lib/python3.9/site-packages/triton/language/core.py:44\u001b[0m, in \u001b[0;36mbuiltin.<locals>.wrapper\u001b[0;34m(*args, **kwargs)\u001b[0m\n\u001b[1;32m     41\u001b[0m \u001b[38;5;28;01mif\u001b[39;00m \u001b[38;5;124m'\u001b[39m\u001b[38;5;124m_builder\u001b[39m\u001b[38;5;124m'\u001b[39m \u001b[38;5;129;01mnot\u001b[39;00m \u001b[38;5;129;01min\u001b[39;00m kwargs \u001b[38;5;129;01mor\u001b[39;00m \\\n\u001b[1;32m     42\u001b[0m    kwargs[\u001b[38;5;124m'\u001b[39m\u001b[38;5;124m_builder\u001b[39m\u001b[38;5;124m'\u001b[39m] \u001b[38;5;129;01mis\u001b[39;00m \u001b[38;5;28;01mNone\u001b[39;00m:\n\u001b[1;32m     43\u001b[0m     \u001b[38;5;28;01mraise\u001b[39;00m \u001b[38;5;167;01mValueError\u001b[39;00m(\u001b[38;5;124m\"\u001b[39m\u001b[38;5;124mDid you forget to add @triton.jit ? (`_builder` argument must be provided outside of JIT functions.)\u001b[39m\u001b[38;5;124m\"\u001b[39m)\n\u001b[0;32m---> 44\u001b[0m \u001b[38;5;28;01mreturn\u001b[39;00m \u001b[43mfn\u001b[49m\u001b[43m(\u001b[49m\u001b[38;5;241;43m*\u001b[39;49m\u001b[43margs\u001b[49m\u001b[43m,\u001b[49m\u001b[43m \u001b[49m\u001b[38;5;241;43m*\u001b[39;49m\u001b[38;5;241;43m*\u001b[39;49m\u001b[43mkwargs\u001b[49m\u001b[43m)\u001b[49m\n",
      "\u001b[0;31mTypeError\u001b[0m: arange() missing 1 required positional argument: 'end'"
     ]
    }
   ],
   "source": [
    "# How do you pass in a custom builder to debug code locally\n",
    "tl.arange(5, _builder= range(0,5))"
   ]
  },
  {
   "cell_type": "code",
   "execution_count": 66,
   "id": "7f3f4f9f",
   "metadata": {},
   "outputs": [
    {
     "name": "stdout",
     "output_type": "stream",
     "text": [
      "('@builtin\\n'\n",
      " 'def load(pointer, mask=None, other=None, cache_modifier=\"\", '\n",
      " 'eviction_policy=\"\", volatile=False, _builder=None):\\n'\n",
      " '    \"\"\"\\n'\n",
      " '    Return a tensor of data whose values are, elementwise, loaded from '\n",
      " 'memory at location defined by :code:`pointer`.\\n'\n",
      " '\\n'\n",
      " '    :code:`mask` and :code:`other` are implicitly broadcast to '\n",
      " ':code:`pointer.shape`.\\n'\n",
      " '\\n'\n",
      " '    :code:`other` is implicitly typecast to '\n",
      " ':code:`pointer.dtype.element_ty`.\\n'\n",
      " '\\n'\n",
      " '    :param pointer: Pointers to the data to be loaded.\\n'\n",
      " '    :type pointer: Block of dtype=triton.PointerDType\\n'\n",
      " '    :param mask: if mask[idx] is false, do not load the data at address '\n",
      " ':code:`pointer[idx]`.\\n'\n",
      " '    :type mask: Block of triton.int1, optional\\n'\n",
      " '    :param other: if mask[idx] is false, return other[idx]\\n'\n",
      " '    :type other: Block, optional\\n'\n",
      " '    :param cache_modifier: changes cache option in nvidia ptx\\n'\n",
      " \"    'type cache_modifier: str, optional\\n\"\n",
      " '    \"\"\"\\n'\n",
      " '    # mask, other can be constexpr\\n'\n",
      " '    if mask is not None:\\n'\n",
      " '        mask = _to_tensor(mask, _builder)\\n'\n",
      " '    if other is not None:\\n'\n",
      " '        other = _to_tensor(other, _builder)\\n'\n",
      " '    cache_modifier = _constexpr_to_value(cache_modifier)\\n'\n",
      " '    eviction_policy = _constexpr_to_value(eviction_policy)\\n'\n",
      " '    volatile = _constexpr_to_value(volatile)\\n'\n",
      " '    return semantic.load(pointer, mask, other, cache_modifier, '\n",
      " 'eviction_policy, volatile, _builder)\\n')\n"
     ]
    }
   ],
   "source": [
    "pp.pprint(getsource(tl.load))"
   ]
  },
  {
   "cell_type": "code",
   "execution_count": 67,
   "id": "38b65129",
   "metadata": {},
   "outputs": [
    {
     "name": "stdout",
     "output_type": "stream",
     "text": [
      "('@builtin\\n'\n",
      " 'def store(pointer, value, mask=None, _builder=None):\\n'\n",
      " '    \"\"\"\\n'\n",
      " '    Stores :code:`value` tensor of elements in memory, element-wise, at the '\n",
      " 'memory locations specified by :code:`pointer`.\\n'\n",
      " '\\n'\n",
      " '    :code:`value` is implicitly broadcast to :code:`pointer.shape` and '\n",
      " 'typecast to :code:`pointer.dtype.element_ty`.\\n'\n",
      " '\\n'\n",
      " '    :param pointer: The memory locations where the elements of :code:`value` '\n",
      " 'are stored.\\n'\n",
      " '    :type pointer: Block of dtype=triton.PointerDType\\n'\n",
      " '    :param value: The tensor of elements to be stored.\\n'\n",
      " '    :type value: Block\\n'\n",
      " '    :param mask: If mask[idx] is false, do not store :code:`value[idx]` at '\n",
      " ':code:`pointer[idx]`.\\n'\n",
      " '    :type mask: Block of triton.int1, optional\\n'\n",
      " '    \"\"\"\\n'\n",
      " '    # value can be constexpr\\n'\n",
      " '    value = _to_tensor(value, _builder)\\n'\n",
      " '    if mask is not None:\\n'\n",
      " '        mask = _to_tensor(mask, _builder)\\n'\n",
      " '    return semantic.store(pointer, value, mask, _builder)\\n')\n"
     ]
    }
   ],
   "source": [
    "pp.pprint(getsource(tl.store))"
   ]
  },
  {
   "cell_type": "code",
   "execution_count": 73,
   "id": "1c8b10a3",
   "metadata": {},
   "outputs": [],
   "source": [
    "@triton.jit\n",
    "def add_kernel(\n",
    "    x_ptr,  # *Pointer* to first input vector\n",
    "    y_ptr,  # *Pointer* to second input vector\n",
    "    output_ptr,  # *Pointer* to output vector\n",
    "    n_elements,  # Size of the vector\n",
    "    BLOCK_SIZE: tl.constexpr,  # Number of elements each program should process\n",
    "                 # NOTE: `constexpr` so it can be used as a shape value\n",
    "):\n",
    "    # There are multiple 'program's processing different data. We identify which program\n",
    "    # we are here\n",
    "    pid = tl.program_id(axis=0)  # We use a 1D launch grid so axis is 0\n",
    "    \n",
    "    print(type(pid))\n",
    "    \n",
    "    # This program will process inputs that are offset from the initial data.\n",
    "    # for instance, if you had a vector of length 256 and block_size of 64, the programs\n",
    "    # would each access the elements [0:64, 64:128, 128:192, 192:256].\n",
    "    # Note that offsets is a list of pointers\n",
    "    block_start = pid * BLOCK_SIZE\n",
    "    offsets = block_start + tl.arange(0, BLOCK_SIZE)\n",
    "    # Create a mask to guard memory operations against out-of-bounds accesses\n",
    "    mask = offsets < n_elements\n",
    "    # Load x and y from DRAM, masking out any extra elements in case the input is not a\n",
    "    # multiple of the block size\n",
    "    x = tl.load(x_ptr + offsets, mask=mask)\n",
    "    y = tl.load(y_ptr + offsets, mask=mask)\n",
    "    output = x + y\n",
    "    # Write x + y back to DRAM\n",
    "    tl.store(output_ptr + offsets, output, mask=mask)"
   ]
  },
  {
   "cell_type": "code",
   "execution_count": null,
   "id": "12c4295e",
   "metadata": {},
   "outputs": [],
   "source": []
  }
 ],
 "metadata": {
  "kernelspec": {
   "display_name": "Python 3 (ipykernel)",
   "language": "python",
   "name": "python3"
  },
  "language_info": {
   "codemirror_mode": {
    "name": "ipython",
    "version": 3
   },
   "file_extension": ".py",
   "mimetype": "text/x-python",
   "name": "python",
   "nbconvert_exporter": "python",
   "pygments_lexer": "ipython3",
   "version": "3.9.12"
  }
 },
 "nbformat": 4,
 "nbformat_minor": 5
}
